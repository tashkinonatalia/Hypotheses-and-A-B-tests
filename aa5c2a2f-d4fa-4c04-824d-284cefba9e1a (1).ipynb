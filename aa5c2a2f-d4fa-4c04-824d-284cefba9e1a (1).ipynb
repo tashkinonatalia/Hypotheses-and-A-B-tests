{
 "cells": [
  {
   "cell_type": "markdown",
   "metadata": {},
   "source": [
    "# Проект: приоритизация гипотез и А/В тесты"
   ]
  },
  {
   "cell_type": "markdown",
   "metadata": {},
   "source": [
    "### Описание проекта\n",
    "#### Контекст\n",
    "Вы — аналитик крупного интернет-магазина. Вместе с отделом маркетинга вы подготовили список гипотез для увеличения выручки.\n",
    "Приоритизируйте гипотезы, запустите A/B-тест и проанализируйте результаты. "
   ]
  },
  {
   "cell_type": "markdown",
   "metadata": {},
   "source": [
    "#### Описание данных\n",
    "**Данные для первой части**  \n",
    "*Файл /datasets/hypothesis.csv*   \n",
    "Hypothesis — краткое описание гипотезы;  \n",
    "Reach — охват пользователей по 10-балльной шкале;  \n",
    "Impact — влияние на пользователей по 10-балльной шкале;  \n",
    "Confidence — уверенность в гипотезе по 10-балльной шкале;  \n",
    "Efforts — затраты ресурсов на проверку гипотезы по 10-балльной шкале. Чем больше значение Efforts, тем дороже проверка гипотезы.  \n",
    "\n",
    "**Данные для второй части**  \n",
    "*Файл /datasets/orders.csv*    \n",
    "transactionId — идентификатор заказа;  \n",
    "visitorId — идентификатор пользователя, совершившего заказ;  \n",
    "date — дата, когда был совершён заказ;  \n",
    "revenue — выручка заказа;  \n",
    "group — группа A/B-теста, в которую попал заказ.  \n",
    "\n",
    "*Файл /datasets/visitors.csv*      \n",
    "date — дата;  \n",
    "group — группа A/B-теста;  \n",
    "visitors — количество пользователей в указанную дату в указанной группе A/B-теста.  "
   ]
  },
  {
   "cell_type": "markdown",
   "metadata": {},
   "source": [
    "### Загрузим данные для 1 части проекта"
   ]
  },
  {
   "cell_type": "code",
   "execution_count": 1,
   "metadata": {},
   "outputs": [],
   "source": [
    "# загружаем библиотеки\n",
    "import pandas as pd\n",
    "import numpy as np\n",
    "import matplotlib as mpl\n",
    "import matplotlib.pyplot as plt\n",
    "import seaborn as sns\n",
    "from scipy import stats as st"
   ]
  },
  {
   "cell_type": "code",
   "execution_count": 2,
   "metadata": {},
   "outputs": [],
   "source": [
    "hypothesis = pd.read_csv('/datasets/hypothesis.csv') "
   ]
  },
  {
   "cell_type": "code",
   "execution_count": 3,
   "metadata": {},
   "outputs": [
    {
     "data": {
      "text/html": [
       "<div>\n",
       "<style scoped>\n",
       "    .dataframe tbody tr th:only-of-type {\n",
       "        vertical-align: middle;\n",
       "    }\n",
       "\n",
       "    .dataframe tbody tr th {\n",
       "        vertical-align: top;\n",
       "    }\n",
       "\n",
       "    .dataframe thead th {\n",
       "        text-align: right;\n",
       "    }\n",
       "</style>\n",
       "<table border=\"1\" class=\"dataframe\">\n",
       "  <thead>\n",
       "    <tr style=\"text-align: right;\">\n",
       "      <th></th>\n",
       "      <th>Hypothesis</th>\n",
       "      <th>Reach</th>\n",
       "      <th>Impact</th>\n",
       "      <th>Confidence</th>\n",
       "      <th>Efforts</th>\n",
       "    </tr>\n",
       "  </thead>\n",
       "  <tbody>\n",
       "    <tr>\n",
       "      <th>0</th>\n",
       "      <td>Добавить два новых канала привлечения трафика,...</td>\n",
       "      <td>3</td>\n",
       "      <td>10</td>\n",
       "      <td>8</td>\n",
       "      <td>6</td>\n",
       "    </tr>\n",
       "    <tr>\n",
       "      <th>1</th>\n",
       "      <td>Запустить собственную службу доставки, что сок...</td>\n",
       "      <td>2</td>\n",
       "      <td>5</td>\n",
       "      <td>4</td>\n",
       "      <td>10</td>\n",
       "    </tr>\n",
       "    <tr>\n",
       "      <th>2</th>\n",
       "      <td>Добавить блоки рекомендаций товаров на сайт ин...</td>\n",
       "      <td>8</td>\n",
       "      <td>3</td>\n",
       "      <td>7</td>\n",
       "      <td>3</td>\n",
       "    </tr>\n",
       "    <tr>\n",
       "      <th>3</th>\n",
       "      <td>Изменить структура категорий, что увеличит кон...</td>\n",
       "      <td>8</td>\n",
       "      <td>3</td>\n",
       "      <td>3</td>\n",
       "      <td>8</td>\n",
       "    </tr>\n",
       "    <tr>\n",
       "      <th>4</th>\n",
       "      <td>Изменить цвет фона главной страницы, чтобы уве...</td>\n",
       "      <td>3</td>\n",
       "      <td>1</td>\n",
       "      <td>1</td>\n",
       "      <td>1</td>\n",
       "    </tr>\n",
       "  </tbody>\n",
       "</table>\n",
       "</div>"
      ],
      "text/plain": [
       "                                          Hypothesis  Reach  Impact  \\\n",
       "0  Добавить два новых канала привлечения трафика,...      3      10   \n",
       "1  Запустить собственную службу доставки, что сок...      2       5   \n",
       "2  Добавить блоки рекомендаций товаров на сайт ин...      8       3   \n",
       "3  Изменить структура категорий, что увеличит кон...      8       3   \n",
       "4  Изменить цвет фона главной страницы, чтобы уве...      3       1   \n",
       "\n",
       "   Confidence  Efforts  \n",
       "0           8        6  \n",
       "1           4       10  \n",
       "2           7        3  \n",
       "3           3        8  \n",
       "4           1        1  "
      ]
     },
     "execution_count": 3,
     "metadata": {},
     "output_type": "execute_result"
    }
   ],
   "source": [
    "hypothesis.head()"
   ]
  },
  {
   "cell_type": "markdown",
   "metadata": {},
   "source": [
    "#### Предобработка данных"
   ]
  },
  {
   "cell_type": "code",
   "execution_count": 4,
   "metadata": {},
   "outputs": [
    {
     "name": "stdout",
     "output_type": "stream",
     "text": [
      "<class 'pandas.core.frame.DataFrame'>\n",
      "RangeIndex: 9 entries, 0 to 8\n",
      "Data columns (total 5 columns):\n",
      " #   Column      Non-Null Count  Dtype \n",
      "---  ------      --------------  ----- \n",
      " 0   Hypothesis  9 non-null      object\n",
      " 1   Reach       9 non-null      int64 \n",
      " 2   Impact      9 non-null      int64 \n",
      " 3   Confidence  9 non-null      int64 \n",
      " 4   Efforts     9 non-null      int64 \n",
      "dtypes: int64(4), object(1)\n",
      "memory usage: 488.0+ bytes\n"
     ]
    }
   ],
   "source": [
    "hypothesis.info()"
   ]
  },
  {
   "cell_type": "code",
   "execution_count": 5,
   "metadata": {},
   "outputs": [
    {
     "data": {
      "text/plain": [
       "Hypothesis    0\n",
       "Reach         0\n",
       "Impact        0\n",
       "Confidence    0\n",
       "Efforts       0\n",
       "dtype: int64"
      ]
     },
     "execution_count": 5,
     "metadata": {},
     "output_type": "execute_result"
    }
   ],
   "source": [
    "hypothesis.isna().sum()"
   ]
  },
  {
   "cell_type": "markdown",
   "metadata": {},
   "source": [
    "**Вывод**  \n",
    "Данные чистые и готовы к исследованию.  \n",
    "Таблица **hypothesis** содержит в себе данные 5 столбцов:  \n",
    "Hypothesis — краткое описание гипотезы;  \n",
    "Reach — охват пользователей по 10-балльной шкале;  \n",
    "Impact — влияние на пользователей по 10-балльной шкале;  \n",
    "Confidence — уверенность в гипотезе по 10-балльной шкале;  \n",
    "Efforts — затраты ресурсов на проверку гипотезы по 10-балльной шкале. Чем больше значение Efforts, тем дороже проверка гипотезы."
   ]
  },
  {
   "cell_type": "markdown",
   "metadata": {},
   "source": [
    "### Часть 1. Приоритизация гипотез.  \n",
    "В hypothesis 9 гипотез по увеличению выручки интернет-магазина с указанными параметрами Reach, Impact, Confidence, Effort.\n",
    "Задача:  \n",
    "1. Примените фреймворк ICE для приоритизации гипотез. Отсортируйте их по убыванию приоритета.  \n",
    "2. Примените фреймворк RICE для приоритизации гипотез. Отсортируйте их по убыванию приоритета.  \n",
    "3. Укажите, как изменилась приоритизация гипотез при применении RICE вместо ICE. Объясните, почему так произошло."
   ]
  },
  {
   "cell_type": "markdown",
   "metadata": {},
   "source": [
    "#### Примените фреймворк ICE для приоритизации гипотез. Отсортируйте их по убыванию приоритета."
   ]
  },
  {
   "cell_type": "code",
   "execution_count": 6,
   "metadata": {},
   "outputs": [],
   "source": [
    "# посчитаем ICE\n",
    "hypothesis['ICE'] = hypothesis['Impact'] * hypothesis['Confidence'] / hypothesis['Efforts']"
   ]
  },
  {
   "cell_type": "code",
   "execution_count": 7,
   "metadata": {},
   "outputs": [
    {
     "data": {
      "text/html": [
       "<div>\n",
       "<style scoped>\n",
       "    .dataframe tbody tr th:only-of-type {\n",
       "        vertical-align: middle;\n",
       "    }\n",
       "\n",
       "    .dataframe tbody tr th {\n",
       "        vertical-align: top;\n",
       "    }\n",
       "\n",
       "    .dataframe thead th {\n",
       "        text-align: right;\n",
       "    }\n",
       "</style>\n",
       "<table border=\"1\" class=\"dataframe\">\n",
       "  <thead>\n",
       "    <tr style=\"text-align: right;\">\n",
       "      <th></th>\n",
       "      <th>Hypothesis</th>\n",
       "      <th>Reach</th>\n",
       "      <th>Impact</th>\n",
       "      <th>Confidence</th>\n",
       "      <th>Efforts</th>\n",
       "      <th>ICE</th>\n",
       "    </tr>\n",
       "  </thead>\n",
       "  <tbody>\n",
       "    <tr>\n",
       "      <th>8</th>\n",
       "      <td>Запустить акцию, дающую скидку на товар в день...</td>\n",
       "      <td>1</td>\n",
       "      <td>9</td>\n",
       "      <td>9</td>\n",
       "      <td>5</td>\n",
       "      <td>16.200000</td>\n",
       "    </tr>\n",
       "    <tr>\n",
       "      <th>0</th>\n",
       "      <td>Добавить два новых канала привлечения трафика,...</td>\n",
       "      <td>3</td>\n",
       "      <td>10</td>\n",
       "      <td>8</td>\n",
       "      <td>6</td>\n",
       "      <td>13.333333</td>\n",
       "    </tr>\n",
       "    <tr>\n",
       "      <th>7</th>\n",
       "      <td>Добавить форму подписки на все основные страни...</td>\n",
       "      <td>10</td>\n",
       "      <td>7</td>\n",
       "      <td>8</td>\n",
       "      <td>5</td>\n",
       "      <td>11.200000</td>\n",
       "    </tr>\n",
       "    <tr>\n",
       "      <th>6</th>\n",
       "      <td>Показать на главной странице баннеры с актуаль...</td>\n",
       "      <td>5</td>\n",
       "      <td>3</td>\n",
       "      <td>8</td>\n",
       "      <td>3</td>\n",
       "      <td>8.000000</td>\n",
       "    </tr>\n",
       "    <tr>\n",
       "      <th>2</th>\n",
       "      <td>Добавить блоки рекомендаций товаров на сайт ин...</td>\n",
       "      <td>8</td>\n",
       "      <td>3</td>\n",
       "      <td>7</td>\n",
       "      <td>3</td>\n",
       "      <td>7.000000</td>\n",
       "    </tr>\n",
       "    <tr>\n",
       "      <th>1</th>\n",
       "      <td>Запустить собственную службу доставки, что сок...</td>\n",
       "      <td>2</td>\n",
       "      <td>5</td>\n",
       "      <td>4</td>\n",
       "      <td>10</td>\n",
       "      <td>2.000000</td>\n",
       "    </tr>\n",
       "    <tr>\n",
       "      <th>5</th>\n",
       "      <td>Добавить страницу отзывов клиентов о магазине,...</td>\n",
       "      <td>3</td>\n",
       "      <td>2</td>\n",
       "      <td>2</td>\n",
       "      <td>3</td>\n",
       "      <td>1.333333</td>\n",
       "    </tr>\n",
       "    <tr>\n",
       "      <th>3</th>\n",
       "      <td>Изменить структура категорий, что увеличит кон...</td>\n",
       "      <td>8</td>\n",
       "      <td>3</td>\n",
       "      <td>3</td>\n",
       "      <td>8</td>\n",
       "      <td>1.125000</td>\n",
       "    </tr>\n",
       "    <tr>\n",
       "      <th>4</th>\n",
       "      <td>Изменить цвет фона главной страницы, чтобы уве...</td>\n",
       "      <td>3</td>\n",
       "      <td>1</td>\n",
       "      <td>1</td>\n",
       "      <td>1</td>\n",
       "      <td>1.000000</td>\n",
       "    </tr>\n",
       "  </tbody>\n",
       "</table>\n",
       "</div>"
      ],
      "text/plain": [
       "                                          Hypothesis  Reach  Impact  \\\n",
       "8  Запустить акцию, дающую скидку на товар в день...      1       9   \n",
       "0  Добавить два новых канала привлечения трафика,...      3      10   \n",
       "7  Добавить форму подписки на все основные страни...     10       7   \n",
       "6  Показать на главной странице баннеры с актуаль...      5       3   \n",
       "2  Добавить блоки рекомендаций товаров на сайт ин...      8       3   \n",
       "1  Запустить собственную службу доставки, что сок...      2       5   \n",
       "5  Добавить страницу отзывов клиентов о магазине,...      3       2   \n",
       "3  Изменить структура категорий, что увеличит кон...      8       3   \n",
       "4  Изменить цвет фона главной страницы, чтобы уве...      3       1   \n",
       "\n",
       "   Confidence  Efforts        ICE  \n",
       "8           9        5  16.200000  \n",
       "0           8        6  13.333333  \n",
       "7           8        5  11.200000  \n",
       "6           8        3   8.000000  \n",
       "2           7        3   7.000000  \n",
       "1           4       10   2.000000  \n",
       "5           2        3   1.333333  \n",
       "3           3        8   1.125000  \n",
       "4           1        1   1.000000  "
      ]
     },
     "execution_count": 7,
     "metadata": {},
     "output_type": "execute_result"
    }
   ],
   "source": [
    "# отсортируем по убыванию приоритета\n",
    "hypothesis.sort_values('ICE', ascending=False)"
   ]
  },
  {
   "cell_type": "code",
   "execution_count": 8,
   "metadata": {},
   "outputs": [
    {
     "data": {
      "text/plain": [
       "0"
      ]
     },
     "execution_count": 8,
     "metadata": {},
     "output_type": "execute_result"
    }
   ],
   "source": [
    "hypothesis.duplicated().sum()"
   ]
  },
  {
   "cell_type": "markdown",
   "metadata": {},
   "source": [
    "#### Примените фреймворк RICE для приоритизации гипотез. Отсортируйте их по убыванию приоритета."
   ]
  },
  {
   "cell_type": "code",
   "execution_count": 9,
   "metadata": {},
   "outputs": [],
   "source": [
    "# посчитаем RICE\n",
    "hypothesis['RICE'] = hypothesis['Reach'] * hypothesis['Impact'] * hypothesis['Confidence'] / hypothesis['Efforts']"
   ]
  },
  {
   "cell_type": "code",
   "execution_count": 10,
   "metadata": {},
   "outputs": [
    {
     "data": {
      "text/html": [
       "<div>\n",
       "<style scoped>\n",
       "    .dataframe tbody tr th:only-of-type {\n",
       "        vertical-align: middle;\n",
       "    }\n",
       "\n",
       "    .dataframe tbody tr th {\n",
       "        vertical-align: top;\n",
       "    }\n",
       "\n",
       "    .dataframe thead th {\n",
       "        text-align: right;\n",
       "    }\n",
       "</style>\n",
       "<table border=\"1\" class=\"dataframe\">\n",
       "  <thead>\n",
       "    <tr style=\"text-align: right;\">\n",
       "      <th></th>\n",
       "      <th>Hypothesis</th>\n",
       "      <th>Reach</th>\n",
       "      <th>Impact</th>\n",
       "      <th>Confidence</th>\n",
       "      <th>Efforts</th>\n",
       "      <th>ICE</th>\n",
       "      <th>RICE</th>\n",
       "    </tr>\n",
       "  </thead>\n",
       "  <tbody>\n",
       "    <tr>\n",
       "      <th>7</th>\n",
       "      <td>Добавить форму подписки на все основные страни...</td>\n",
       "      <td>10</td>\n",
       "      <td>7</td>\n",
       "      <td>8</td>\n",
       "      <td>5</td>\n",
       "      <td>11.200000</td>\n",
       "      <td>112.0</td>\n",
       "    </tr>\n",
       "    <tr>\n",
       "      <th>2</th>\n",
       "      <td>Добавить блоки рекомендаций товаров на сайт ин...</td>\n",
       "      <td>8</td>\n",
       "      <td>3</td>\n",
       "      <td>7</td>\n",
       "      <td>3</td>\n",
       "      <td>7.000000</td>\n",
       "      <td>56.0</td>\n",
       "    </tr>\n",
       "    <tr>\n",
       "      <th>0</th>\n",
       "      <td>Добавить два новых канала привлечения трафика,...</td>\n",
       "      <td>3</td>\n",
       "      <td>10</td>\n",
       "      <td>8</td>\n",
       "      <td>6</td>\n",
       "      <td>13.333333</td>\n",
       "      <td>40.0</td>\n",
       "    </tr>\n",
       "    <tr>\n",
       "      <th>6</th>\n",
       "      <td>Показать на главной странице баннеры с актуаль...</td>\n",
       "      <td>5</td>\n",
       "      <td>3</td>\n",
       "      <td>8</td>\n",
       "      <td>3</td>\n",
       "      <td>8.000000</td>\n",
       "      <td>40.0</td>\n",
       "    </tr>\n",
       "    <tr>\n",
       "      <th>8</th>\n",
       "      <td>Запустить акцию, дающую скидку на товар в день...</td>\n",
       "      <td>1</td>\n",
       "      <td>9</td>\n",
       "      <td>9</td>\n",
       "      <td>5</td>\n",
       "      <td>16.200000</td>\n",
       "      <td>16.2</td>\n",
       "    </tr>\n",
       "    <tr>\n",
       "      <th>3</th>\n",
       "      <td>Изменить структура категорий, что увеличит кон...</td>\n",
       "      <td>8</td>\n",
       "      <td>3</td>\n",
       "      <td>3</td>\n",
       "      <td>8</td>\n",
       "      <td>1.125000</td>\n",
       "      <td>9.0</td>\n",
       "    </tr>\n",
       "    <tr>\n",
       "      <th>1</th>\n",
       "      <td>Запустить собственную службу доставки, что сок...</td>\n",
       "      <td>2</td>\n",
       "      <td>5</td>\n",
       "      <td>4</td>\n",
       "      <td>10</td>\n",
       "      <td>2.000000</td>\n",
       "      <td>4.0</td>\n",
       "    </tr>\n",
       "    <tr>\n",
       "      <th>5</th>\n",
       "      <td>Добавить страницу отзывов клиентов о магазине,...</td>\n",
       "      <td>3</td>\n",
       "      <td>2</td>\n",
       "      <td>2</td>\n",
       "      <td>3</td>\n",
       "      <td>1.333333</td>\n",
       "      <td>4.0</td>\n",
       "    </tr>\n",
       "    <tr>\n",
       "      <th>4</th>\n",
       "      <td>Изменить цвет фона главной страницы, чтобы уве...</td>\n",
       "      <td>3</td>\n",
       "      <td>1</td>\n",
       "      <td>1</td>\n",
       "      <td>1</td>\n",
       "      <td>1.000000</td>\n",
       "      <td>3.0</td>\n",
       "    </tr>\n",
       "  </tbody>\n",
       "</table>\n",
       "</div>"
      ],
      "text/plain": [
       "                                          Hypothesis  Reach  Impact  \\\n",
       "7  Добавить форму подписки на все основные страни...     10       7   \n",
       "2  Добавить блоки рекомендаций товаров на сайт ин...      8       3   \n",
       "0  Добавить два новых канала привлечения трафика,...      3      10   \n",
       "6  Показать на главной странице баннеры с актуаль...      5       3   \n",
       "8  Запустить акцию, дающую скидку на товар в день...      1       9   \n",
       "3  Изменить структура категорий, что увеличит кон...      8       3   \n",
       "1  Запустить собственную службу доставки, что сок...      2       5   \n",
       "5  Добавить страницу отзывов клиентов о магазине,...      3       2   \n",
       "4  Изменить цвет фона главной страницы, чтобы уве...      3       1   \n",
       "\n",
       "   Confidence  Efforts        ICE   RICE  \n",
       "7           8        5  11.200000  112.0  \n",
       "2           7        3   7.000000   56.0  \n",
       "0           8        6  13.333333   40.0  \n",
       "6           8        3   8.000000   40.0  \n",
       "8           9        5  16.200000   16.2  \n",
       "3           3        8   1.125000    9.0  \n",
       "1           4       10   2.000000    4.0  \n",
       "5           2        3   1.333333    4.0  \n",
       "4           1        1   1.000000    3.0  "
      ]
     },
     "execution_count": 10,
     "metadata": {},
     "output_type": "execute_result"
    }
   ],
   "source": [
    "hypothesis.sort_values('RICE', ascending=False)"
   ]
  },
  {
   "cell_type": "markdown",
   "metadata": {},
   "source": [
    "#### Укажите, как изменилась приоритизация гипотез при применении RICE вместо ICE. Объясните, почему так произошло."
   ]
  },
  {
   "cell_type": "markdown",
   "metadata": {},
   "source": [
    "После применения RICE приоритизация гипотез изменилась, гипотеза 7 встала на первое место в списке, благодаря наибольшему охвату, не смотря на то, что после применения ICE эта гипотеза была на 3 месте.   \n",
    "8 гипотеза после применения фреймворка ICE была на первом месте с самым высоким приоритетом, но после приоритизации RICE она переместила в середину списка, в связи добавления показателя охвата прльзователей.   \n",
    "Изменения цвета главной страницы фона (4 гипотеза) в обоих варинатах остается на последнем месте.   "
   ]
  },
  {
   "cell_type": "markdown",
   "metadata": {},
   "source": [
    "### Часть 2. Анализ A/B-теста"
   ]
  },
  {
   "cell_type": "markdown",
   "metadata": {},
   "source": [
    "#### загрузим необходимые данные"
   ]
  },
  {
   "cell_type": "code",
   "execution_count": 11,
   "metadata": {},
   "outputs": [
    {
     "name": "stdout",
     "output_type": "stream",
     "text": [
      "<class 'pandas.core.frame.DataFrame'>\n",
      "RangeIndex: 1197 entries, 0 to 1196\n",
      "Data columns (total 5 columns):\n",
      " #   Column         Non-Null Count  Dtype \n",
      "---  ------         --------------  ----- \n",
      " 0   transactionId  1197 non-null   int64 \n",
      " 1   visitorId      1197 non-null   int64 \n",
      " 2   date           1197 non-null   object\n",
      " 3   revenue        1197 non-null   int64 \n",
      " 4   group          1197 non-null   object\n",
      "dtypes: int64(3), object(2)\n",
      "memory usage: 46.9+ KB\n"
     ]
    }
   ],
   "source": [
    "orders = pd.read_csv('/datasets/orders.csv')\n",
    "orders.info()"
   ]
  },
  {
   "cell_type": "code",
   "execution_count": 12,
   "metadata": {},
   "outputs": [],
   "source": [
    "orders['date'] = pd.to_datetime(orders['date'])"
   ]
  },
  {
   "cell_type": "code",
   "execution_count": 13,
   "metadata": {},
   "outputs": [
    {
     "name": "stdout",
     "output_type": "stream",
     "text": [
      "<class 'pandas.core.frame.DataFrame'>\n",
      "RangeIndex: 1197 entries, 0 to 1196\n",
      "Data columns (total 5 columns):\n",
      " #   Column         Non-Null Count  Dtype         \n",
      "---  ------         --------------  -----         \n",
      " 0   transactionId  1197 non-null   int64         \n",
      " 1   visitorId      1197 non-null   int64         \n",
      " 2   date           1197 non-null   datetime64[ns]\n",
      " 3   revenue        1197 non-null   int64         \n",
      " 4   group          1197 non-null   object        \n",
      "dtypes: datetime64[ns](1), int64(3), object(1)\n",
      "memory usage: 46.9+ KB\n"
     ]
    }
   ],
   "source": [
    "orders.info()"
   ]
  },
  {
   "cell_type": "code",
   "execution_count": 14,
   "metadata": {},
   "outputs": [
    {
     "data": {
      "text/plain": [
       "0"
      ]
     },
     "execution_count": 14,
     "metadata": {},
     "output_type": "execute_result"
    }
   ],
   "source": [
    "orders.duplicated().sum()"
   ]
  },
  {
   "cell_type": "code",
   "execution_count": 15,
   "metadata": {},
   "outputs": [],
   "source": [
    "visits = pd.read_csv('/datasets/visitors.csv')\n",
    "visits['date'] = pd.to_datetime(visits['date'])"
   ]
  },
  {
   "cell_type": "code",
   "execution_count": 16,
   "metadata": {},
   "outputs": [
    {
     "name": "stdout",
     "output_type": "stream",
     "text": [
      "<class 'pandas.core.frame.DataFrame'>\n",
      "RangeIndex: 62 entries, 0 to 61\n",
      "Data columns (total 3 columns):\n",
      " #   Column    Non-Null Count  Dtype         \n",
      "---  ------    --------------  -----         \n",
      " 0   date      62 non-null     datetime64[ns]\n",
      " 1   group     62 non-null     object        \n",
      " 2   visitors  62 non-null     int64         \n",
      "dtypes: datetime64[ns](1), int64(1), object(1)\n",
      "memory usage: 1.6+ KB\n"
     ]
    }
   ],
   "source": [
    "visits.info()"
   ]
  },
  {
   "cell_type": "code",
   "execution_count": 17,
   "metadata": {},
   "outputs": [
    {
     "data": {
      "text/plain": [
       "0"
      ]
     },
     "execution_count": 17,
     "metadata": {},
     "output_type": "execute_result"
    }
   ],
   "source": [
    "visits.duplicated().sum()"
   ]
  },
  {
   "cell_type": "markdown",
   "metadata": {},
   "source": [
    "**Вывод**  \n",
    "Данные загружены и готовы к исследованию.  \n",
    "Таблица **orders** содержит 5 столбцов:  \n",
    "transactionId — идентификатор заказа;  \n",
    "visitorId — идентификатор пользователя, совершившего заказ;  \n",
    "date — дата, когда был совершён заказ;  \n",
    "revenue — выручка заказа;  \n",
    "group — группа A/B-теста, в которую попал заказ.  \n",
    "\n",
    "Табоица **visits** содержит в себе данные 3 столбцов:  \n",
    "date — дата;  \n",
    "group — группа A/B-теста;  \n",
    "visitors — количество пользователей в указанную дату в указанной группе A/B-теста.  "
   ]
  },
  {
   "cell_type": "markdown",
   "metadata": {},
   "source": [
    "#### Постройте график кумулятивной выручки по группам. Сделайте выводы и предположения."
   ]
  },
  {
   "cell_type": "code",
   "execution_count": 18,
   "metadata": {},
   "outputs": [],
   "source": [
    "# создаем датафрейм уникальных пар значений дат и групп таблицы orders, удаляем дубликаты\n",
    "dg = orders[['date', 'group']].drop_duplicates()"
   ]
  },
  {
   "cell_type": "code",
   "execution_count": 19,
   "metadata": {},
   "outputs": [],
   "source": [
    "# аггрегированные кумулятивные по дням данные о заказах\n",
    "ordersAggregated = dg.apply(\n",
    "    lambda x: orders[np.logical_and(orders['date'] <= x['date'], orders['group'] == x['group'])]\n",
    "    .agg({'date': 'max', 'group': 'max', 'transactionId': 'nunique', 'visitorId': 'nunique',\n",
    "     'revenue': 'sum'}), axis=1).sort_values(by=['date', 'group'])"
   ]
  },
  {
   "cell_type": "code",
   "execution_count": 20,
   "metadata": {},
   "outputs": [],
   "source": [
    "# аггрегированные кумулятивные по дням данные о посетителях\n",
    "visitorsAggregated = dg.apply(\n",
    "    lambda x: visits[np.logical_and(visits['date'] <= x['date'], visits['group'] == x['group'])]\n",
    "    .agg({'date': 'max', 'group': 'max', 'visitors': 'sum'}), axis=1).sort_values(by=['date', 'group'])"
   ]
  },
  {
   "cell_type": "code",
   "execution_count": 21,
   "metadata": {},
   "outputs": [],
   "source": [
    "# объединяем кумулятивные данные\n",
    "cumulativeData = ordersAggregated.merge(visitorsAggregated, left_on=['date', 'group'], right_on=['date', 'group'])\n",
    "cumulativeData.columns = ['date', 'group', 'orders', 'buyers', 'revenue', 'visitors']"
   ]
  },
  {
   "cell_type": "code",
   "execution_count": 22,
   "metadata": {},
   "outputs": [
    {
     "data": {
      "text/html": [
       "<div>\n",
       "<style scoped>\n",
       "    .dataframe tbody tr th:only-of-type {\n",
       "        vertical-align: middle;\n",
       "    }\n",
       "\n",
       "    .dataframe tbody tr th {\n",
       "        vertical-align: top;\n",
       "    }\n",
       "\n",
       "    .dataframe thead th {\n",
       "        text-align: right;\n",
       "    }\n",
       "</style>\n",
       "<table border=\"1\" class=\"dataframe\">\n",
       "  <thead>\n",
       "    <tr style=\"text-align: right;\">\n",
       "      <th></th>\n",
       "      <th>date</th>\n",
       "      <th>group</th>\n",
       "      <th>orders</th>\n",
       "      <th>buyers</th>\n",
       "      <th>revenue</th>\n",
       "      <th>visitors</th>\n",
       "    </tr>\n",
       "  </thead>\n",
       "  <tbody>\n",
       "    <tr>\n",
       "      <th>0</th>\n",
       "      <td>2019-08-01</td>\n",
       "      <td>A</td>\n",
       "      <td>24</td>\n",
       "      <td>20</td>\n",
       "      <td>148579</td>\n",
       "      <td>719</td>\n",
       "    </tr>\n",
       "    <tr>\n",
       "      <th>1</th>\n",
       "      <td>2019-08-01</td>\n",
       "      <td>B</td>\n",
       "      <td>21</td>\n",
       "      <td>20</td>\n",
       "      <td>101217</td>\n",
       "      <td>713</td>\n",
       "    </tr>\n",
       "    <tr>\n",
       "      <th>2</th>\n",
       "      <td>2019-08-02</td>\n",
       "      <td>A</td>\n",
       "      <td>44</td>\n",
       "      <td>38</td>\n",
       "      <td>242401</td>\n",
       "      <td>1338</td>\n",
       "    </tr>\n",
       "    <tr>\n",
       "      <th>3</th>\n",
       "      <td>2019-08-02</td>\n",
       "      <td>B</td>\n",
       "      <td>45</td>\n",
       "      <td>43</td>\n",
       "      <td>266748</td>\n",
       "      <td>1294</td>\n",
       "    </tr>\n",
       "    <tr>\n",
       "      <th>4</th>\n",
       "      <td>2019-08-03</td>\n",
       "      <td>A</td>\n",
       "      <td>68</td>\n",
       "      <td>62</td>\n",
       "      <td>354874</td>\n",
       "      <td>1845</td>\n",
       "    </tr>\n",
       "  </tbody>\n",
       "</table>\n",
       "</div>"
      ],
      "text/plain": [
       "        date group  orders  buyers  revenue  visitors\n",
       "0 2019-08-01     A      24      20   148579       719\n",
       "1 2019-08-01     B      21      20   101217       713\n",
       "2 2019-08-02     A      44      38   242401      1338\n",
       "3 2019-08-02     B      45      43   266748      1294\n",
       "4 2019-08-03     A      68      62   354874      1845"
      ]
     },
     "execution_count": 22,
     "metadata": {},
     "output_type": "execute_result"
    }
   ],
   "source": [
    "cumulativeData.head()"
   ]
  },
  {
   "cell_type": "code",
   "execution_count": 23,
   "metadata": {},
   "outputs": [],
   "source": [
    "# обьявим переменную cumulativeRevenueA, в которой сохраним данные о датах, выручке и числе заказов в группе A\n",
    "cumulativeRevenueA = cumulativeData[cumulativeData['group'] == 'A'][['date', 'revenue', 'orders']]"
   ]
  },
  {
   "cell_type": "code",
   "execution_count": 24,
   "metadata": {},
   "outputs": [],
   "source": [
    "# обьявим переменную cumulativeRevenueB, в которой сохраним данные о датах, выручке и числе заказов в группе B\n",
    "cumulativeRevenueB = cumulativeData[cumulativeData['group'] == 'B'][['date', 'revenue', 'orders']]"
   ]
  },
  {
   "cell_type": "code",
   "execution_count": 25,
   "metadata": {},
   "outputs": [
    {
     "data": {
      "image/png": "[encoded data removed]",
      "text/plain": [
       "<Figure size 1080x360 with 1 Axes>"
      ]
     },
     "metadata": {
      "needs_background": "light"
     },
     "output_type": "display_data"
    }
   ],
   "source": [
    "# строим график кумулятивной выручки по группам\n",
    "plt.figure(figsize=(15, 5))\n",
    "plt.plot(cumulativeRevenueA['date'], cumulativeRevenueA['revenue'], label='A', color='c')\n",
    "plt.plot(cumulativeRevenueB['date'], cumulativeRevenueB['revenue'], label='B', color='r')\n",
    "plt.title('График кумулятивной выручки по дате и группам')\n",
    "plt.ylabel('Кумулятивная выручка')\n",
    "plt.xlabel('Дата')\n",
    "plt.xticks(rotation=0)\n",
    "plt.legend() \n",
    "plt.show()"
   ]
  },
  {
   "cell_type": "markdown",
   "metadata": {},
   "source": [
    "**Вывод**  \n",
    "Выручка у группы В увеличивается  на протяжении всего теста, также на графике видно резкий скачок у группы В, возможно, это резкое увеличение количества заказов или увеличение суммы заказов. "
   ]
  },
  {
   "cell_type": "markdown",
   "metadata": {},
   "source": [
    "#### Постройте график кумулятивного среднего чека по группам. Сделайте выводы и предположения."
   ]
  },
  {
   "cell_type": "code",
   "execution_count": 26,
   "metadata": {},
   "outputs": [
    {
     "data": {
      "image/png": "[encoded data removed]",
      "text/plain": [
       "<Figure size 1080x360 with 1 Axes>"
      ]
     },
     "metadata": {
      "needs_background": "light"
     },
     "output_type": "display_data"
    }
   ],
   "source": [
    "# строим график кумулятивного среднего чека по группам\n",
    "plt.figure(figsize=(15, 5))\n",
    "plt.plot(cumulativeRevenueA['date'], cumulativeRevenueA['revenue'] / cumulativeRevenueA['orders'], label='A', color='c')\n",
    "plt.plot(cumulativeRevenueB['date'], cumulativeRevenueB['revenue'] / cumulativeRevenueB['orders'], label='B', color='r')\n",
    "\n",
    "plt.title('График кумулятивного среднего чека по группам')\n",
    "plt.ylabel('Кумулятивный средний чек')\n",
    "plt.xlabel('Дата')\n",
    "plt.xticks(rotation=0)\n",
    "plt.legend() \n",
    "plt.show()"
   ]
  },
  {
   "cell_type": "markdown",
   "metadata": {},
   "source": [
    "**Вывод**  \n",
    "Средний чек группы А с середины и до конца периода стабилизировался, а показатель для группы В начал снижаться, при этом на графике видно резкий скачок группы В на 18-19 день, скорее всего в группу В попали крупные заказы. "
   ]
  },
  {
   "cell_type": "markdown",
   "metadata": {},
   "source": [
    "#### Постройте график относительного изменения кумулятивного среднего чека группы B к группе A. Сделайте выводы и предположения."
   ]
  },
  {
   "cell_type": "code",
   "execution_count": 27,
   "metadata": {},
   "outputs": [],
   "source": [
    "# собираем данные в одном датафрейме\n",
    "mergedCumulativeRevenue = cumulativeRevenueA.merge(cumulativeRevenueB, left_on='date', right_on='date', how='left', suffixes=['A', 'B'])"
   ]
  },
  {
   "cell_type": "code",
   "execution_count": 28,
   "metadata": {},
   "outputs": [
    {
     "data": {
      "text/html": [
       "<div>\n",
       "<style scoped>\n",
       "    .dataframe tbody tr th:only-of-type {\n",
       "        vertical-align: middle;\n",
       "    }\n",
       "\n",
       "    .dataframe tbody tr th {\n",
       "        vertical-align: top;\n",
       "    }\n",
       "\n",
       "    .dataframe thead th {\n",
       "        text-align: right;\n",
       "    }\n",
       "</style>\n",
       "<table border=\"1\" class=\"dataframe\">\n",
       "  <thead>\n",
       "    <tr style=\"text-align: right;\">\n",
       "      <th></th>\n",
       "      <th>date</th>\n",
       "      <th>revenueA</th>\n",
       "      <th>ordersA</th>\n",
       "      <th>revenueB</th>\n",
       "      <th>ordersB</th>\n",
       "    </tr>\n",
       "  </thead>\n",
       "  <tbody>\n",
       "    <tr>\n",
       "      <th>0</th>\n",
       "      <td>2019-08-01</td>\n",
       "      <td>148579</td>\n",
       "      <td>24</td>\n",
       "      <td>101217</td>\n",
       "      <td>21</td>\n",
       "    </tr>\n",
       "    <tr>\n",
       "      <th>1</th>\n",
       "      <td>2019-08-02</td>\n",
       "      <td>242401</td>\n",
       "      <td>44</td>\n",
       "      <td>266748</td>\n",
       "      <td>45</td>\n",
       "    </tr>\n",
       "    <tr>\n",
       "      <th>2</th>\n",
       "      <td>2019-08-03</td>\n",
       "      <td>354874</td>\n",
       "      <td>68</td>\n",
       "      <td>380996</td>\n",
       "      <td>61</td>\n",
       "    </tr>\n",
       "    <tr>\n",
       "      <th>3</th>\n",
       "      <td>2019-08-04</td>\n",
       "      <td>425699</td>\n",
       "      <td>84</td>\n",
       "      <td>489567</td>\n",
       "      <td>78</td>\n",
       "    </tr>\n",
       "    <tr>\n",
       "      <th>4</th>\n",
       "      <td>2019-08-05</td>\n",
       "      <td>549917</td>\n",
       "      <td>109</td>\n",
       "      <td>581995</td>\n",
       "      <td>101</td>\n",
       "    </tr>\n",
       "  </tbody>\n",
       "</table>\n",
       "</div>"
      ],
      "text/plain": [
       "        date  revenueA  ordersA  revenueB  ordersB\n",
       "0 2019-08-01    148579       24    101217       21\n",
       "1 2019-08-02    242401       44    266748       45\n",
       "2 2019-08-03    354874       68    380996       61\n",
       "3 2019-08-04    425699       84    489567       78\n",
       "4 2019-08-05    549917      109    581995      101"
      ]
     },
     "execution_count": 28,
     "metadata": {},
     "output_type": "execute_result"
    }
   ],
   "source": [
    "mergedCumulativeRevenue.head()"
   ]
  },
  {
   "cell_type": "code",
   "execution_count": 29,
   "metadata": {},
   "outputs": [
    {
     "data": {
      "image/png": "[encoded data removed]",
      "text/plain": [
       "<Figure size 1080x360 with 1 Axes>"
      ]
     },
     "metadata": {
      "needs_background": "light"
     },
     "output_type": "display_data"
    }
   ],
   "source": [
    "# cтроим отношение средних чеков\n",
    "plt.figure(figsize=(15, 5))\n",
    "plt.plot(mergedCumulativeRevenue['date'], (mergedCumulativeRevenue['revenueB']/mergedCumulativeRevenue['ordersB'])/(mergedCumulativeRevenue['revenueA']/mergedCumulativeRevenue['ordersA'])-1, color='c')\n",
    "# добавляем ось X\n",
    "plt.axhline(y=0, color='red', linestyle='--') \n",
    "plt.title('График относительного изменения кумулятивного среднего чека группы B к группе A')\n",
    "plt.ylabel('Кумулятивный средний чек')\n",
    "plt.xlabel('Дата')\n",
    "plt.xticks(rotation=0)\n",
    "plt.show()"
   ]
  },
  {
   "cell_type": "markdown",
   "metadata": {},
   "source": [
    "**Вывод**  \n",
    "График неравномерный, скорее всего где-то спрятались крупные заказы и выбросы. "
   ]
  },
  {
   "cell_type": "markdown",
   "metadata": {},
   "source": [
    "#### Постройте график кумулятивного среднего количества заказов на посетителя по группам. Сделайте выводы и предположения."
   ]
  },
  {
   "cell_type": "code",
   "execution_count": 30,
   "metadata": {},
   "outputs": [
    {
     "data": {
      "text/plain": [
       "0     0.033380\n",
       "1     0.029453\n",
       "2     0.032885\n",
       "3     0.034776\n",
       "4     0.036856\n",
       "        ...   \n",
       "57    0.033657\n",
       "58    0.030216\n",
       "59    0.034070\n",
       "60    0.029729\n",
       "61    0.033834\n",
       "Name: conversion, Length: 62, dtype: float64"
      ]
     },
     "execution_count": 30,
     "metadata": {},
     "output_type": "execute_result"
    }
   ],
   "source": [
    "# добавим в cumulativeData столбец 'conversion' c отношением числа заказов к количеству пользователей в указанной группе в указанный день.\n",
    "cumulativeData['conversion'] = cumulativeData['orders']/cumulativeData['visitors']\n",
    "cumulativeData['conversion']"
   ]
  },
  {
   "cell_type": "code",
   "execution_count": 31,
   "metadata": {},
   "outputs": [
    {
     "data": {
      "text/html": [
       "<div>\n",
       "<style scoped>\n",
       "    .dataframe tbody tr th:only-of-type {\n",
       "        vertical-align: middle;\n",
       "    }\n",
       "\n",
       "    .dataframe tbody tr th {\n",
       "        vertical-align: top;\n",
       "    }\n",
       "\n",
       "    .dataframe thead th {\n",
       "        text-align: right;\n",
       "    }\n",
       "</style>\n",
       "<table border=\"1\" class=\"dataframe\">\n",
       "  <thead>\n",
       "    <tr style=\"text-align: right;\">\n",
       "      <th></th>\n",
       "      <th>date</th>\n",
       "      <th>group</th>\n",
       "      <th>orders</th>\n",
       "      <th>buyers</th>\n",
       "      <th>revenue</th>\n",
       "      <th>visitors</th>\n",
       "      <th>conversion</th>\n",
       "    </tr>\n",
       "  </thead>\n",
       "  <tbody>\n",
       "    <tr>\n",
       "      <th>0</th>\n",
       "      <td>2019-08-01</td>\n",
       "      <td>A</td>\n",
       "      <td>24</td>\n",
       "      <td>20</td>\n",
       "      <td>148579</td>\n",
       "      <td>719</td>\n",
       "      <td>0.033380</td>\n",
       "    </tr>\n",
       "    <tr>\n",
       "      <th>2</th>\n",
       "      <td>2019-08-02</td>\n",
       "      <td>A</td>\n",
       "      <td>44</td>\n",
       "      <td>38</td>\n",
       "      <td>242401</td>\n",
       "      <td>1338</td>\n",
       "      <td>0.032885</td>\n",
       "    </tr>\n",
       "    <tr>\n",
       "      <th>4</th>\n",
       "      <td>2019-08-03</td>\n",
       "      <td>A</td>\n",
       "      <td>68</td>\n",
       "      <td>62</td>\n",
       "      <td>354874</td>\n",
       "      <td>1845</td>\n",
       "      <td>0.036856</td>\n",
       "    </tr>\n",
       "    <tr>\n",
       "      <th>6</th>\n",
       "      <td>2019-08-04</td>\n",
       "      <td>A</td>\n",
       "      <td>84</td>\n",
       "      <td>77</td>\n",
       "      <td>425699</td>\n",
       "      <td>2562</td>\n",
       "      <td>0.032787</td>\n",
       "    </tr>\n",
       "    <tr>\n",
       "      <th>8</th>\n",
       "      <td>2019-08-05</td>\n",
       "      <td>A</td>\n",
       "      <td>109</td>\n",
       "      <td>100</td>\n",
       "      <td>549917</td>\n",
       "      <td>3318</td>\n",
       "      <td>0.032851</td>\n",
       "    </tr>\n",
       "  </tbody>\n",
       "</table>\n",
       "</div>"
      ],
      "text/plain": [
       "        date group  orders  buyers  revenue  visitors  conversion\n",
       "0 2019-08-01     A      24      20   148579       719    0.033380\n",
       "2 2019-08-02     A      44      38   242401      1338    0.032885\n",
       "4 2019-08-03     A      68      62   354874      1845    0.036856\n",
       "6 2019-08-04     A      84      77   425699      2562    0.032787\n",
       "8 2019-08-05     A     109     100   549917      3318    0.032851"
      ]
     },
     "execution_count": 31,
     "metadata": {},
     "output_type": "execute_result"
    }
   ],
   "source": [
    "# отделяем данные по группе A\n",
    "cumulativeDataA = cumulativeData[cumulativeData['group']=='A']\n",
    "cumulativeDataA.head()"
   ]
  },
  {
   "cell_type": "code",
   "execution_count": 32,
   "metadata": {},
   "outputs": [
    {
     "data": {
      "text/html": [
       "<div>\n",
       "<style scoped>\n",
       "    .dataframe tbody tr th:only-of-type {\n",
       "        vertical-align: middle;\n",
       "    }\n",
       "\n",
       "    .dataframe tbody tr th {\n",
       "        vertical-align: top;\n",
       "    }\n",
       "\n",
       "    .dataframe thead th {\n",
       "        text-align: right;\n",
       "    }\n",
       "</style>\n",
       "<table border=\"1\" class=\"dataframe\">\n",
       "  <thead>\n",
       "    <tr style=\"text-align: right;\">\n",
       "      <th></th>\n",
       "      <th>date</th>\n",
       "      <th>group</th>\n",
       "      <th>orders</th>\n",
       "      <th>buyers</th>\n",
       "      <th>revenue</th>\n",
       "      <th>visitors</th>\n",
       "      <th>conversion</th>\n",
       "    </tr>\n",
       "  </thead>\n",
       "  <tbody>\n",
       "    <tr>\n",
       "      <th>1</th>\n",
       "      <td>2019-08-01</td>\n",
       "      <td>B</td>\n",
       "      <td>21</td>\n",
       "      <td>20</td>\n",
       "      <td>101217</td>\n",
       "      <td>713</td>\n",
       "      <td>0.029453</td>\n",
       "    </tr>\n",
       "    <tr>\n",
       "      <th>3</th>\n",
       "      <td>2019-08-02</td>\n",
       "      <td>B</td>\n",
       "      <td>45</td>\n",
       "      <td>43</td>\n",
       "      <td>266748</td>\n",
       "      <td>1294</td>\n",
       "      <td>0.034776</td>\n",
       "    </tr>\n",
       "    <tr>\n",
       "      <th>5</th>\n",
       "      <td>2019-08-03</td>\n",
       "      <td>B</td>\n",
       "      <td>61</td>\n",
       "      <td>59</td>\n",
       "      <td>380996</td>\n",
       "      <td>1803</td>\n",
       "      <td>0.033833</td>\n",
       "    </tr>\n",
       "    <tr>\n",
       "      <th>7</th>\n",
       "      <td>2019-08-04</td>\n",
       "      <td>B</td>\n",
       "      <td>78</td>\n",
       "      <td>75</td>\n",
       "      <td>489567</td>\n",
       "      <td>2573</td>\n",
       "      <td>0.030315</td>\n",
       "    </tr>\n",
       "    <tr>\n",
       "      <th>9</th>\n",
       "      <td>2019-08-05</td>\n",
       "      <td>B</td>\n",
       "      <td>101</td>\n",
       "      <td>98</td>\n",
       "      <td>581995</td>\n",
       "      <td>3280</td>\n",
       "      <td>0.030793</td>\n",
       "    </tr>\n",
       "  </tbody>\n",
       "</table>\n",
       "</div>"
      ],
      "text/plain": [
       "        date group  orders  buyers  revenue  visitors  conversion\n",
       "1 2019-08-01     B      21      20   101217       713    0.029453\n",
       "3 2019-08-02     B      45      43   266748      1294    0.034776\n",
       "5 2019-08-03     B      61      59   380996      1803    0.033833\n",
       "7 2019-08-04     B      78      75   489567      2573    0.030315\n",
       "9 2019-08-05     B     101      98   581995      3280    0.030793"
      ]
     },
     "execution_count": 32,
     "metadata": {},
     "output_type": "execute_result"
    }
   ],
   "source": [
    "# отделяем данные по группе B\n",
    "cumulativeDataB = cumulativeData[cumulativeData['group']=='B']\n",
    "cumulativeDataB.head()"
   ]
  },
  {
   "cell_type": "code",
   "execution_count": 33,
   "metadata": {},
   "outputs": [
    {
     "data": {
      "image/png": "[encoded data removed]",
      "text/plain": [
       "<Figure size 1080x360 with 1 Axes>"
      ]
     },
     "metadata": {
      "needs_background": "light"
     },
     "output_type": "display_data"
    }
   ],
   "source": [
    "# строим графики\n",
    "plt.figure(figsize=(15, 5))\n",
    "plt.plot(cumulativeDataA['date'], cumulativeDataA['conversion'], label='A',  color='c')\n",
    "plt.plot(cumulativeDataB['date'], cumulativeDataB['conversion'], label='B',  color='r')\n",
    "plt.axis([cumulativeDataA['date'].min(), cumulativeDataA['date'].max(), 0,.05])\n",
    "plt.legend()\n",
    "plt.title('График кумулятивного среднего количества заказов на посетителя по группам')\n",
    "plt.ylabel('Кумулятивный средний чек')\n",
    "plt.xlabel('Дата')\n",
    "plt.xticks(rotation=0)\n",
    "plt.show()"
   ]
  },
  {
   "cell_type": "markdown",
   "metadata": {},
   "source": [
    "**Вывод**  \n",
    "Оба графика идут параллельно друг другу, графики симметричны, также видно, что конверсия группы В выше конверсии группы А"
   ]
  },
  {
   "cell_type": "markdown",
   "metadata": {},
   "source": [
    "#### Постройте график относительного изменения кумулятивного среднего количества заказов на посетителя группы B к группе A. Сделайте выводы и предположения."
   ]
  },
  {
   "cell_type": "code",
   "execution_count": 34,
   "metadata": {},
   "outputs": [],
   "source": [
    "# объединим таблицы cumulativeDataA и cumulativeDataB\n",
    "mergedCumulativeConversions = cumulativeDataA[['date','conversion']].merge(cumulativeDataB[['date','conversion']], left_on='date', right_on='date', how='left', suffixes=['A', 'B'])"
   ]
  },
  {
   "cell_type": "code",
   "execution_count": 35,
   "metadata": {},
   "outputs": [
    {
     "data": {
      "text/html": [
       "<div>\n",
       "<style scoped>\n",
       "    .dataframe tbody tr th:only-of-type {\n",
       "        vertical-align: middle;\n",
       "    }\n",
       "\n",
       "    .dataframe tbody tr th {\n",
       "        vertical-align: top;\n",
       "    }\n",
       "\n",
       "    .dataframe thead th {\n",
       "        text-align: right;\n",
       "    }\n",
       "</style>\n",
       "<table border=\"1\" class=\"dataframe\">\n",
       "  <thead>\n",
       "    <tr style=\"text-align: right;\">\n",
       "      <th></th>\n",
       "      <th>date</th>\n",
       "      <th>conversionA</th>\n",
       "      <th>conversionB</th>\n",
       "    </tr>\n",
       "  </thead>\n",
       "  <tbody>\n",
       "    <tr>\n",
       "      <th>0</th>\n",
       "      <td>2019-08-01</td>\n",
       "      <td>0.033380</td>\n",
       "      <td>0.029453</td>\n",
       "    </tr>\n",
       "    <tr>\n",
       "      <th>1</th>\n",
       "      <td>2019-08-02</td>\n",
       "      <td>0.032885</td>\n",
       "      <td>0.034776</td>\n",
       "    </tr>\n",
       "    <tr>\n",
       "      <th>2</th>\n",
       "      <td>2019-08-03</td>\n",
       "      <td>0.036856</td>\n",
       "      <td>0.033833</td>\n",
       "    </tr>\n",
       "    <tr>\n",
       "      <th>3</th>\n",
       "      <td>2019-08-04</td>\n",
       "      <td>0.032787</td>\n",
       "      <td>0.030315</td>\n",
       "    </tr>\n",
       "    <tr>\n",
       "      <th>4</th>\n",
       "      <td>2019-08-05</td>\n",
       "      <td>0.032851</td>\n",
       "      <td>0.030793</td>\n",
       "    </tr>\n",
       "  </tbody>\n",
       "</table>\n",
       "</div>"
      ],
      "text/plain": [
       "        date  conversionA  conversionB\n",
       "0 2019-08-01     0.033380     0.029453\n",
       "1 2019-08-02     0.032885     0.034776\n",
       "2 2019-08-03     0.036856     0.033833\n",
       "3 2019-08-04     0.032787     0.030315\n",
       "4 2019-08-05     0.032851     0.030793"
      ]
     },
     "execution_count": 35,
     "metadata": {},
     "output_type": "execute_result"
    }
   ],
   "source": [
    "mergedCumulativeConversions.head()"
   ]
  },
  {
   "cell_type": "code",
   "execution_count": 36,
   "metadata": {},
   "outputs": [
    {
     "data": {
      "image/png": "[encoded data removed]",
      "text/plain": [
       "<Figure size 1080x360 with 1 Axes>"
      ]
     },
     "metadata": {
      "needs_background": "light"
     },
     "output_type": "display_data"
    }
   ],
   "source": [
    "plt.figure(figsize=(15, 5))\n",
    "plt.plot(mergedCumulativeConversions['date'], mergedCumulativeConversions['conversionB']/mergedCumulativeConversions['conversionA']-1, color ='g',label=\"Относительный прирост кумулятивного среднего количества заказов на посетителя группы B относительно группы A\")\n",
    "plt.legend()\n",
    "plt.axhline(y=0, color='red', linestyle='--')\n",
    "plt.axhline(y= 0.15, color='pink', linestyle='--')\n",
    "plt.title('График относительного изменения кумулятивного среднего количества заказов на посетителя группы B к группе A')\n",
    "plt.ylabel('Кумулятивный средний чек')\n",
    "plt.xlabel('Дата')\n",
    "plt.show()"
   ]
  },
  {
   "cell_type": "markdown",
   "metadata": {},
   "source": [
    "**Вывод**  \n",
    "Отношение конверсии группы В к конверсии группы А в начале теста просело, затем график пошел вверх."
   ]
  },
  {
   "cell_type": "markdown",
   "metadata": {},
   "source": [
    "#### Постройте точечный график количества заказов по пользователям. Сделайте выводы и предположения."
   ]
  },
  {
   "cell_type": "code",
   "execution_count": 37,
   "metadata": {},
   "outputs": [
    {
     "data": {
      "text/html": [
       "<div>\n",
       "<style scoped>\n",
       "    .dataframe tbody tr th:only-of-type {\n",
       "        vertical-align: middle;\n",
       "    }\n",
       "\n",
       "    .dataframe tbody tr th {\n",
       "        vertical-align: top;\n",
       "    }\n",
       "\n",
       "    .dataframe thead th {\n",
       "        text-align: right;\n",
       "    }\n",
       "</style>\n",
       "<table border=\"1\" class=\"dataframe\">\n",
       "  <thead>\n",
       "    <tr style=\"text-align: right;\">\n",
       "      <th></th>\n",
       "      <th>transactionId</th>\n",
       "      <th>visitorId</th>\n",
       "      <th>date</th>\n",
       "      <th>revenue</th>\n",
       "      <th>group</th>\n",
       "    </tr>\n",
       "  </thead>\n",
       "  <tbody>\n",
       "    <tr>\n",
       "      <th>0</th>\n",
       "      <td>3667963787</td>\n",
       "      <td>3312258926</td>\n",
       "      <td>2019-08-15</td>\n",
       "      <td>1650</td>\n",
       "      <td>B</td>\n",
       "    </tr>\n",
       "    <tr>\n",
       "      <th>1</th>\n",
       "      <td>2804400009</td>\n",
       "      <td>3642806036</td>\n",
       "      <td>2019-08-15</td>\n",
       "      <td>730</td>\n",
       "      <td>B</td>\n",
       "    </tr>\n",
       "    <tr>\n",
       "      <th>2</th>\n",
       "      <td>2961555356</td>\n",
       "      <td>4069496402</td>\n",
       "      <td>2019-08-15</td>\n",
       "      <td>400</td>\n",
       "      <td>A</td>\n",
       "    </tr>\n",
       "    <tr>\n",
       "      <th>3</th>\n",
       "      <td>3797467345</td>\n",
       "      <td>1196621759</td>\n",
       "      <td>2019-08-15</td>\n",
       "      <td>9759</td>\n",
       "      <td>B</td>\n",
       "    </tr>\n",
       "    <tr>\n",
       "      <th>4</th>\n",
       "      <td>2282983706</td>\n",
       "      <td>2322279887</td>\n",
       "      <td>2019-08-15</td>\n",
       "      <td>2308</td>\n",
       "      <td>B</td>\n",
       "    </tr>\n",
       "  </tbody>\n",
       "</table>\n",
       "</div>"
      ],
      "text/plain": [
       "   transactionId   visitorId       date  revenue group\n",
       "0     3667963787  3312258926 2019-08-15     1650     B\n",
       "1     2804400009  3642806036 2019-08-15      730     B\n",
       "2     2961555356  4069496402 2019-08-15      400     A\n",
       "3     3797467345  1196621759 2019-08-15     9759     B\n",
       "4     2282983706  2322279887 2019-08-15     2308     B"
      ]
     },
     "execution_count": 37,
     "metadata": {},
     "output_type": "execute_result"
    }
   ],
   "source": [
    "orders.head()"
   ]
  },
  {
   "cell_type": "code",
   "execution_count": 38,
   "metadata": {},
   "outputs": [
    {
     "name": "stdout",
     "output_type": "stream",
     "text": [
      "       visitorId  transactionId\n",
      "1023  4256040402             11\n",
      "591   2458001652             11\n",
      "569   2378935119              9\n",
      "487   2038680547              8\n",
      "44     199603092              5\n",
      "744   3062433592              5\n",
      "55     237748145              5\n",
      "917   3803269165              5\n",
      "299   1230306981              5\n",
      "897   3717692402              5\n"
     ]
    }
   ],
   "source": [
    "ordersByUsers = orders.groupby('visitorId', as_index = False).agg({'transactionId':'nunique'}).sort_values(by='transactionId', ascending = False)\n",
    "ordersByUsers.columns = ['visitorId', 'transactionId']\n",
    "print(ordersByUsers.head(10))"
   ]
  },
  {
   "cell_type": "code",
   "execution_count": 39,
   "metadata": {},
   "outputs": [
    {
     "data": {
      "image/png": "[encoded data removed]",
      "text/plain": [
       "<Figure size 720x360 with 1 Axes>"
      ]
     },
     "metadata": {
      "needs_background": "light"
     },
     "output_type": "display_data"
    }
   ],
   "source": [
    "# построим точечный график количества заказов по пользователям\n",
    "plt.figure(figsize=(10, 5))\n",
    "y_values = pd.Series(range(0, len(ordersByUsers)))\n",
    "plt.scatter(ordersByUsers['transactionId'], y_values, c = 'c')\n",
    "plt.title('График количества заказов по пользователям')\n",
    "plt.xlabel('Частота')\n",
    "plt.ylabel('Количество заказов')\n",
    "plt.show()"
   ]
  },
  {
   "cell_type": "markdown",
   "metadata": {},
   "source": [
    "**Вывод**  \n",
    "Большинство пользователей совершают 1-2 заказа."
   ]
  },
  {
   "cell_type": "markdown",
   "metadata": {},
   "source": [
    "#### Посчитайте 95-й и 99-й перцентили количества заказов на пользователя. "
   ]
  },
  {
   "cell_type": "code",
   "execution_count": 40,
   "metadata": {},
   "outputs": [
    {
     "name": "stdout",
     "output_type": "stream",
     "text": [
      "95 и 99 перцентили количества заказов: [2. 4.]\n"
     ]
    }
   ],
   "source": [
    "# посчитаем и выведем 95й и 99й перцентили \n",
    "print('95 и 99 перцентили количества заказов:', np.percentile(ordersByUsers['transactionId'], [95, 99]))"
   ]
  },
  {
   "cell_type": "markdown",
   "metadata": {},
   "source": [
    "**Вывод**  \n",
    "Границей для определения аномальных пользователей выбираем покупателей, совершивших больше 2 покупок."
   ]
  },
  {
   "cell_type": "markdown",
   "metadata": {},
   "source": [
    "#### Постройте точечный график стоимостей заказов. Сделайте выводы и предположения."
   ]
  },
  {
   "cell_type": "code",
   "execution_count": 41,
   "metadata": {},
   "outputs": [],
   "source": [
    "x_values = pd.Series(range(0, len(orders['revenue'])))"
   ]
  },
  {
   "cell_type": "code",
   "execution_count": 42,
   "metadata": {},
   "outputs": [
    {
     "data": {
      "image/png": "[encoded data removed]",
      "text/plain": [
       "<Figure size 720x360 with 1 Axes>"
      ]
     },
     "metadata": {
      "needs_background": "light"
     },
     "output_type": "display_data"
    }
   ],
   "source": [
    "# построим точечный график количества заказов по пользователям\n",
    "plt.figure(figsize=(10, 5))\n",
    "x_values = pd.Series(range(0, len(orders['revenue'])))\n",
    "plt.scatter(x_values, orders['revenue'],  c = 'c')\n",
    "plt.title('График стоимостей заказов')\n",
    "plt.xlabel('Частота')\n",
    "plt.ylabel('Стоимость заказа')\n",
    "plt.show()"
   ]
  },
  {
   "cell_type": "markdown",
   "metadata": {},
   "source": [
    "**Вывод**  \n",
    "Большинство пользователей совершает покупки до 200000"
   ]
  },
  {
   "cell_type": "markdown",
   "metadata": {},
   "source": [
    "#### Посчитайте 95-й и 99-й перцентили стоимости заказов. Выберите границу для определения аномальных заказов."
   ]
  },
  {
   "cell_type": "code",
   "execution_count": 43,
   "metadata": {},
   "outputs": [
    {
     "name": "stdout",
     "output_type": "stream",
     "text": [
      "95 и 99 перцентили количества заказов: [28000.  58233.2]\n"
     ]
    }
   ],
   "source": [
    "# посчитаем и выведем 95й и 99й перцентили \n",
    "print('95 и 99 перцентили количества заказов:', np.percentile(orders['revenue'], [95, 99]))"
   ]
  },
  {
   "cell_type": "markdown",
   "metadata": {},
   "source": [
    "**Вывод**  \n",
    "Границей для определения аномальных заказов будем считать покупки свыше 28000"
   ]
  },
  {
   "cell_type": "markdown",
   "metadata": {},
   "source": [
    "#### Посчитайте статистическую значимость различий в среднем количестве заказов на посетителя между группами по «сырым» данным. Сделайте выводы и предположения."
   ]
  },
  {
   "cell_type": "markdown",
   "metadata": {},
   "source": [
    "Определим нулевую и альтернативную гипотезу:  \n",
    "H0: статистически значимых различий в среднем количестве заказов на посетителя между группами А и В по «сырым» данным нет.  \n",
    "H1: статистически значимые различия в среднем количестве заказов на посетителя между группами А и В по «сырым» данным есть."
   ]
  },
  {
   "cell_type": "code",
   "execution_count": 44,
   "metadata": {},
   "outputs": [],
   "source": [
    "# найдем количество посетителей в день для группы А\n",
    "visitorsADaily = visits[visits['group']=='A'][['date', 'visitors']]\n",
    "visitorsADaily.columns = ['date', 'visitorsPerDateA']"
   ]
  },
  {
   "cell_type": "code",
   "execution_count": 45,
   "metadata": {},
   "outputs": [],
   "source": [
    "# найдем количество посетителей в день для группы В\n",
    "visitorsBDaily = visits[visits['group']=='B'][['date', 'visitors']]\n",
    "visitorsBDaily.columns = ['date', 'visitorsPerDateB']"
   ]
  },
  {
   "cell_type": "code",
   "execution_count": 46,
   "metadata": {},
   "outputs": [],
   "source": [
    "# найдем количество заказов и сумму покупок в день для группы А\n",
    "ordersADaily = orders[orders['group']=='A'][['date', 'transactionId', 'visitorId', 'revenue']].groupby('date', as_index=False).agg({'transactionId' : pd.Series.nunique, 'revenue' : 'sum'})\n",
    "ordersADaily.columns = ['date', 'ordersPerDateA', 'revenuePerDateA']"
   ]
  },
  {
   "cell_type": "code",
   "execution_count": 47,
   "metadata": {},
   "outputs": [],
   "source": [
    "# найдем количество заказов и сумму покупок в день для группы В\n",
    "ordersBDaily = orders[orders['group']=='B'][['date', 'transactionId', 'visitorId', 'revenue']].groupby('date', as_index=False).agg({'transactionId' : pd.Series.nunique, 'revenue' : 'sum'})\n",
    "ordersBDaily.columns = ['date', 'ordersPerDateB', 'revenuePerDateB']"
   ]
  },
  {
   "cell_type": "code",
   "execution_count": 48,
   "metadata": {},
   "outputs": [],
   "source": [
    "# посчитаем количество пользователей, совершивших заказ группы А\n",
    "ordersByUsersA = orders[orders['group'] == 'A'].groupby('visitorId', as_index=False).agg({'transactionId': pd.Series.nunique})\n",
    "ordersByUsersA.columns = ['userId', 'orders']"
   ]
  },
  {
   "cell_type": "code",
   "execution_count": 49,
   "metadata": {},
   "outputs": [],
   "source": [
    "# посчитаем количество пользователей, совершивших заказ группы B\n",
    "ordersByUsersB = orders[orders['group'] == 'B'].groupby('visitorId', as_index=False).agg({'transactionId': pd.Series.nunique})\n",
    "ordersByUsersB.columns = ['userId', 'orders']"
   ]
  },
  {
   "cell_type": "code",
   "execution_count": 50,
   "metadata": {},
   "outputs": [],
   "source": [
    "# объявим переменные sampleA и sampleB, в которых пользователям с заказами будет соответствовать число заказов пользователя, а пользователям без заказов — нули\n",
    "sampleA = pd.concat([ordersByUsersA['orders'], pd.Series(0, index=np.arange(visits[visits['group'] == 'A']['visitors'].sum() - len(ordersByUsersA['orders'])), name='orders')], axis=0)\n",
    "sampleB = pd.concat([ordersByUsersB['orders'], pd.Series(0, index=np.arange(visits[visits['group'] == 'B']['visitors'].sum() - len(ordersByUsersB['orders'])), name='orders')], axis=0)"
   ]
  },
  {
   "cell_type": "code",
   "execution_count": 51,
   "metadata": {},
   "outputs": [
    {
     "name": "stdout",
     "output_type": "stream",
     "text": [
      "Отвергаем нулевую гипотезу\n"
     ]
    }
   ],
   "source": [
    "# посчитаем статистическую значимость различия среднего количества заказов по результатам теста\n",
    "# применим тест Манна-Уитни для проверки нулевой гипотезы о том, что распределения двух выборок одинаковы\n",
    "alpha = 0.05 # уровень статистической значимости\n",
    "p_value = st.mannwhitneyu(sampleA, sampleB)[1]\n",
    "if p_value < alpha:\n",
    "    print('Отвергаем нулевую гипотезу')\n",
    "else:\n",
    "    print('Не удалось отвергнуть нулевую гипотезу')"
   ]
  },
  {
   "cell_type": "code",
   "execution_count": 52,
   "metadata": {},
   "outputs": [
    {
     "name": "stdout",
     "output_type": "stream",
     "text": [
      "P-Value: 0.017\n",
      "Относительное различие в среднем между группой В и А: 0.138\n"
     ]
    }
   ],
   "source": [
    "# выведем p-value для сравнения среднего между группами, применим тест Манна-Уитни\n",
    "print('P-Value: {0:.3f}'.format(p_value))\n",
    "# посчитаем и выведем относительное различие в среднем между группами\n",
    "print('Относительное различие в среднем между группой В и А: {0:.3f}'.format(sampleB.mean()/sampleA.mean()-1))"
   ]
  },
  {
   "cell_type": "markdown",
   "metadata": {},
   "source": [
    "**Вывод**  \n",
    "Статистически значимое различие в среднем значении между группами A и B существует, поэтому мы можем отвергнуть нулевую гипотезу.  \n",
    "Группа B показывает лучшее среднее значение по сравнению с группой A, что свидетельствует о положительном эффекте изменений, проведенных в группе B."
   ]
  },
  {
   "cell_type": "markdown",
   "metadata": {},
   "source": [
    "#### Посчитайте статистическую значимость различий в среднем чеке заказа между группами по «сырым» данным. Сделайте выводы и предположения."
   ]
  },
  {
   "cell_type": "markdown",
   "metadata": {},
   "source": [
    "Определим нулевую и альтернативную гипотезы:  \n",
    "H0: статистически значимых различий в среднем чеке заказа между группами по «сырым» данным А и В нет.  \n",
    "H1: статистически значимые различия в среднем чеке заказа между группами по «сырым» данным А и В есть.  "
   ]
  },
  {
   "cell_type": "code",
   "execution_count": 53,
   "metadata": {},
   "outputs": [
    {
     "name": "stdout",
     "output_type": "stream",
     "text": [
      "Не удалось отвергнуть нулевую гипотезу\n"
     ]
    }
   ],
   "source": [
    "# посчитаем статистическую значимость различия среднего количества заказов по результатам теста\n",
    "# применим тест Манна-Уитни для проверки нулевой гипотезы, потому что он не требует нормальности данных и устойчив к выбросам.\n",
    "alpha = 0.05 # уровень статистической значимости\n",
    "p_value = st.mannwhitneyu(orders[orders['group'] == 'A']['revenue'], orders[orders['group'] == 'B']['revenue'])[1]\n",
    "\n",
    "if p_value < alpha:\n",
    "    print('Отвергаем нулевую гипотезу')\n",
    "else:\n",
    "    print('Не удалось отвергнуть нулевую гипотезу')"
   ]
  },
  {
   "cell_type": "code",
   "execution_count": 54,
   "metadata": {},
   "outputs": [
    {
     "name": "stdout",
     "output_type": "stream",
     "text": [
      "P-value: 0.729\n",
      "Различие в среднем чеке заказа группы B и A: 0.259\n"
     ]
    }
   ],
   "source": [
    "print('P-value: {0:.3f}'.format(p_value))\n",
    "print('Различие в среднем чеке заказа группы B и A: {0:.3f}'.format(\n",
    "orders[orders['group']=='B']['revenue'].mean()/orders[orders['group']=='A']['revenue'].mean()-1))"
   ]
  },
  {
   "cell_type": "markdown",
   "metadata": {},
   "source": [
    "**Вывод**  \n",
    "P-value 0.729 значительно выше стандартного порога 0.05, что означает, что нет статистически значимых различий между группами A и B. Мы не можем отвергнуть нулевую гипотезу о том, что средние чеки в обеих группах одинаковы.  \n",
    "Также средний чек группы B на 26% больше среднего чека группы A."
   ]
  },
  {
   "cell_type": "markdown",
   "metadata": {},
   "source": [
    "#### Посчитайте статистическую значимость различий в среднем количестве заказов на посетителя между группами по «очищенным» данным. Сделайте выводы и предположения."
   ]
  },
  {
   "cell_type": "markdown",
   "metadata": {},
   "source": [
    "Определим нулевую и альтернативную гипотезы:  \n",
    "H0: статистически значимых различий в среднем количестве заказов на посетителя между группами А и В по «очищенным» данным нет.\n",
    "H1: статистически значимые различия в среднем количестве заказов на посетителя между группами А и В по «очищенным» данным есть."
   ]
  },
  {
   "cell_type": "code",
   "execution_count": 55,
   "metadata": {},
   "outputs": [],
   "source": [
    "# отфильтруем аномальных пользователей\n",
    "# возьмем за аномальных пользователей тех, кто совершил 2 заказа и более, и совершил заказ на сумму свыше 28 000\n",
    "# пользователи с большим количеством заказов\n",
    "usersWithManyOrders = pd.concat([ordersByUsersA[ordersByUsersA['orders'] > np.percentile(ordersByUsers['transactionId'], 95)]['userId'],ordersByUsersB[ordersByUsersB['orders'] > np.percentile(ordersByUsers['transactionId'], 95)]['userId']], axis=0)\n",
    "# пользователи с дорогими заказами\n",
    "usersWithExpensiveOrders = orders[orders['revenue'] > np.percentile(orders['revenue'], 95)]['visitorId'] "
   ]
  },
  {
   "cell_type": "code",
   "execution_count": 56,
   "metadata": {},
   "outputs": [],
   "source": [
    "# объединим их в таблице abnormalUsers, удалим дубликаты, отсортируем по возрастанию \n",
    "abnormalUsers = pd.concat([usersWithManyOrders, usersWithExpensiveOrders], axis = 0).drop_duplicates().sort_values()"
   ]
  },
  {
   "cell_type": "code",
   "execution_count": 57,
   "metadata": {},
   "outputs": [
    {
     "data": {
      "text/plain": [
       "(74,)"
      ]
     },
     "execution_count": 57,
     "metadata": {},
     "output_type": "execute_result"
    }
   ],
   "source": [
    "# посмотрим количество аномальных пользователей\n",
    "abnormalUsers.shape"
   ]
  },
  {
   "cell_type": "code",
   "execution_count": 58,
   "metadata": {},
   "outputs": [],
   "source": [
    "# создадим переменные sampleAFiltered и sampleBFiltered, в которых сохраним очищенные данные о заказах\n",
    "# не включая аномальных пользователей\n",
    "sampleAFiltered = pd.concat([ordersByUsersA[np.logical_not(ordersByUsersA['userId'].isin(abnormalUsers))]['orders'],pd.Series(0, index=np.arange(visits[visits['group']=='A']['visitors'].sum() - len(ordersByUsersA['orders'])),name='orders')],axis=0)\n",
    "sampleBFiltered = pd.concat([ordersByUsersB[np.logical_not(ordersByUsersB['userId'].isin(abnormalUsers))]['orders'],pd.Series(0, index=np.arange(visits[visits['group']=='B']['visitors'].sum() - len(ordersByUsersB['orders'])),name='orders')],axis=0)"
   ]
  },
  {
   "cell_type": "code",
   "execution_count": 59,
   "metadata": {},
   "outputs": [
    {
     "name": "stdout",
     "output_type": "stream",
     "text": [
      "Отвергаем нулевую гипотезу\n"
     ]
    }
   ],
   "source": [
    "# посчитаем статистическую значимость различия среднего количества заказов на посетителя между группами по очищенным данным \n",
    "# применим тест Манна-Уитни для проверки нулевой гипотезы\n",
    "alpha = 0.05 # уровень статистической значимости\n",
    "p_value = st.mannwhitneyu(sampleAFiltered, sampleBFiltered)[1]\n",
    "if p_value < alpha:\n",
    "    print('Отвергаем нулевую гипотезу')\n",
    "else:\n",
    "    print('Не удалось отвергнуть нулевую гипотезу')"
   ]
  },
  {
   "cell_type": "code",
   "execution_count": 60,
   "metadata": {},
   "outputs": [
    {
     "name": "stdout",
     "output_type": "stream",
     "text": [
      "P-value: 0.013\n",
      "Отличие в среднем количестве заказов на посетителя между группами B и A по очищенным данным: 0.173\n"
     ]
    }
   ],
   "source": [
    "# выведем p-value для сравнения среднего между очищенными группами\n",
    "# выведем относительный прирост среднего очищенной группы B\n",
    "print('P-value: {0:.3f}'.format(p_value))\n",
    "print('Отличие в среднем количестве заказов на посетителя между группами B и A по очищенным данным: {0:.3f}'.format(sampleBFiltered.mean()/sampleAFiltered.mean()-1))"
   ]
  },
  {
   "cell_type": "markdown",
   "metadata": {},
   "source": [
    "**Вывод**  \n",
    "P-value (0.013) ниже уровня значимости (0.05), что означает, что мы отвергаем нулевую гипотезу. Это указывает на наличие статистически значимых различий в среднем количестве заказов на посетителя между группами A и B.  \n",
    "Различие в среднем количестве заказов на посетителя между группами В и А составляет 17%, что означает, что группа В в среднем делает на 17% больше на посетителя, чем группа А.\n"
   ]
  },
  {
   "cell_type": "markdown",
   "metadata": {},
   "source": [
    "#### Посчитайте статистическую значимость различий в среднем чеке заказа между группами по «очищенным» данным. Сделайте выводы и предположения."
   ]
  },
  {
   "cell_type": "markdown",
   "metadata": {},
   "source": [
    "Определим нулевую и альтернативную гипотезы:  \n",
    "H0: статистически значимых различий в среднем чеке заказа между группами по «сырым» данным А и В нет.  \n",
    "H1: статистически значимые различия в среднем чеке заказа между группами по «сырым» данным А и В есть."
   ]
  },
  {
   "cell_type": "code",
   "execution_count": 61,
   "metadata": {},
   "outputs": [
    {
     "name": "stdout",
     "output_type": "stream",
     "text": [
      "Не удалось отвергнуть нулевую гипотезу\n"
     ]
    }
   ],
   "source": [
    "# посчитаем статистическую значимость различия среднего количества заказов на посетителя между группами по очищенным данным \n",
    "# применим тест Манна-Уитни для проверки нулевой гипотезы\n",
    "alpha = 0.05 # уровень статистической значимости\n",
    "\n",
    "p_value = st.mannwhitneyu(orders[np.logical_and(orders['group']=='A', \n",
    "np.logical_not(orders['visitorId'].isin(abnormalUsers)))]['revenue'],\n",
    "orders[np.logical_and(orders['group']=='B', np.logical_not(orders['visitorId'].isin(abnormalUsers)))]['revenue'])[1]\n",
    "\n",
    "if p_value < alpha:\n",
    "    print('Отвергаем нулевую гипотезу')\n",
    "else:\n",
    "    print('Не удалось отвергнуть нулевую гипотезу')"
   ]
  },
  {
   "cell_type": "code",
   "execution_count": 62,
   "metadata": {},
   "outputs": [
    {
     "name": "stdout",
     "output_type": "stream",
     "text": [
      "P-Value: 0.738\n",
      "Отличие в среднем чеке заказа между группами B и A: -0.020\n"
     ]
    }
   ],
   "source": [
    "print('P-Value: {0:.3f}'.format(p_value))\n",
    "\n",
    "print('Отличие в среднем чеке заказа между группами B и A: {0:.3f}'.format(orders[np.logical_and(orders['group']=='B',\n",
    "np.logical_not(orders['visitorId'].isin(abnormalUsers)))]['revenue'].mean()/\n",
    "orders[np.logical_and(orders['group']=='A', np.logical_not(orders['visitorId'].isin(abnormalUsers)))]['revenue'].mean() - 1))"
   ]
  },
  {
   "cell_type": "markdown",
   "metadata": {},
   "source": [
    "**Вывод**  \n",
    "Значение 0.738 выше порога 0.05, это означает, что статистически значимых различий между группами А и В нет. Отвергунуть нулевую гипотезу о том, что средние чеки в обеих группах одинаковы, мы не можем.  \n",
    "Отличие в среднем чеке составляет -0.020, оно не является статистически значимым. "
   ]
  },
  {
   "cell_type": "markdown",
   "metadata": {},
   "source": [
    "#### Примите решение по результатам теста и объясните его. Варианты решений:\n",
    "1. Остановить тест, зафиксировать победу одной из групп.\n",
    "2. Остановить тест, зафиксировать отсутствие различий между группами.\n",
    "3. Продолжить тест."
   ]
  },
  {
   "cell_type": "markdown",
   "metadata": {},
   "source": [
    "Остановить тест, зафиксировать победу группы В.  \n",
    "\n",
    "Не удалось зафиксировать статистически значимое различие средних чеков между группами ни по сырым, ни по очищенным данным. Однако, средний чек группы B по сырым данным на 26% выше среднего чека группы A.  \n",
    "\n",
    "Конверсия группы B стабильно выше, чем у группы A, и имеет тенденцию к росту. График различий среднего чека указывает на наличие аномалий в сырых данных.  \n",
    "\n",
    "Исходя из этого, разумно прекратить тест и зафиксировать победу группы B. Несмотря на отсутствие значимых различий в средних чеках, конверсия группы B выше, что свидетельствует о том, что изменения привели к увеличению числа заказов.  "
   ]
  }
 ],
 "metadata": {
  "ExecuteTimeLog": [
   {
    "duration": 1294,
    "start_time": "2024-09-06T10:16:16.364Z"
   },
   {
    "duration": 94,
    "start_time": "2024-09-06T10:16:50.751Z"
   },
   {
    "duration": 12,
    "start_time": "2024-09-06T10:17:04.874Z"
   },
   {
    "duration": 50,
    "start_time": "2024-09-08T08:20:47.838Z"
   },
   {
    "duration": 1468,
    "start_time": "2024-09-08T08:20:54.451Z"
   },
   {
    "duration": 71,
    "start_time": "2024-09-08T08:20:55.921Z"
   },
   {
    "duration": 11,
    "start_time": "2024-09-08T08:20:55.994Z"
   },
   {
    "duration": 119,
    "start_time": "2024-09-08T08:20:56.007Z"
   },
   {
    "duration": 6,
    "start_time": "2024-09-08T08:21:01.978Z"
   },
   {
    "duration": 497,
    "start_time": "2024-09-08T08:21:12.393Z"
   },
   {
    "duration": 7,
    "start_time": "2024-09-08T08:21:12.962Z"
   },
   {
    "duration": 48,
    "start_time": "2024-09-08T08:21:24.032Z"
   },
   {
    "duration": 8,
    "start_time": "2024-09-08T08:21:24.600Z"
   },
   {
    "duration": 81,
    "start_time": "2024-09-08T08:22:05.897Z"
   },
   {
    "duration": 11,
    "start_time": "2024-09-08T08:22:11.128Z"
   },
   {
    "duration": 27,
    "start_time": "2024-09-08T08:22:27.209Z"
   },
   {
    "duration": 10,
    "start_time": "2024-09-08T08:22:27.624Z"
   },
   {
    "duration": 28,
    "start_time": "2024-09-08T08:22:32.101Z"
   },
   {
    "duration": 7,
    "start_time": "2024-09-08T08:22:32.486Z"
   },
   {
    "duration": 3,
    "start_time": "2024-09-08T08:23:21.029Z"
   },
   {
    "duration": 27,
    "start_time": "2024-09-08T08:23:21.647Z"
   },
   {
    "duration": 7,
    "start_time": "2024-09-08T08:23:21.947Z"
   },
   {
    "duration": 36,
    "start_time": "2024-09-08T08:23:22.341Z"
   },
   {
    "duration": 12,
    "start_time": "2024-09-08T08:23:23.840Z"
   },
   {
    "duration": 26,
    "start_time": "2024-09-08T08:23:24.281Z"
   },
   {
    "duration": 8,
    "start_time": "2024-09-08T08:23:24.893Z"
   },
   {
    "duration": 12,
    "start_time": "2024-09-08T08:25:09.443Z"
   },
   {
    "duration": 7,
    "start_time": "2024-09-08T08:25:26.201Z"
   },
   {
    "duration": 14,
    "start_time": "2024-09-08T08:55:59.533Z"
   },
   {
    "duration": 7,
    "start_time": "2024-09-08T08:56:17.065Z"
   },
   {
    "duration": 14,
    "start_time": "2024-09-08T08:56:31.544Z"
   },
   {
    "duration": 8,
    "start_time": "2024-09-08T08:56:34.105Z"
   },
   {
    "duration": 14,
    "start_time": "2024-09-08T08:56:53.192Z"
   },
   {
    "duration": 7,
    "start_time": "2024-09-08T08:57:06.126Z"
   },
   {
    "duration": 9,
    "start_time": "2024-09-08T08:57:55.235Z"
   },
   {
    "duration": 12,
    "start_time": "2024-09-08T08:58:11.708Z"
   },
   {
    "duration": 1454,
    "start_time": "2024-09-09T11:53:24.450Z"
   },
   {
    "duration": 75,
    "start_time": "2024-09-09T11:53:25.906Z"
   },
   {
    "duration": 12,
    "start_time": "2024-09-09T11:53:25.983Z"
   },
   {
    "duration": 93,
    "start_time": "2024-09-09T11:53:25.997Z"
   },
   {
    "duration": 9,
    "start_time": "2024-09-09T11:53:26.092Z"
   },
   {
    "duration": 77,
    "start_time": "2024-09-09T11:53:26.102Z"
   },
   {
    "duration": 7,
    "start_time": "2024-09-09T11:53:26.181Z"
   },
   {
    "duration": 21,
    "start_time": "2024-09-09T11:53:26.190Z"
   },
   {
    "duration": 8,
    "start_time": "2024-09-09T11:53:26.213Z"
   },
   {
    "duration": 11,
    "start_time": "2024-09-09T11:53:26.224Z"
   },
   {
    "duration": 7,
    "start_time": "2024-09-09T11:53:26.237Z"
   },
   {
    "duration": 17,
    "start_time": "2024-09-09T11:53:26.245Z"
   },
   {
    "duration": 6,
    "start_time": "2024-09-09T11:53:26.264Z"
   },
   {
    "duration": 8,
    "start_time": "2024-09-09T11:56:24.847Z"
   },
   {
    "duration": 8,
    "start_time": "2024-09-09T11:59:13.020Z"
   },
   {
    "duration": 5,
    "start_time": "2024-09-09T12:03:20.452Z"
   },
   {
    "duration": 105,
    "start_time": "2024-09-09T12:03:50.378Z"
   },
   {
    "duration": 9,
    "start_time": "2024-09-09T12:03:55.157Z"
   },
   {
    "duration": 6,
    "start_time": "2024-09-09T12:04:10.206Z"
   },
   {
    "duration": 4,
    "start_time": "2024-09-09T12:05:49.428Z"
   },
   {
    "duration": 13,
    "start_time": "2024-09-09T12:38:29.592Z"
   },
   {
    "duration": 10,
    "start_time": "2024-09-09T12:38:35.866Z"
   },
   {
    "duration": 9,
    "start_time": "2024-09-09T12:38:49.818Z"
   },
   {
    "duration": 1224,
    "start_time": "2024-09-09T12:38:56.771Z"
   },
   {
    "duration": 29,
    "start_time": "2024-09-09T12:38:57.997Z"
   },
   {
    "duration": 13,
    "start_time": "2024-09-09T12:38:58.027Z"
   },
   {
    "duration": 45,
    "start_time": "2024-09-09T12:38:58.041Z"
   },
   {
    "duration": 8,
    "start_time": "2024-09-09T12:38:58.089Z"
   },
   {
    "duration": 33,
    "start_time": "2024-09-09T12:38:58.099Z"
   },
   {
    "duration": 40,
    "start_time": "2024-09-09T12:38:58.134Z"
   },
   {
    "duration": 26,
    "start_time": "2024-09-09T12:38:58.175Z"
   },
   {
    "duration": 19,
    "start_time": "2024-09-09T12:38:58.203Z"
   },
   {
    "duration": 11,
    "start_time": "2024-09-09T12:38:58.223Z"
   },
   {
    "duration": 19,
    "start_time": "2024-09-09T12:38:58.236Z"
   },
   {
    "duration": 39,
    "start_time": "2024-09-09T12:38:58.257Z"
   },
   {
    "duration": 30,
    "start_time": "2024-09-09T12:38:58.297Z"
   },
   {
    "duration": 114,
    "start_time": "2024-09-09T12:38:58.329Z"
   },
   {
    "duration": 9,
    "start_time": "2024-09-09T12:39:15.805Z"
   },
   {
    "duration": 1502,
    "start_time": "2024-09-09T12:39:26.713Z"
   },
   {
    "duration": 6,
    "start_time": "2024-09-09T12:39:38.694Z"
   },
   {
    "duration": 13,
    "start_time": "2024-09-09T12:40:38.144Z"
   },
   {
    "duration": 1182,
    "start_time": "2024-09-09T12:40:52.845Z"
   },
   {
    "duration": 12,
    "start_time": "2024-09-09T12:40:59.278Z"
   },
   {
    "duration": 13,
    "start_time": "2024-09-09T12:41:58.270Z"
   },
   {
    "duration": 4,
    "start_time": "2024-09-09T12:44:16.281Z"
   },
   {
    "duration": 12,
    "start_time": "2024-09-09T12:44:30.406Z"
   },
   {
    "duration": 72,
    "start_time": "2024-09-09T12:45:39.151Z"
   },
   {
    "duration": 6,
    "start_time": "2024-09-09T12:45:39.925Z"
   },
   {
    "duration": 378,
    "start_time": "2024-09-09T12:45:47.336Z"
   },
   {
    "duration": 27,
    "start_time": "2024-09-09T12:45:50.452Z"
   },
   {
    "duration": 9,
    "start_time": "2024-09-09T12:45:51.884Z"
   },
   {
    "duration": 11,
    "start_time": "2024-09-09T12:46:01.755Z"
   },
   {
    "duration": 7,
    "start_time": "2024-09-09T12:46:05.703Z"
   },
   {
    "duration": 1248,
    "start_time": "2024-09-09T12:46:50.754Z"
   },
   {
    "duration": 28,
    "start_time": "2024-09-09T12:46:52.004Z"
   },
   {
    "duration": 11,
    "start_time": "2024-09-09T12:46:52.034Z"
   },
   {
    "duration": 56,
    "start_time": "2024-09-09T12:46:52.047Z"
   },
   {
    "duration": 10,
    "start_time": "2024-09-09T12:46:52.105Z"
   },
   {
    "duration": 37,
    "start_time": "2024-09-09T12:46:52.117Z"
   },
   {
    "duration": 8,
    "start_time": "2024-09-09T12:46:52.156Z"
   },
   {
    "duration": 98,
    "start_time": "2024-09-09T12:46:52.166Z"
   },
   {
    "duration": 26,
    "start_time": "2024-09-09T12:46:52.267Z"
   },
   {
    "duration": 60,
    "start_time": "2024-09-09T12:46:52.295Z"
   },
   {
    "duration": 12,
    "start_time": "2024-09-09T12:46:52.358Z"
   },
   {
    "duration": 19,
    "start_time": "2024-09-09T12:46:52.372Z"
   },
   {
    "duration": 23,
    "start_time": "2024-09-09T12:46:52.394Z"
   },
   {
    "duration": 1325,
    "start_time": "2024-09-09T12:46:52.420Z"
   },
   {
    "duration": 0,
    "start_time": "2024-09-09T12:46:53.747Z"
   },
   {
    "duration": 0,
    "start_time": "2024-09-09T12:46:53.749Z"
   },
   {
    "duration": 0,
    "start_time": "2024-09-09T12:46:53.750Z"
   },
   {
    "duration": 5,
    "start_time": "2024-09-09T12:47:10.878Z"
   },
   {
    "duration": 11,
    "start_time": "2024-09-09T12:47:11.770Z"
   },
   {
    "duration": 5,
    "start_time": "2024-09-09T12:47:18.427Z"
   },
   {
    "duration": 11,
    "start_time": "2024-09-09T12:47:22.766Z"
   },
   {
    "duration": 4,
    "start_time": "2024-09-09T12:47:24.790Z"
   },
   {
    "duration": 11,
    "start_time": "2024-09-09T12:47:25.365Z"
   },
   {
    "duration": 1326,
    "start_time": "2024-09-10T05:43:32.393Z"
   },
   {
    "duration": 86,
    "start_time": "2024-09-10T05:43:33.721Z"
   },
   {
    "duration": 49,
    "start_time": "2024-09-10T05:43:33.810Z"
   },
   {
    "duration": 114,
    "start_time": "2024-09-10T05:43:33.861Z"
   },
   {
    "duration": 7,
    "start_time": "2024-09-10T05:43:33.977Z"
   },
   {
    "duration": 70,
    "start_time": "2024-09-10T05:43:33.986Z"
   },
   {
    "duration": 7,
    "start_time": "2024-09-10T05:43:34.058Z"
   },
   {
    "duration": 128,
    "start_time": "2024-09-10T05:43:34.066Z"
   },
   {
    "duration": 22,
    "start_time": "2024-09-10T05:43:34.196Z"
   },
   {
    "duration": 26,
    "start_time": "2024-09-10T05:43:34.220Z"
   },
   {
    "duration": 29,
    "start_time": "2024-09-10T05:43:34.248Z"
   },
   {
    "duration": 24,
    "start_time": "2024-09-10T05:43:34.279Z"
   },
   {
    "duration": 9,
    "start_time": "2024-09-10T05:43:34.304Z"
   },
   {
    "duration": 44,
    "start_time": "2024-09-10T05:43:34.315Z"
   },
   {
    "duration": 97,
    "start_time": "2024-09-10T05:43:34.361Z"
   },
   {
    "duration": 33,
    "start_time": "2024-09-10T05:43:34.459Z"
   },
   {
    "duration": 149,
    "start_time": "2024-09-10T05:43:34.494Z"
   },
   {
    "duration": 12,
    "start_time": "2024-09-10T05:55:14.808Z"
   },
   {
    "duration": 8,
    "start_time": "2024-09-10T05:55:24.652Z"
   },
   {
    "duration": 12,
    "start_time": "2024-09-10T05:58:29.938Z"
   },
   {
    "duration": 8,
    "start_time": "2024-09-10T05:58:46.591Z"
   },
   {
    "duration": 5,
    "start_time": "2024-09-10T06:00:42.181Z"
   },
   {
    "duration": 8,
    "start_time": "2024-09-10T06:00:44.960Z"
   },
   {
    "duration": 5,
    "start_time": "2024-09-10T06:04:59.502Z"
   },
   {
    "duration": 173,
    "start_time": "2024-09-10T06:04:59.987Z"
   },
   {
    "duration": 93,
    "start_time": "2024-09-10T06:05:02.724Z"
   },
   {
    "duration": 6,
    "start_time": "2024-09-10T06:06:55.091Z"
   },
   {
    "duration": 14,
    "start_time": "2024-09-10T06:07:05.318Z"
   },
   {
    "duration": 5,
    "start_time": "2024-09-10T06:08:04.542Z"
   },
   {
    "duration": 10,
    "start_time": "2024-09-10T06:10:59.579Z"
   },
   {
    "duration": 5,
    "start_time": "2024-09-10T06:12:48.258Z"
   },
   {
    "duration": 4,
    "start_time": "2024-09-10T06:12:52.963Z"
   },
   {
    "duration": 234,
    "start_time": "2024-09-10T06:14:05.063Z"
   },
   {
    "duration": 203,
    "start_time": "2024-09-10T06:14:58.725Z"
   },
   {
    "duration": 226,
    "start_time": "2024-09-10T06:15:04.295Z"
   },
   {
    "duration": 247,
    "start_time": "2024-09-10T06:15:16.350Z"
   },
   {
    "duration": 115,
    "start_time": "2024-09-10T06:18:16.126Z"
   },
   {
    "duration": 108,
    "start_time": "2024-09-10T06:18:27.175Z"
   },
   {
    "duration": 120,
    "start_time": "2024-09-10T06:18:46.703Z"
   },
   {
    "duration": 9,
    "start_time": "2024-09-10T06:19:09.699Z"
   },
   {
    "duration": 290,
    "start_time": "2024-09-10T06:19:30.805Z"
   },
   {
    "duration": 254,
    "start_time": "2024-09-10T06:19:42.714Z"
   },
   {
    "duration": 270,
    "start_time": "2024-09-10T06:21:00.107Z"
   },
   {
    "duration": 259,
    "start_time": "2024-09-10T06:21:08.039Z"
   },
   {
    "duration": 280,
    "start_time": "2024-09-10T06:21:12.105Z"
   },
   {
    "duration": 260,
    "start_time": "2024-09-10T06:21:18.209Z"
   },
   {
    "duration": 263,
    "start_time": "2024-09-10T06:21:23.414Z"
   },
   {
    "duration": 272,
    "start_time": "2024-09-10T06:21:32.849Z"
   },
   {
    "duration": 239,
    "start_time": "2024-09-10T06:21:37.892Z"
   },
   {
    "duration": 221,
    "start_time": "2024-09-10T06:21:41.689Z"
   },
   {
    "duration": 83,
    "start_time": "2024-09-10T06:23:04.348Z"
   },
   {
    "duration": 67,
    "start_time": "2024-09-10T06:23:07.713Z"
   },
   {
    "duration": 237,
    "start_time": "2024-09-10T06:23:10.872Z"
   },
   {
    "duration": 294,
    "start_time": "2024-09-10T06:24:30.408Z"
   },
   {
    "duration": 231,
    "start_time": "2024-09-10T06:24:33.731Z"
   },
   {
    "duration": 244,
    "start_time": "2024-09-10T06:24:36.945Z"
   },
   {
    "duration": 121,
    "start_time": "2024-09-10T06:24:40.202Z"
   },
   {
    "duration": 283,
    "start_time": "2024-09-10T06:24:42.364Z"
   },
   {
    "duration": 221,
    "start_time": "2024-09-10T06:25:26.273Z"
   },
   {
    "duration": 223,
    "start_time": "2024-09-10T06:25:40.956Z"
   },
   {
    "duration": 249,
    "start_time": "2024-09-10T06:27:56.242Z"
   },
   {
    "duration": 247,
    "start_time": "2024-09-10T06:28:06.007Z"
   },
   {
    "duration": 422,
    "start_time": "2024-09-10T06:29:50.196Z"
   },
   {
    "duration": 4,
    "start_time": "2024-09-10T06:29:50.720Z"
   },
   {
    "duration": 193,
    "start_time": "2024-09-10T06:31:12.697Z"
   },
   {
    "duration": 6,
    "start_time": "2024-09-10T06:31:17.087Z"
   },
   {
    "duration": 165,
    "start_time": "2024-09-10T06:31:17.574Z"
   },
   {
    "duration": 577,
    "start_time": "2024-09-10T06:31:17.994Z"
   },
   {
    "duration": 0,
    "start_time": "2024-09-10T06:31:18.573Z"
   },
   {
    "duration": 9,
    "start_time": "2024-09-10T06:31:58.167Z"
   },
   {
    "duration": 118,
    "start_time": "2024-09-10T06:32:07.138Z"
   },
   {
    "duration": 13,
    "start_time": "2024-09-10T06:32:07.901Z"
   },
   {
    "duration": 161,
    "start_time": "2024-09-10T06:32:18.831Z"
   },
   {
    "duration": 100,
    "start_time": "2024-09-10T06:32:19.249Z"
   },
   {
    "duration": 7,
    "start_time": "2024-09-10T06:32:21.397Z"
   },
   {
    "duration": 8,
    "start_time": "2024-09-10T06:32:22.889Z"
   },
   {
    "duration": 4,
    "start_time": "2024-09-10T06:32:23.867Z"
   },
   {
    "duration": 4,
    "start_time": "2024-09-10T06:32:24.384Z"
   },
   {
    "duration": 261,
    "start_time": "2024-09-10T06:32:25.683Z"
   },
   {
    "duration": 248,
    "start_time": "2024-09-10T06:32:46.318Z"
   },
   {
    "duration": 180,
    "start_time": "2024-09-10T06:32:52.549Z"
   },
   {
    "duration": 170,
    "start_time": "2024-09-10T06:32:59.826Z"
   },
   {
    "duration": 197,
    "start_time": "2024-09-10T06:33:05.137Z"
   },
   {
    "duration": 207,
    "start_time": "2024-09-10T06:33:13.895Z"
   },
   {
    "duration": 48,
    "start_time": "2024-09-10T06:34:43.897Z"
   },
   {
    "duration": 10,
    "start_time": "2024-09-10T06:34:44.339Z"
   },
   {
    "duration": 5,
    "start_time": "2024-09-10T06:34:45.217Z"
   },
   {
    "duration": 27,
    "start_time": "2024-09-10T06:34:45.866Z"
   },
   {
    "duration": 9,
    "start_time": "2024-09-10T06:34:46.419Z"
   },
   {
    "duration": 5,
    "start_time": "2024-09-10T06:34:46.957Z"
   },
   {
    "duration": 5,
    "start_time": "2024-09-10T06:34:47.723Z"
   },
   {
    "duration": 160,
    "start_time": "2024-09-10T06:34:48.266Z"
   },
   {
    "duration": 112,
    "start_time": "2024-09-10T06:34:48.859Z"
   },
   {
    "duration": 7,
    "start_time": "2024-09-10T06:34:50.483Z"
   },
   {
    "duration": 10,
    "start_time": "2024-09-10T06:34:51.770Z"
   },
   {
    "duration": 4,
    "start_time": "2024-09-10T06:34:52.880Z"
   },
   {
    "duration": 5,
    "start_time": "2024-09-10T06:34:53.551Z"
   },
   {
    "duration": 176,
    "start_time": "2024-09-10T06:34:54.814Z"
   },
   {
    "duration": 204,
    "start_time": "2024-09-10T06:35:02.209Z"
   },
   {
    "duration": 171,
    "start_time": "2024-09-10T06:35:06.391Z"
   },
   {
    "duration": 183,
    "start_time": "2024-09-10T06:35:54.540Z"
   },
   {
    "duration": 200,
    "start_time": "2024-09-10T06:47:26.892Z"
   },
   {
    "duration": 178,
    "start_time": "2024-09-10T06:47:51.855Z"
   },
   {
    "duration": 14,
    "start_time": "2024-09-10T06:49:32.294Z"
   },
   {
    "duration": 9,
    "start_time": "2024-09-10T06:49:40.124Z"
   },
   {
    "duration": 233,
    "start_time": "2024-09-10T06:50:12.626Z"
   },
   {
    "duration": 202,
    "start_time": "2024-09-10T06:50:31.783Z"
   },
   {
    "duration": 146,
    "start_time": "2024-09-10T06:52:22.367Z"
   },
   {
    "duration": 1163,
    "start_time": "2024-09-10T06:53:52.551Z"
   },
   {
    "duration": 27,
    "start_time": "2024-09-10T06:53:53.716Z"
   },
   {
    "duration": 10,
    "start_time": "2024-09-10T06:53:53.744Z"
   },
   {
    "duration": 9,
    "start_time": "2024-09-10T06:53:53.756Z"
   },
   {
    "duration": 35,
    "start_time": "2024-09-10T06:53:53.767Z"
   },
   {
    "duration": 86,
    "start_time": "2024-09-10T06:53:53.803Z"
   },
   {
    "duration": 23,
    "start_time": "2024-09-10T06:53:53.891Z"
   },
   {
    "duration": 161,
    "start_time": "2024-09-10T06:53:53.915Z"
   },
   {
    "duration": 24,
    "start_time": "2024-09-10T06:53:54.077Z"
   },
   {
    "duration": 64,
    "start_time": "2024-09-10T06:53:54.104Z"
   },
   {
    "duration": 14,
    "start_time": "2024-09-10T06:53:54.169Z"
   },
   {
    "duration": 13,
    "start_time": "2024-09-10T06:53:54.185Z"
   },
   {
    "duration": 31,
    "start_time": "2024-09-10T06:53:54.200Z"
   },
   {
    "duration": 10,
    "start_time": "2024-09-10T06:53:54.232Z"
   },
   {
    "duration": 18,
    "start_time": "2024-09-10T06:53:54.243Z"
   },
   {
    "duration": 27,
    "start_time": "2024-09-10T06:53:54.264Z"
   },
   {
    "duration": 178,
    "start_time": "2024-09-10T06:53:54.297Z"
   },
   {
    "duration": 117,
    "start_time": "2024-09-10T06:53:54.477Z"
   },
   {
    "duration": 0,
    "start_time": "2024-09-10T06:53:54.596Z"
   },
   {
    "duration": 0,
    "start_time": "2024-09-10T06:53:54.597Z"
   },
   {
    "duration": 0,
    "start_time": "2024-09-10T06:53:54.598Z"
   },
   {
    "duration": 0,
    "start_time": "2024-09-10T06:53:54.599Z"
   },
   {
    "duration": 0,
    "start_time": "2024-09-10T06:53:54.608Z"
   },
   {
    "duration": 0,
    "start_time": "2024-09-10T06:53:54.610Z"
   },
   {
    "duration": 105,
    "start_time": "2024-09-10T06:54:30.274Z"
   },
   {
    "duration": 7,
    "start_time": "2024-09-10T06:54:31.378Z"
   },
   {
    "duration": 11,
    "start_time": "2024-09-10T06:54:32.251Z"
   },
   {
    "duration": 4,
    "start_time": "2024-09-10T06:54:37.035Z"
   },
   {
    "duration": 5,
    "start_time": "2024-09-10T06:54:37.658Z"
   },
   {
    "duration": 274,
    "start_time": "2024-09-10T06:54:38.837Z"
   },
   {
    "duration": 189,
    "start_time": "2024-09-10T06:54:44.580Z"
   },
   {
    "duration": 16,
    "start_time": "2024-09-10T06:55:34.989Z"
   },
   {
    "duration": 1094,
    "start_time": "2024-09-10T06:56:16.080Z"
   },
   {
    "duration": 27,
    "start_time": "2024-09-10T06:56:17.175Z"
   },
   {
    "duration": 37,
    "start_time": "2024-09-10T06:56:17.203Z"
   },
   {
    "duration": 21,
    "start_time": "2024-09-10T06:56:17.242Z"
   },
   {
    "duration": 28,
    "start_time": "2024-09-10T06:56:17.265Z"
   },
   {
    "duration": 72,
    "start_time": "2024-09-10T06:56:17.294Z"
   },
   {
    "duration": 94,
    "start_time": "2024-09-10T06:56:17.367Z"
   },
   {
    "duration": 70,
    "start_time": "2024-09-10T06:56:17.463Z"
   },
   {
    "duration": 31,
    "start_time": "2024-09-10T06:56:17.535Z"
   },
   {
    "duration": 89,
    "start_time": "2024-09-10T06:56:17.569Z"
   },
   {
    "duration": 9,
    "start_time": "2024-09-10T06:56:17.659Z"
   },
   {
    "duration": 52,
    "start_time": "2024-09-10T06:56:17.669Z"
   },
   {
    "duration": 76,
    "start_time": "2024-09-10T06:56:17.723Z"
   },
   {
    "duration": 83,
    "start_time": "2024-09-10T06:56:17.800Z"
   },
   {
    "duration": 23,
    "start_time": "2024-09-10T06:56:17.884Z"
   },
   {
    "duration": 73,
    "start_time": "2024-09-10T06:56:17.908Z"
   },
   {
    "duration": 302,
    "start_time": "2024-09-10T06:56:17.983Z"
   },
   {
    "duration": 127,
    "start_time": "2024-09-10T06:56:18.287Z"
   },
   {
    "duration": 0,
    "start_time": "2024-09-10T06:56:18.415Z"
   },
   {
    "duration": 0,
    "start_time": "2024-09-10T06:56:18.416Z"
   },
   {
    "duration": 1,
    "start_time": "2024-09-10T06:56:18.417Z"
   },
   {
    "duration": 0,
    "start_time": "2024-09-10T06:56:18.418Z"
   },
   {
    "duration": 0,
    "start_time": "2024-09-10T06:56:18.420Z"
   },
   {
    "duration": 0,
    "start_time": "2024-09-10T06:56:18.421Z"
   },
   {
    "duration": 15,
    "start_time": "2024-09-10T06:57:05.426Z"
   },
   {
    "duration": 15,
    "start_time": "2024-09-10T06:57:13.951Z"
   },
   {
    "duration": 120,
    "start_time": "2024-09-10T06:57:17.308Z"
   },
   {
    "duration": 7,
    "start_time": "2024-09-10T06:57:18.687Z"
   },
   {
    "duration": 8,
    "start_time": "2024-09-10T06:57:19.190Z"
   },
   {
    "duration": 5,
    "start_time": "2024-09-10T06:57:19.769Z"
   },
   {
    "duration": 4,
    "start_time": "2024-09-10T06:57:20.613Z"
   },
   {
    "duration": 264,
    "start_time": "2024-09-10T06:57:21.928Z"
   },
   {
    "duration": 194,
    "start_time": "2024-09-10T06:57:26.664Z"
   },
   {
    "duration": 1438,
    "start_time": "2024-09-10T09:41:59.710Z"
   },
   {
    "duration": 98,
    "start_time": "2024-09-10T09:42:01.150Z"
   },
   {
    "duration": 12,
    "start_time": "2024-09-10T09:42:01.249Z"
   },
   {
    "duration": 29,
    "start_time": "2024-09-10T09:42:01.262Z"
   },
   {
    "duration": 39,
    "start_time": "2024-09-10T09:42:01.293Z"
   },
   {
    "duration": 16,
    "start_time": "2024-09-10T09:42:01.334Z"
   },
   {
    "duration": 10,
    "start_time": "2024-09-10T09:42:01.352Z"
   },
   {
    "duration": 4,
    "start_time": "2024-09-10T09:42:01.364Z"
   },
   {
    "duration": 17,
    "start_time": "2024-09-10T09:42:01.370Z"
   },
   {
    "duration": 117,
    "start_time": "2024-09-10T09:42:01.389Z"
   },
   {
    "duration": 11,
    "start_time": "2024-09-10T09:42:01.507Z"
   },
   {
    "duration": 44,
    "start_time": "2024-09-10T09:42:01.520Z"
   },
   {
    "duration": 74,
    "start_time": "2024-09-10T09:42:01.566Z"
   },
   {
    "duration": 11,
    "start_time": "2024-09-10T09:42:01.643Z"
   },
   {
    "duration": 6,
    "start_time": "2024-09-10T09:42:01.656Z"
   },
   {
    "duration": 7,
    "start_time": "2024-09-10T09:42:01.664Z"
   },
   {
    "duration": 186,
    "start_time": "2024-09-10T09:42:01.673Z"
   },
   {
    "duration": 146,
    "start_time": "2024-09-10T09:42:01.861Z"
   },
   {
    "duration": 8,
    "start_time": "2024-09-10T09:42:02.009Z"
   },
   {
    "duration": 78,
    "start_time": "2024-09-10T09:42:02.019Z"
   },
   {
    "duration": 23,
    "start_time": "2024-09-10T09:42:02.099Z"
   },
   {
    "duration": 8,
    "start_time": "2024-09-10T09:42:02.123Z"
   },
   {
    "duration": 342,
    "start_time": "2024-09-10T09:42:02.133Z"
   },
   {
    "duration": 229,
    "start_time": "2024-09-10T09:42:02.478Z"
   },
   {
    "duration": 165,
    "start_time": "2024-09-10T09:44:54.784Z"
   },
   {
    "duration": 120,
    "start_time": "2024-09-10T09:44:57.554Z"
   },
   {
    "duration": 7,
    "start_time": "2024-09-10T09:44:58.233Z"
   },
   {
    "duration": 10,
    "start_time": "2024-09-10T09:44:59.321Z"
   },
   {
    "duration": 5,
    "start_time": "2024-09-10T09:45:00.435Z"
   },
   {
    "duration": 4,
    "start_time": "2024-09-10T09:45:01.032Z"
   },
   {
    "duration": 236,
    "start_time": "2024-09-10T09:45:02.461Z"
   },
   {
    "duration": 9,
    "start_time": "2024-09-10T09:45:40.120Z"
   },
   {
    "duration": 10,
    "start_time": "2024-09-10T09:46:00.813Z"
   },
   {
    "duration": 13,
    "start_time": "2024-09-10T09:55:08.022Z"
   },
   {
    "duration": 67,
    "start_time": "2024-09-10T09:55:47.217Z"
   },
   {
    "duration": 67,
    "start_time": "2024-09-10T09:55:56.127Z"
   },
   {
    "duration": 5,
    "start_time": "2024-09-10T09:56:05.180Z"
   },
   {
    "duration": 12,
    "start_time": "2024-09-10T09:56:05.881Z"
   },
   {
    "duration": 6,
    "start_time": "2024-09-10T09:56:20.686Z"
   },
   {
    "duration": 169,
    "start_time": "2024-09-10T09:56:21.128Z"
   },
   {
    "duration": 127,
    "start_time": "2024-09-10T09:56:21.932Z"
   },
   {
    "duration": 6,
    "start_time": "2024-09-10T09:56:22.597Z"
   },
   {
    "duration": 8,
    "start_time": "2024-09-10T09:56:23.266Z"
   },
   {
    "duration": 5,
    "start_time": "2024-09-10T09:56:27.493Z"
   },
   {
    "duration": 4,
    "start_time": "2024-09-10T09:56:28.310Z"
   },
   {
    "duration": 225,
    "start_time": "2024-09-10T09:56:30.037Z"
   },
   {
    "duration": 6,
    "start_time": "2024-09-10T10:05:07.953Z"
   },
   {
    "duration": 10,
    "start_time": "2024-09-10T10:05:15.543Z"
   },
   {
    "duration": 9,
    "start_time": "2024-09-10T10:05:28.681Z"
   },
   {
    "duration": 299,
    "start_time": "2024-09-10T10:05:41.343Z"
   },
   {
    "duration": 322,
    "start_time": "2024-09-10T10:07:02.332Z"
   },
   {
    "duration": 288,
    "start_time": "2024-09-10T10:07:09.555Z"
   },
   {
    "duration": 457,
    "start_time": "2024-09-10T10:07:38.892Z"
   },
   {
    "duration": 338,
    "start_time": "2024-09-10T10:07:46.900Z"
   },
   {
    "duration": 298,
    "start_time": "2024-09-10T10:07:54.940Z"
   },
   {
    "duration": 320,
    "start_time": "2024-09-10T10:08:01.116Z"
   },
   {
    "duration": 306,
    "start_time": "2024-09-10T10:08:12.228Z"
   },
   {
    "duration": 4,
    "start_time": "2024-09-10T10:13:13.067Z"
   },
   {
    "duration": 6,
    "start_time": "2024-09-10T10:13:21.090Z"
   },
   {
    "duration": 14,
    "start_time": "2024-09-10T10:13:43.301Z"
   },
   {
    "duration": 10,
    "start_time": "2024-09-10T10:13:50.587Z"
   },
   {
    "duration": 10,
    "start_time": "2024-09-10T10:14:05.239Z"
   },
   {
    "duration": 294,
    "start_time": "2024-09-10T10:14:09.735Z"
   },
   {
    "duration": 198,
    "start_time": "2024-09-10T10:14:22.749Z"
   },
   {
    "duration": 194,
    "start_time": "2024-09-10T10:14:28.476Z"
   },
   {
    "duration": 239,
    "start_time": "2024-09-10T10:15:49.627Z"
   },
   {
    "duration": 239,
    "start_time": "2024-09-10T10:27:36.438Z"
   },
   {
    "duration": 226,
    "start_time": "2024-09-10T10:27:41.989Z"
   },
   {
    "duration": 316,
    "start_time": "2024-09-10T10:39:23.218Z"
   },
   {
    "duration": 217,
    "start_time": "2024-09-10T10:41:07.781Z"
   },
   {
    "duration": 206,
    "start_time": "2024-09-10T10:42:01.639Z"
   },
   {
    "duration": 208,
    "start_time": "2024-09-10T10:42:20.737Z"
   },
   {
    "duration": 231,
    "start_time": "2024-09-10T10:42:23.288Z"
   },
   {
    "duration": 6,
    "start_time": "2024-09-10T10:42:27.098Z"
   },
   {
    "duration": 208,
    "start_time": "2024-09-10T10:42:32.153Z"
   },
   {
    "duration": 200,
    "start_time": "2024-09-10T10:42:39.322Z"
   },
   {
    "duration": 51,
    "start_time": "2024-09-10T10:42:45.572Z"
   },
   {
    "duration": 226,
    "start_time": "2024-09-10T10:43:01.840Z"
   },
   {
    "duration": 206,
    "start_time": "2024-09-10T10:43:56.150Z"
   },
   {
    "duration": 208,
    "start_time": "2024-09-10T10:44:36.939Z"
   },
   {
    "duration": 9,
    "start_time": "2024-09-10T11:10:21.730Z"
   },
   {
    "duration": 10,
    "start_time": "2024-09-10T11:10:34.961Z"
   },
   {
    "duration": 328,
    "start_time": "2024-09-10T11:10:49.927Z"
   },
   {
    "duration": 382,
    "start_time": "2024-09-10T11:11:10.461Z"
   },
   {
    "duration": 326,
    "start_time": "2024-09-10T11:12:38.964Z"
   },
   {
    "duration": 363,
    "start_time": "2024-09-10T11:13:35.705Z"
   },
   {
    "duration": 328,
    "start_time": "2024-09-10T11:13:55.629Z"
   },
   {
    "duration": 369,
    "start_time": "2024-09-10T11:14:25.265Z"
   },
   {
    "duration": 360,
    "start_time": "2024-09-10T11:14:39.470Z"
   },
   {
    "duration": 322,
    "start_time": "2024-09-10T11:14:48.933Z"
   },
   {
    "duration": 131,
    "start_time": "2024-09-10T11:31:49.224Z"
   },
   {
    "duration": 133,
    "start_time": "2024-09-10T11:32:08.739Z"
   },
   {
    "duration": 9,
    "start_time": "2024-09-10T11:35:24.255Z"
   },
   {
    "duration": 12,
    "start_time": "2024-09-10T11:36:15.830Z"
   },
   {
    "duration": 859,
    "start_time": "2024-09-10T11:37:56.036Z"
   },
   {
    "duration": 155,
    "start_time": "2024-09-10T11:38:18.770Z"
   },
   {
    "duration": 132,
    "start_time": "2024-09-10T11:38:26.431Z"
   },
   {
    "duration": 138,
    "start_time": "2024-09-10T11:39:21.802Z"
   },
   {
    "duration": 144,
    "start_time": "2024-09-10T11:39:33.716Z"
   },
   {
    "duration": 833,
    "start_time": "2024-09-10T11:50:27.556Z"
   },
   {
    "duration": 116,
    "start_time": "2024-09-10T11:50:40.307Z"
   },
   {
    "duration": 209,
    "start_time": "2024-09-10T11:50:48.578Z"
   },
   {
    "duration": 130,
    "start_time": "2024-09-10T11:51:57.039Z"
   },
   {
    "duration": 149,
    "start_time": "2024-09-10T11:53:40.469Z"
   },
   {
    "duration": 167,
    "start_time": "2024-09-10T11:54:11.049Z"
   },
   {
    "duration": 155,
    "start_time": "2024-09-10T11:54:26.692Z"
   },
   {
    "duration": 160,
    "start_time": "2024-09-10T11:56:36.203Z"
   },
   {
    "duration": 148,
    "start_time": "2024-09-10T11:57:04.474Z"
   },
   {
    "duration": 153,
    "start_time": "2024-09-10T11:59:02.062Z"
   },
   {
    "duration": 152,
    "start_time": "2024-09-10T11:59:12.220Z"
   },
   {
    "duration": 152,
    "start_time": "2024-09-10T11:59:17.843Z"
   },
   {
    "duration": 1192,
    "start_time": "2024-09-10T12:30:08.653Z"
   },
   {
    "duration": 33,
    "start_time": "2024-09-10T12:30:09.847Z"
   },
   {
    "duration": 11,
    "start_time": "2024-09-10T12:30:09.882Z"
   },
   {
    "duration": 11,
    "start_time": "2024-09-10T12:30:09.895Z"
   },
   {
    "duration": 10,
    "start_time": "2024-09-10T12:30:09.909Z"
   },
   {
    "duration": 9,
    "start_time": "2024-09-10T12:30:09.921Z"
   },
   {
    "duration": 11,
    "start_time": "2024-09-10T12:30:09.931Z"
   },
   {
    "duration": 10,
    "start_time": "2024-09-10T12:30:09.943Z"
   },
   {
    "duration": 35,
    "start_time": "2024-09-10T12:30:09.954Z"
   },
   {
    "duration": 79,
    "start_time": "2024-09-10T12:30:09.991Z"
   },
   {
    "duration": 5,
    "start_time": "2024-09-10T12:30:10.072Z"
   },
   {
    "duration": 23,
    "start_time": "2024-09-10T12:30:10.078Z"
   },
   {
    "duration": 36,
    "start_time": "2024-09-10T12:30:10.103Z"
   },
   {
    "duration": 11,
    "start_time": "2024-09-10T12:30:10.142Z"
   },
   {
    "duration": 22,
    "start_time": "2024-09-10T12:30:10.154Z"
   },
   {
    "duration": 173,
    "start_time": "2024-09-10T12:30:10.178Z"
   },
   {
    "duration": 121,
    "start_time": "2024-09-10T12:30:10.352Z"
   },
   {
    "duration": 6,
    "start_time": "2024-09-10T12:30:10.475Z"
   },
   {
    "duration": 23,
    "start_time": "2024-09-10T12:30:10.483Z"
   },
   {
    "duration": 5,
    "start_time": "2024-09-10T12:30:10.507Z"
   },
   {
    "duration": 25,
    "start_time": "2024-09-10T12:30:10.513Z"
   },
   {
    "duration": 308,
    "start_time": "2024-09-10T12:30:10.540Z"
   },
   {
    "duration": 226,
    "start_time": "2024-09-10T12:30:10.850Z"
   },
   {
    "duration": 7,
    "start_time": "2024-09-10T12:30:11.077Z"
   },
   {
    "duration": 27,
    "start_time": "2024-09-10T12:30:11.085Z"
   },
   {
    "duration": 320,
    "start_time": "2024-09-10T12:30:11.114Z"
   },
   {
    "duration": 7,
    "start_time": "2024-09-10T12:30:11.436Z"
   },
   {
    "duration": 19,
    "start_time": "2024-09-10T12:30:11.444Z"
   },
   {
    "duration": 13,
    "start_time": "2024-09-10T12:30:11.465Z"
   },
   {
    "duration": 225,
    "start_time": "2024-09-10T12:30:11.480Z"
   },
   {
    "duration": 8,
    "start_time": "2024-09-10T12:30:11.707Z"
   },
   {
    "duration": 18,
    "start_time": "2024-09-10T12:30:11.716Z"
   },
   {
    "duration": 339,
    "start_time": "2024-09-10T12:30:11.735Z"
   },
   {
    "duration": 9,
    "start_time": "2024-09-10T12:30:12.076Z"
   },
   {
    "duration": 19,
    "start_time": "2024-09-10T12:30:12.086Z"
   },
   {
    "duration": 124,
    "start_time": "2024-09-10T12:30:12.107Z"
   },
   {
    "duration": 110,
    "start_time": "2024-09-10T12:30:12.233Z"
   },
   {
    "duration": 0,
    "start_time": "2024-09-10T12:30:12.345Z"
   },
   {
    "duration": 45,
    "start_time": "2024-09-10T12:30:23.015Z"
   },
   {
    "duration": 152,
    "start_time": "2024-09-10T12:30:24.032Z"
   },
   {
    "duration": 216,
    "start_time": "2024-09-10T12:30:58.643Z"
   },
   {
    "duration": 1340,
    "start_time": "2024-09-11T06:06:22.794Z"
   },
   {
    "duration": 101,
    "start_time": "2024-09-11T06:06:24.136Z"
   },
   {
    "duration": 11,
    "start_time": "2024-09-11T06:06:24.238Z"
   },
   {
    "duration": 11,
    "start_time": "2024-09-11T06:06:24.251Z"
   },
   {
    "duration": 14,
    "start_time": "2024-09-11T06:06:24.263Z"
   },
   {
    "duration": 4,
    "start_time": "2024-09-11T06:06:24.279Z"
   },
   {
    "duration": 9,
    "start_time": "2024-09-11T06:06:24.285Z"
   },
   {
    "duration": 4,
    "start_time": "2024-09-11T06:06:24.295Z"
   },
   {
    "duration": 13,
    "start_time": "2024-09-11T06:06:24.301Z"
   },
   {
    "duration": 101,
    "start_time": "2024-09-11T06:06:24.315Z"
   },
   {
    "duration": 5,
    "start_time": "2024-09-11T06:06:24.417Z"
   },
   {
    "duration": 24,
    "start_time": "2024-09-11T06:06:24.423Z"
   },
   {
    "duration": 70,
    "start_time": "2024-09-11T06:06:24.449Z"
   },
   {
    "duration": 10,
    "start_time": "2024-09-11T06:06:24.522Z"
   },
   {
    "duration": 29,
    "start_time": "2024-09-11T06:06:24.534Z"
   },
   {
    "duration": 173,
    "start_time": "2024-09-11T06:06:24.565Z"
   },
   {
    "duration": 128,
    "start_time": "2024-09-11T06:06:24.740Z"
   },
   {
    "duration": 8,
    "start_time": "2024-09-11T06:06:24.869Z"
   },
   {
    "duration": 48,
    "start_time": "2024-09-11T06:06:24.878Z"
   },
   {
    "duration": 17,
    "start_time": "2024-09-11T06:06:24.928Z"
   },
   {
    "duration": 18,
    "start_time": "2024-09-11T06:06:24.947Z"
   },
   {
    "duration": 305,
    "start_time": "2024-09-11T06:06:24.967Z"
   },
   {
    "duration": 213,
    "start_time": "2024-09-11T06:06:25.274Z"
   },
   {
    "duration": 5,
    "start_time": "2024-09-11T06:06:25.489Z"
   },
   {
    "duration": 61,
    "start_time": "2024-09-11T06:06:25.495Z"
   },
   {
    "duration": 379,
    "start_time": "2024-09-11T06:06:25.558Z"
   },
   {
    "duration": 7,
    "start_time": "2024-09-11T06:06:25.938Z"
   },
   {
    "duration": 25,
    "start_time": "2024-09-11T06:06:25.946Z"
   },
   {
    "duration": 26,
    "start_time": "2024-09-11T06:06:25.972Z"
   },
   {
    "duration": 207,
    "start_time": "2024-09-11T06:06:25.999Z"
   },
   {
    "duration": 8,
    "start_time": "2024-09-11T06:06:26.207Z"
   },
   {
    "duration": 28,
    "start_time": "2024-09-11T06:06:26.216Z"
   },
   {
    "duration": 313,
    "start_time": "2024-09-11T06:06:26.246Z"
   },
   {
    "duration": 7,
    "start_time": "2024-09-11T06:06:26.561Z"
   },
   {
    "duration": 24,
    "start_time": "2024-09-11T06:06:26.570Z"
   },
   {
    "duration": 111,
    "start_time": "2024-09-11T06:06:26.595Z"
   },
   {
    "duration": 140,
    "start_time": "2024-09-11T06:06:26.708Z"
   },
   {
    "duration": 214,
    "start_time": "2024-09-11T06:09:01.826Z"
   },
   {
    "duration": 155,
    "start_time": "2024-09-11T06:09:04.778Z"
   },
   {
    "duration": 155,
    "start_time": "2024-09-11T06:09:12.765Z"
   },
   {
    "duration": 156,
    "start_time": "2024-09-11T06:09:23.938Z"
   },
   {
    "duration": 140,
    "start_time": "2024-09-11T06:09:28.947Z"
   },
   {
    "duration": 146,
    "start_time": "2024-09-11T06:09:33.338Z"
   },
   {
    "duration": 167,
    "start_time": "2024-09-11T06:09:38.660Z"
   },
   {
    "duration": 159,
    "start_time": "2024-09-11T06:10:22.586Z"
   },
   {
    "duration": 166,
    "start_time": "2024-09-11T06:11:33.405Z"
   },
   {
    "duration": 119,
    "start_time": "2024-09-11T07:01:05.813Z"
   },
   {
    "duration": 900,
    "start_time": "2024-09-11T07:01:24.728Z"
   },
   {
    "duration": 6,
    "start_time": "2024-09-11T07:02:17.141Z"
   },
   {
    "duration": 5,
    "start_time": "2024-09-11T07:04:26.278Z"
   },
   {
    "duration": 7,
    "start_time": "2024-09-11T07:04:44.518Z"
   },
   {
    "duration": 51,
    "start_time": "2024-09-11T07:05:25.255Z"
   },
   {
    "duration": 5,
    "start_time": "2024-09-11T07:05:27.832Z"
   },
   {
    "duration": 5,
    "start_time": "2024-09-11T07:05:48.986Z"
   },
   {
    "duration": 5,
    "start_time": "2024-09-11T07:27:18.955Z"
   },
   {
    "duration": 177,
    "start_time": "2024-09-11T07:29:41.757Z"
   },
   {
    "duration": 4,
    "start_time": "2024-09-11T07:29:43.903Z"
   },
   {
    "duration": 168,
    "start_time": "2024-09-11T07:29:44.557Z"
   },
   {
    "duration": 189,
    "start_time": "2024-09-11T07:36:07.657Z"
   },
   {
    "duration": 6,
    "start_time": "2024-09-11T07:36:38.588Z"
   },
   {
    "duration": 5,
    "start_time": "2024-09-11T07:39:10.230Z"
   },
   {
    "duration": 47,
    "start_time": "2024-09-11T07:40:14.306Z"
   },
   {
    "duration": 1436,
    "start_time": "2024-09-11T10:24:19.982Z"
   },
   {
    "duration": 73,
    "start_time": "2024-09-11T10:24:21.420Z"
   },
   {
    "duration": 13,
    "start_time": "2024-09-11T10:24:21.495Z"
   },
   {
    "duration": 11,
    "start_time": "2024-09-11T10:24:21.510Z"
   },
   {
    "duration": 37,
    "start_time": "2024-09-11T10:24:21.524Z"
   },
   {
    "duration": 17,
    "start_time": "2024-09-11T10:24:21.562Z"
   },
   {
    "duration": 11,
    "start_time": "2024-09-11T10:24:21.581Z"
   },
   {
    "duration": 33,
    "start_time": "2024-09-11T10:24:21.593Z"
   },
   {
    "duration": 21,
    "start_time": "2024-09-11T10:24:21.627Z"
   },
   {
    "duration": 140,
    "start_time": "2024-09-11T10:24:21.650Z"
   },
   {
    "duration": 7,
    "start_time": "2024-09-11T10:24:21.793Z"
   },
   {
    "duration": 31,
    "start_time": "2024-09-11T10:24:21.802Z"
   },
   {
    "duration": 95,
    "start_time": "2024-09-11T10:24:21.835Z"
   },
   {
    "duration": 13,
    "start_time": "2024-09-11T10:24:21.934Z"
   },
   {
    "duration": 8,
    "start_time": "2024-09-11T10:24:21.948Z"
   },
   {
    "duration": 211,
    "start_time": "2024-09-11T10:24:21.958Z"
   },
   {
    "duration": 135,
    "start_time": "2024-09-11T10:24:22.171Z"
   },
   {
    "duration": 8,
    "start_time": "2024-09-11T10:24:22.308Z"
   },
   {
    "duration": 32,
    "start_time": "2024-09-11T10:24:22.317Z"
   },
   {
    "duration": 15,
    "start_time": "2024-09-11T10:24:22.350Z"
   },
   {
    "duration": 16,
    "start_time": "2024-09-11T10:24:22.366Z"
   },
   {
    "duration": 314,
    "start_time": "2024-09-11T10:24:22.383Z"
   },
   {
    "duration": 243,
    "start_time": "2024-09-11T10:24:22.699Z"
   },
   {
    "duration": 14,
    "start_time": "2024-09-11T10:24:22.944Z"
   },
   {
    "duration": 32,
    "start_time": "2024-09-11T10:24:22.960Z"
   },
   {
    "duration": 425,
    "start_time": "2024-09-11T10:24:22.994Z"
   },
   {
    "duration": 7,
    "start_time": "2024-09-11T10:24:23.421Z"
   },
   {
    "duration": 26,
    "start_time": "2024-09-11T10:24:23.430Z"
   },
   {
    "duration": 16,
    "start_time": "2024-09-11T10:24:23.457Z"
   },
   {
    "duration": 222,
    "start_time": "2024-09-11T10:24:23.474Z"
   },
   {
    "duration": 8,
    "start_time": "2024-09-11T10:24:23.698Z"
   },
   {
    "duration": 23,
    "start_time": "2024-09-11T10:24:23.707Z"
   },
   {
    "duration": 370,
    "start_time": "2024-09-11T10:24:23.731Z"
   },
   {
    "duration": 8,
    "start_time": "2024-09-11T10:24:24.103Z"
   },
   {
    "duration": 19,
    "start_time": "2024-09-11T10:24:24.113Z"
   },
   {
    "duration": 165,
    "start_time": "2024-09-11T10:24:24.133Z"
   },
   {
    "duration": 4,
    "start_time": "2024-09-11T10:24:24.300Z"
   },
   {
    "duration": 21,
    "start_time": "2024-09-11T10:24:24.306Z"
   },
   {
    "duration": 182,
    "start_time": "2024-09-11T10:24:24.329Z"
   },
   {
    "duration": 5,
    "start_time": "2024-09-11T10:24:24.512Z"
   },
   {
    "duration": 230,
    "start_time": "2024-09-11T10:24:36.584Z"
   },
   {
    "duration": 153,
    "start_time": "2024-09-11T10:24:47.131Z"
   },
   {
    "duration": 76,
    "start_time": "2024-09-11T10:31:34.472Z"
   },
   {
    "duration": 77,
    "start_time": "2024-09-11T10:31:36.073Z"
   },
   {
    "duration": 1322,
    "start_time": "2024-09-11T10:31:37.310Z"
   },
   {
    "duration": 12,
    "start_time": "2024-09-11T10:32:03.140Z"
   },
   {
    "duration": 9,
    "start_time": "2024-09-11T10:32:24.633Z"
   },
   {
    "duration": 26,
    "start_time": "2024-09-11T10:32:26.124Z"
   },
   {
    "duration": 10,
    "start_time": "2024-09-11T10:34:03.576Z"
   },
   {
    "duration": 13,
    "start_time": "2024-09-11T10:34:08.398Z"
   },
   {
    "duration": 12,
    "start_time": "2024-09-11T10:36:24.527Z"
   },
   {
    "duration": 19,
    "start_time": "2024-09-11T10:37:02.577Z"
   },
   {
    "duration": 18,
    "start_time": "2024-09-11T10:38:19.237Z"
   },
   {
    "duration": 146,
    "start_time": "2024-09-11T10:38:43.795Z"
   },
   {
    "duration": 1770,
    "start_time": "2024-09-11T10:39:47.109Z"
   },
   {
    "duration": 12,
    "start_time": "2024-09-11T10:40:25.864Z"
   },
   {
    "duration": 18,
    "start_time": "2024-09-11T10:40:59.474Z"
   },
   {
    "duration": 9,
    "start_time": "2024-09-11T10:41:58.382Z"
   },
   {
    "duration": 5086,
    "start_time": "2024-09-11T10:42:31.705Z"
   },
   {
    "duration": 157,
    "start_time": "2024-09-11T10:42:57.052Z"
   },
   {
    "duration": 175,
    "start_time": "2024-09-11T10:43:36.752Z"
   },
   {
    "duration": 227,
    "start_time": "2024-09-11T10:44:00.790Z"
   },
   {
    "duration": 180,
    "start_time": "2024-09-11T10:44:11.445Z"
   },
   {
    "duration": 11,
    "start_time": "2024-09-11T10:55:05.724Z"
   },
   {
    "duration": 7,
    "start_time": "2024-09-11T10:55:25.762Z"
   },
   {
    "duration": 5,
    "start_time": "2024-09-11T10:56:07.715Z"
   },
   {
    "duration": 5,
    "start_time": "2024-09-11T10:56:09.691Z"
   },
   {
    "duration": 79,
    "start_time": "2024-09-11T10:57:33.707Z"
   },
   {
    "duration": 68,
    "start_time": "2024-09-11T10:58:31.916Z"
   },
   {
    "duration": 68,
    "start_time": "2024-09-11T10:59:15.877Z"
   },
   {
    "duration": 75,
    "start_time": "2024-09-11T10:59:23.839Z"
   },
   {
    "duration": 28,
    "start_time": "2024-09-11T10:59:32.495Z"
   },
   {
    "duration": 20,
    "start_time": "2024-09-11T10:59:53.719Z"
   },
   {
    "duration": 20,
    "start_time": "2024-09-11T11:00:06.625Z"
   },
   {
    "duration": 11,
    "start_time": "2024-09-11T11:00:37.162Z"
   },
   {
    "duration": 9,
    "start_time": "2024-09-11T11:00:38.119Z"
   },
   {
    "duration": 19,
    "start_time": "2024-09-11T11:00:40.082Z"
   },
   {
    "duration": 19,
    "start_time": "2024-09-11T11:00:43.925Z"
   },
   {
    "duration": 16,
    "start_time": "2024-09-11T11:08:34.353Z"
   },
   {
    "duration": 28,
    "start_time": "2024-09-11T11:09:35.237Z"
   },
   {
    "duration": 27,
    "start_time": "2024-09-11T11:26:32.251Z"
   },
   {
    "duration": 28,
    "start_time": "2024-09-11T11:44:09.353Z"
   },
   {
    "duration": 143,
    "start_time": "2024-09-11T11:44:31.928Z"
   },
   {
    "duration": 26,
    "start_time": "2024-09-11T11:44:32.530Z"
   },
   {
    "duration": 13,
    "start_time": "2024-09-11T11:46:20.172Z"
   },
   {
    "duration": 33,
    "start_time": "2024-09-11T11:46:28.715Z"
   },
   {
    "duration": 26,
    "start_time": "2024-09-11T11:46:40.684Z"
   },
   {
    "duration": 31,
    "start_time": "2024-09-11T11:48:10.303Z"
   },
   {
    "duration": 174,
    "start_time": "2024-09-11T11:48:21.706Z"
   },
   {
    "duration": 28,
    "start_time": "2024-09-11T12:33:40.276Z"
   },
   {
    "duration": 78,
    "start_time": "2024-09-11T12:35:21.612Z"
   },
   {
    "duration": 70,
    "start_time": "2024-09-11T12:35:32.127Z"
   },
   {
    "duration": 123,
    "start_time": "2024-09-11T12:35:39.556Z"
   },
   {
    "duration": 9,
    "start_time": "2024-09-11T12:36:31.247Z"
   },
   {
    "duration": 26,
    "start_time": "2024-09-11T12:41:24.889Z"
   },
   {
    "duration": 26,
    "start_time": "2024-09-11T12:42:02.995Z"
   },
   {
    "duration": 78,
    "start_time": "2024-09-11T12:45:00.375Z"
   },
   {
    "duration": 14,
    "start_time": "2024-09-11T12:46:15.500Z"
   },
   {
    "duration": 11,
    "start_time": "2024-09-11T12:46:21.656Z"
   },
   {
    "duration": 11,
    "start_time": "2024-09-11T12:48:52.959Z"
   },
   {
    "duration": 16,
    "start_time": "2024-09-11T12:51:00.382Z"
   },
   {
    "duration": 1225,
    "start_time": "2024-09-11T12:55:36.753Z"
   },
   {
    "duration": 1257,
    "start_time": "2024-09-11T12:55:48.619Z"
   },
   {
    "duration": 1265,
    "start_time": "2024-09-11T12:55:54.418Z"
   },
   {
    "duration": 1231,
    "start_time": "2024-09-11T12:55:59.608Z"
   },
   {
    "duration": 16,
    "start_time": "2024-09-11T12:56:09.983Z"
   },
   {
    "duration": 1586,
    "start_time": "2024-09-11T12:56:33.058Z"
   },
   {
    "duration": 8,
    "start_time": "2024-09-11T12:56:53.949Z"
   },
   {
    "duration": 12,
    "start_time": "2024-09-11T12:57:16.760Z"
   },
   {
    "duration": 8,
    "start_time": "2024-09-11T12:59:11.885Z"
   },
   {
    "duration": 6,
    "start_time": "2024-09-11T12:59:18.037Z"
   },
   {
    "duration": 5,
    "start_time": "2024-09-11T12:59:25.097Z"
   },
   {
    "duration": 4,
    "start_time": "2024-09-11T13:00:15.208Z"
   },
   {
    "duration": 9,
    "start_time": "2024-09-11T13:00:19.176Z"
   },
   {
    "duration": 5,
    "start_time": "2024-09-11T13:00:44.364Z"
   },
   {
    "duration": 7,
    "start_time": "2024-09-11T13:01:55.700Z"
   },
   {
    "duration": 12,
    "start_time": "2024-09-11T13:02:04.964Z"
   },
   {
    "duration": 10,
    "start_time": "2024-09-11T13:02:09.996Z"
   },
   {
    "duration": 202,
    "start_time": "2024-09-11T13:02:15.247Z"
   },
   {
    "duration": 5,
    "start_time": "2024-09-11T13:02:19.018Z"
   },
   {
    "duration": 11,
    "start_time": "2024-09-11T13:02:25.685Z"
   },
   {
    "duration": 4,
    "start_time": "2024-09-11T13:02:31.085Z"
   },
   {
    "duration": 7,
    "start_time": "2024-09-11T13:02:57.609Z"
   },
   {
    "duration": 1234,
    "start_time": "2024-09-11T13:05:22.828Z"
   },
   {
    "duration": 1256,
    "start_time": "2024-09-11T13:05:48.337Z"
   },
   {
    "duration": 13,
    "start_time": "2024-09-11T13:06:02.423Z"
   },
   {
    "duration": 1254,
    "start_time": "2024-09-11T13:08:55.648Z"
   },
   {
    "duration": 1187,
    "start_time": "2024-09-11T13:09:51.222Z"
   },
   {
    "duration": 17,
    "start_time": "2024-09-11T13:10:18.265Z"
   },
   {
    "duration": 33,
    "start_time": "2024-09-11T13:10:34.500Z"
   },
   {
    "duration": 1308,
    "start_time": "2024-09-12T05:32:50.578Z"
   },
   {
    "duration": 78,
    "start_time": "2024-09-12T05:32:51.888Z"
   },
   {
    "duration": 13,
    "start_time": "2024-09-12T05:32:51.967Z"
   },
   {
    "duration": 16,
    "start_time": "2024-09-12T05:32:51.981Z"
   },
   {
    "duration": 22,
    "start_time": "2024-09-12T05:32:51.999Z"
   },
   {
    "duration": 30,
    "start_time": "2024-09-12T05:32:52.022Z"
   },
   {
    "duration": 35,
    "start_time": "2024-09-12T05:32:52.057Z"
   },
   {
    "duration": 50,
    "start_time": "2024-09-12T05:32:52.093Z"
   },
   {
    "duration": 29,
    "start_time": "2024-09-12T05:32:52.144Z"
   },
   {
    "duration": 111,
    "start_time": "2024-09-12T05:32:52.175Z"
   },
   {
    "duration": 6,
    "start_time": "2024-09-12T05:32:52.288Z"
   },
   {
    "duration": 16,
    "start_time": "2024-09-12T05:32:52.295Z"
   },
   {
    "duration": 109,
    "start_time": "2024-09-12T05:32:52.313Z"
   },
   {
    "duration": 10,
    "start_time": "2024-09-12T05:32:52.424Z"
   },
   {
    "duration": 28,
    "start_time": "2024-09-12T05:32:52.435Z"
   },
   {
    "duration": 174,
    "start_time": "2024-09-12T05:32:52.464Z"
   },
   {
    "duration": 129,
    "start_time": "2024-09-12T05:32:52.639Z"
   },
   {
    "duration": 9,
    "start_time": "2024-09-12T05:32:52.770Z"
   },
   {
    "duration": 10,
    "start_time": "2024-09-12T05:32:52.780Z"
   },
   {
    "duration": 10,
    "start_time": "2024-09-12T05:32:52.791Z"
   },
   {
    "duration": 7,
    "start_time": "2024-09-12T05:32:52.802Z"
   },
   {
    "duration": 317,
    "start_time": "2024-09-12T05:32:52.810Z"
   },
   {
    "duration": 243,
    "start_time": "2024-09-12T05:32:53.130Z"
   },
   {
    "duration": 6,
    "start_time": "2024-09-12T05:32:53.375Z"
   },
   {
    "duration": 51,
    "start_time": "2024-09-12T05:32:53.383Z"
   },
   {
    "duration": 379,
    "start_time": "2024-09-12T05:32:53.435Z"
   },
   {
    "duration": 7,
    "start_time": "2024-09-12T05:32:53.815Z"
   },
   {
    "duration": 22,
    "start_time": "2024-09-12T05:32:53.825Z"
   },
   {
    "duration": 82,
    "start_time": "2024-09-12T05:32:53.848Z"
   },
   {
    "duration": 197,
    "start_time": "2024-09-12T05:32:53.931Z"
   },
   {
    "duration": 7,
    "start_time": "2024-09-12T05:32:54.130Z"
   },
   {
    "duration": 37,
    "start_time": "2024-09-12T05:32:54.139Z"
   },
   {
    "duration": 342,
    "start_time": "2024-09-12T05:32:54.177Z"
   },
   {
    "duration": 8,
    "start_time": "2024-09-12T05:32:54.521Z"
   },
   {
    "duration": 7,
    "start_time": "2024-09-12T05:32:54.531Z"
   },
   {
    "duration": 138,
    "start_time": "2024-09-12T05:32:54.559Z"
   },
   {
    "duration": 4,
    "start_time": "2024-09-12T05:32:54.699Z"
   },
   {
    "duration": 9,
    "start_time": "2024-09-12T05:32:54.704Z"
   },
   {
    "duration": 156,
    "start_time": "2024-09-12T05:32:54.714Z"
   },
   {
    "duration": 4,
    "start_time": "2024-09-12T05:32:54.871Z"
   },
   {
    "duration": 159,
    "start_time": "2024-09-12T05:32:54.877Z"
   },
   {
    "duration": 75,
    "start_time": "2024-09-12T05:32:55.038Z"
   },
   {
    "duration": 7,
    "start_time": "2024-09-12T05:32:55.115Z"
   },
   {
    "duration": 145,
    "start_time": "2024-09-12T05:32:55.123Z"
   },
   {
    "duration": 94,
    "start_time": "2024-09-12T05:32:55.269Z"
   },
   {
    "duration": 13,
    "start_time": "2024-09-12T05:32:55.365Z"
   },
   {
    "duration": 24,
    "start_time": "2024-09-12T05:32:55.380Z"
   },
   {
    "duration": 23,
    "start_time": "2024-09-12T05:32:55.405Z"
   },
   {
    "duration": 1287,
    "start_time": "2024-09-12T05:35:56.617Z"
   },
   {
    "duration": 10,
    "start_time": "2024-09-12T05:36:23.821Z"
   },
   {
    "duration": 28,
    "start_time": "2024-09-12T05:36:36.076Z"
   },
   {
    "duration": 9,
    "start_time": "2024-09-12T05:37:56.077Z"
   },
   {
    "duration": 64,
    "start_time": "2024-09-12T05:39:34.671Z"
   },
   {
    "duration": 71,
    "start_time": "2024-09-12T05:39:37.116Z"
   },
   {
    "duration": 79,
    "start_time": "2024-09-12T05:39:37.782Z"
   },
   {
    "duration": 11,
    "start_time": "2024-09-12T05:41:39.270Z"
   },
   {
    "duration": 5,
    "start_time": "2024-09-12T05:41:48.982Z"
   },
   {
    "duration": 5,
    "start_time": "2024-09-12T05:41:57.686Z"
   },
   {
    "duration": 20,
    "start_time": "2024-09-12T05:42:50.367Z"
   },
   {
    "duration": 14,
    "start_time": "2024-09-12T05:42:53.476Z"
   },
   {
    "duration": 13,
    "start_time": "2024-09-12T05:43:02.474Z"
   },
   {
    "duration": 14,
    "start_time": "2024-09-12T05:43:12.368Z"
   },
   {
    "duration": 71,
    "start_time": "2024-09-12T05:44:04.525Z"
   },
   {
    "duration": 16,
    "start_time": "2024-09-12T05:44:12.723Z"
   },
   {
    "duration": 16,
    "start_time": "2024-09-12T05:44:39.436Z"
   },
   {
    "duration": 11,
    "start_time": "2024-09-12T05:44:51.380Z"
   },
   {
    "duration": 12,
    "start_time": "2024-09-12T05:45:02.692Z"
   },
   {
    "duration": 16,
    "start_time": "2024-09-12T05:45:17.082Z"
   },
   {
    "duration": 76,
    "start_time": "2024-09-12T05:45:51.695Z"
   },
   {
    "duration": 79,
    "start_time": "2024-09-12T05:45:53.029Z"
   },
   {
    "duration": 1199,
    "start_time": "2024-09-12T05:46:23.274Z"
   },
   {
    "duration": 8,
    "start_time": "2024-09-12T05:51:34.977Z"
   },
   {
    "duration": 27,
    "start_time": "2024-09-12T05:51:36.070Z"
   },
   {
    "duration": 16,
    "start_time": "2024-09-12T05:51:45.469Z"
   },
   {
    "duration": 1156,
    "start_time": "2024-09-12T05:52:48.140Z"
   },
   {
    "duration": 11,
    "start_time": "2024-09-12T05:53:03.028Z"
   },
   {
    "duration": 1198,
    "start_time": "2024-09-12T05:53:14.241Z"
   },
   {
    "duration": 38,
    "start_time": "2024-09-12T05:53:26.433Z"
   },
   {
    "duration": 1297,
    "start_time": "2024-09-12T05:53:42.369Z"
   },
   {
    "duration": 7,
    "start_time": "2024-09-12T05:53:57.733Z"
   },
   {
    "duration": 10,
    "start_time": "2024-09-12T05:54:26.189Z"
   },
   {
    "duration": 24,
    "start_time": "2024-09-12T05:54:30.112Z"
   },
   {
    "duration": 12,
    "start_time": "2024-09-12T05:56:36.503Z"
   },
   {
    "duration": 1345,
    "start_time": "2024-09-12T05:57:00.295Z"
   },
   {
    "duration": 7,
    "start_time": "2024-09-12T05:57:22.879Z"
   },
   {
    "duration": 27,
    "start_time": "2024-09-12T05:57:30.917Z"
   },
   {
    "duration": 1297,
    "start_time": "2024-09-12T05:57:59.523Z"
   },
   {
    "duration": 1312,
    "start_time": "2024-09-12T05:58:22.179Z"
   },
   {
    "duration": 10,
    "start_time": "2024-09-12T05:58:36.195Z"
   },
   {
    "duration": 30,
    "start_time": "2024-09-12T05:58:46.981Z"
   },
   {
    "duration": 32,
    "start_time": "2024-09-12T05:58:59.975Z"
   },
   {
    "duration": 34,
    "start_time": "2024-09-12T05:59:12.205Z"
   },
   {
    "duration": 43,
    "start_time": "2024-09-12T06:00:19.543Z"
   },
   {
    "duration": 30,
    "start_time": "2024-09-12T06:00:56.000Z"
   },
   {
    "duration": 37,
    "start_time": "2024-09-12T06:01:17.873Z"
   },
   {
    "duration": 15,
    "start_time": "2024-09-12T06:02:39.367Z"
   },
   {
    "duration": 10,
    "start_time": "2024-09-12T06:04:00.412Z"
   },
   {
    "duration": 25,
    "start_time": "2024-09-12T06:04:05.779Z"
   },
   {
    "duration": 35,
    "start_time": "2024-09-12T06:04:18.336Z"
   },
   {
    "duration": 43,
    "start_time": "2024-09-12T06:05:55.060Z"
   },
   {
    "duration": 88,
    "start_time": "2024-09-12T06:09:32.877Z"
   },
   {
    "duration": 15,
    "start_time": "2024-09-12T06:11:13.433Z"
   },
   {
    "duration": 1193,
    "start_time": "2024-09-12T06:14:26.241Z"
   },
   {
    "duration": 20,
    "start_time": "2024-09-12T06:25:18.051Z"
   },
   {
    "duration": 67,
    "start_time": "2024-09-12T06:27:06.238Z"
   },
   {
    "duration": 15,
    "start_time": "2024-09-12T06:28:17.942Z"
   },
   {
    "duration": 12,
    "start_time": "2024-09-12T06:29:12.140Z"
   },
   {
    "duration": 1256,
    "start_time": "2024-09-12T06:33:39.286Z"
   },
   {
    "duration": 35,
    "start_time": "2024-09-12T06:33:40.543Z"
   },
   {
    "duration": 12,
    "start_time": "2024-09-12T06:33:40.579Z"
   },
   {
    "duration": 13,
    "start_time": "2024-09-12T06:33:40.593Z"
   },
   {
    "duration": 12,
    "start_time": "2024-09-12T06:33:40.608Z"
   },
   {
    "duration": 13,
    "start_time": "2024-09-12T06:33:40.622Z"
   },
   {
    "duration": 10,
    "start_time": "2024-09-12T06:33:40.636Z"
   },
   {
    "duration": 34,
    "start_time": "2024-09-12T06:33:40.648Z"
   },
   {
    "duration": 41,
    "start_time": "2024-09-12T06:33:40.684Z"
   },
   {
    "duration": 57,
    "start_time": "2024-09-12T06:33:40.728Z"
   },
   {
    "duration": 4,
    "start_time": "2024-09-12T06:33:40.787Z"
   },
   {
    "duration": 17,
    "start_time": "2024-09-12T06:33:40.793Z"
   },
   {
    "duration": 32,
    "start_time": "2024-09-12T06:33:40.811Z"
   },
   {
    "duration": 23,
    "start_time": "2024-09-12T06:33:40.844Z"
   },
   {
    "duration": 24,
    "start_time": "2024-09-12T06:33:40.869Z"
   },
   {
    "duration": 171,
    "start_time": "2024-09-12T06:33:40.894Z"
   },
   {
    "duration": 118,
    "start_time": "2024-09-12T06:33:41.066Z"
   },
   {
    "duration": 6,
    "start_time": "2024-09-12T06:33:41.185Z"
   },
   {
    "duration": 57,
    "start_time": "2024-09-12T06:33:41.192Z"
   },
   {
    "duration": 19,
    "start_time": "2024-09-12T06:33:41.251Z"
   },
   {
    "duration": 8,
    "start_time": "2024-09-12T06:33:41.272Z"
   },
   {
    "duration": 385,
    "start_time": "2024-09-12T06:33:41.281Z"
   },
   {
    "duration": 207,
    "start_time": "2024-09-12T06:33:41.668Z"
   },
   {
    "duration": 6,
    "start_time": "2024-09-12T06:33:41.876Z"
   },
   {
    "duration": 20,
    "start_time": "2024-09-12T06:33:41.883Z"
   },
   {
    "duration": 308,
    "start_time": "2024-09-12T06:33:41.905Z"
   },
   {
    "duration": 7,
    "start_time": "2024-09-12T06:33:42.214Z"
   },
   {
    "duration": 18,
    "start_time": "2024-09-12T06:33:42.224Z"
   },
   {
    "duration": 31,
    "start_time": "2024-09-12T06:33:42.263Z"
   },
   {
    "duration": 203,
    "start_time": "2024-09-12T06:33:42.296Z"
   },
   {
    "duration": 7,
    "start_time": "2024-09-12T06:33:42.501Z"
   },
   {
    "duration": 33,
    "start_time": "2024-09-12T06:33:42.509Z"
   },
   {
    "duration": 376,
    "start_time": "2024-09-12T06:33:42.543Z"
   },
   {
    "duration": 9,
    "start_time": "2024-09-12T06:33:42.920Z"
   },
   {
    "duration": 28,
    "start_time": "2024-09-12T06:33:42.930Z"
   },
   {
    "duration": 137,
    "start_time": "2024-09-12T06:33:42.969Z"
   },
   {
    "duration": 4,
    "start_time": "2024-09-12T06:33:43.108Z"
   },
   {
    "duration": 72,
    "start_time": "2024-09-12T06:33:43.113Z"
   },
   {
    "duration": 296,
    "start_time": "2024-09-12T06:33:43.187Z"
   },
   {
    "duration": 4,
    "start_time": "2024-09-12T06:33:43.484Z"
   },
   {
    "duration": 14,
    "start_time": "2024-09-12T06:33:43.490Z"
   },
   {
    "duration": 6,
    "start_time": "2024-09-12T06:33:43.506Z"
   },
   {
    "duration": 29,
    "start_time": "2024-09-12T06:33:43.513Z"
   },
   {
    "duration": 24,
    "start_time": "2024-09-12T06:33:43.543Z"
   },
   {
    "duration": 16,
    "start_time": "2024-09-12T06:33:43.568Z"
   },
   {
    "duration": 10,
    "start_time": "2024-09-12T06:33:43.586Z"
   },
   {
    "duration": 79,
    "start_time": "2024-09-12T06:33:43.597Z"
   },
   {
    "duration": 91,
    "start_time": "2024-09-12T06:33:43.678Z"
   },
   {
    "duration": 78,
    "start_time": "2024-09-12T06:33:43.771Z"
   },
   {
    "duration": 36,
    "start_time": "2024-09-12T06:33:43.852Z"
   },
   {
    "duration": 10,
    "start_time": "2024-09-12T06:33:43.890Z"
   },
   {
    "duration": 5,
    "start_time": "2024-09-12T06:33:43.902Z"
   },
   {
    "duration": 6,
    "start_time": "2024-09-12T06:33:43.909Z"
   },
   {
    "duration": 6,
    "start_time": "2024-09-12T06:33:43.916Z"
   },
   {
    "duration": 22,
    "start_time": "2024-09-12T06:33:43.923Z"
   },
   {
    "duration": 62,
    "start_time": "2024-09-12T06:33:43.946Z"
   },
   {
    "duration": 14,
    "start_time": "2024-09-12T06:33:44.009Z"
   },
   {
    "duration": 3,
    "start_time": "2024-09-12T06:39:32.167Z"
   },
   {
    "duration": 1201,
    "start_time": "2024-09-12T07:32:58.888Z"
   },
   {
    "duration": 29,
    "start_time": "2024-09-12T07:33:00.091Z"
   },
   {
    "duration": 23,
    "start_time": "2024-09-12T07:33:00.121Z"
   },
   {
    "duration": 51,
    "start_time": "2024-09-12T07:33:00.146Z"
   },
   {
    "duration": 25,
    "start_time": "2024-09-12T07:33:00.200Z"
   },
   {
    "duration": 48,
    "start_time": "2024-09-12T07:33:00.227Z"
   },
   {
    "duration": 40,
    "start_time": "2024-09-12T07:33:00.276Z"
   },
   {
    "duration": 136,
    "start_time": "2024-09-12T07:33:00.318Z"
   },
   {
    "duration": 48,
    "start_time": "2024-09-12T07:33:00.455Z"
   },
   {
    "duration": 97,
    "start_time": "2024-09-12T07:33:00.505Z"
   },
   {
    "duration": 7,
    "start_time": "2024-09-12T07:33:00.604Z"
   },
   {
    "duration": 43,
    "start_time": "2024-09-12T07:33:00.613Z"
   },
   {
    "duration": 45,
    "start_time": "2024-09-12T07:33:00.658Z"
   },
   {
    "duration": 14,
    "start_time": "2024-09-12T07:33:00.708Z"
   },
   {
    "duration": 44,
    "start_time": "2024-09-12T07:33:00.724Z"
   },
   {
    "duration": 191,
    "start_time": "2024-09-12T07:33:00.770Z"
   },
   {
    "duration": 142,
    "start_time": "2024-09-12T07:33:00.962Z"
   },
   {
    "duration": 7,
    "start_time": "2024-09-12T07:33:01.105Z"
   },
   {
    "duration": 17,
    "start_time": "2024-09-12T07:33:01.115Z"
   },
   {
    "duration": 22,
    "start_time": "2024-09-12T07:33:01.134Z"
   },
   {
    "duration": 7,
    "start_time": "2024-09-12T07:33:01.158Z"
   },
   {
    "duration": 326,
    "start_time": "2024-09-12T07:33:01.166Z"
   },
   {
    "duration": 232,
    "start_time": "2024-09-12T07:33:01.494Z"
   },
   {
    "duration": 7,
    "start_time": "2024-09-12T07:33:01.727Z"
   },
   {
    "duration": 38,
    "start_time": "2024-09-12T07:33:01.736Z"
   },
   {
    "duration": 308,
    "start_time": "2024-09-12T07:33:01.776Z"
   },
   {
    "duration": 8,
    "start_time": "2024-09-12T07:33:02.086Z"
   },
   {
    "duration": 27,
    "start_time": "2024-09-12T07:33:02.095Z"
   },
   {
    "duration": 45,
    "start_time": "2024-09-12T07:33:02.123Z"
   },
   {
    "duration": 255,
    "start_time": "2024-09-12T07:33:02.170Z"
   },
   {
    "duration": 11,
    "start_time": "2024-09-12T07:33:02.427Z"
   },
   {
    "duration": 27,
    "start_time": "2024-09-12T07:33:02.440Z"
   },
   {
    "duration": 340,
    "start_time": "2024-09-12T07:33:02.468Z"
   },
   {
    "duration": 10,
    "start_time": "2024-09-12T07:33:02.810Z"
   },
   {
    "duration": 30,
    "start_time": "2024-09-12T07:33:02.822Z"
   },
   {
    "duration": 148,
    "start_time": "2024-09-12T07:33:02.854Z"
   },
   {
    "duration": 4,
    "start_time": "2024-09-12T07:33:03.004Z"
   },
   {
    "duration": 15,
    "start_time": "2024-09-12T07:33:03.010Z"
   },
   {
    "duration": 183,
    "start_time": "2024-09-12T07:33:03.026Z"
   },
   {
    "duration": 4,
    "start_time": "2024-09-12T07:33:03.211Z"
   },
   {
    "duration": 20,
    "start_time": "2024-09-12T07:33:03.221Z"
   },
   {
    "duration": 8,
    "start_time": "2024-09-12T07:33:03.243Z"
   },
   {
    "duration": 28,
    "start_time": "2024-09-12T07:33:03.253Z"
   },
   {
    "duration": 34,
    "start_time": "2024-09-12T07:33:03.283Z"
   },
   {
    "duration": 83,
    "start_time": "2024-09-12T07:33:03.319Z"
   },
   {
    "duration": 101,
    "start_time": "2024-09-12T07:33:03.404Z"
   },
   {
    "duration": 141,
    "start_time": "2024-09-12T07:33:03.507Z"
   },
   {
    "duration": 23,
    "start_time": "2024-09-12T07:33:03.650Z"
   },
   {
    "duration": 22,
    "start_time": "2024-09-12T07:33:03.675Z"
   },
   {
    "duration": 12,
    "start_time": "2024-09-12T07:33:03.699Z"
   },
   {
    "duration": 10,
    "start_time": "2024-09-12T07:33:03.713Z"
   },
   {
    "duration": 22,
    "start_time": "2024-09-12T07:33:03.725Z"
   },
   {
    "duration": 10,
    "start_time": "2024-09-12T07:33:03.748Z"
   },
   {
    "duration": 56,
    "start_time": "2024-09-12T07:33:03.760Z"
   },
   {
    "duration": 14,
    "start_time": "2024-09-12T07:33:03.818Z"
   },
   {
    "duration": 1224,
    "start_time": "2024-09-12T08:41:46.085Z"
   },
   {
    "duration": 30,
    "start_time": "2024-09-12T08:41:47.311Z"
   },
   {
    "duration": 17,
    "start_time": "2024-09-12T08:41:47.343Z"
   },
   {
    "duration": 21,
    "start_time": "2024-09-12T08:41:47.363Z"
   },
   {
    "duration": 20,
    "start_time": "2024-09-12T08:41:47.386Z"
   },
   {
    "duration": 16,
    "start_time": "2024-09-12T08:41:47.407Z"
   },
   {
    "duration": 13,
    "start_time": "2024-09-12T08:41:47.425Z"
   },
   {
    "duration": 5,
    "start_time": "2024-09-12T08:41:47.440Z"
   },
   {
    "duration": 23,
    "start_time": "2024-09-12T08:41:47.446Z"
   },
   {
    "duration": 56,
    "start_time": "2024-09-12T08:41:47.472Z"
   },
   {
    "duration": 6,
    "start_time": "2024-09-12T08:41:47.531Z"
   },
   {
    "duration": 23,
    "start_time": "2024-09-12T08:41:47.539Z"
   },
   {
    "duration": 25,
    "start_time": "2024-09-12T08:41:47.564Z"
   },
   {
    "duration": 15,
    "start_time": "2024-09-12T08:41:47.591Z"
   },
   {
    "duration": 10,
    "start_time": "2024-09-12T08:41:47.607Z"
   },
   {
    "duration": 189,
    "start_time": "2024-09-12T08:41:47.619Z"
   },
   {
    "duration": 124,
    "start_time": "2024-09-12T08:41:47.810Z"
   },
   {
    "duration": 21,
    "start_time": "2024-09-12T08:41:47.935Z"
   },
   {
    "duration": 13,
    "start_time": "2024-09-12T08:41:47.958Z"
   },
   {
    "duration": 5,
    "start_time": "2024-09-12T08:41:47.973Z"
   },
   {
    "duration": 16,
    "start_time": "2024-09-12T08:41:47.979Z"
   },
   {
    "duration": 314,
    "start_time": "2024-09-12T08:41:47.997Z"
   },
   {
    "duration": 235,
    "start_time": "2024-09-12T08:41:48.315Z"
   },
   {
    "duration": 9,
    "start_time": "2024-09-12T08:41:48.551Z"
   },
   {
    "duration": 25,
    "start_time": "2024-09-12T08:41:48.562Z"
   },
   {
    "duration": 343,
    "start_time": "2024-09-12T08:41:48.589Z"
   },
   {
    "duration": 9,
    "start_time": "2024-09-12T08:41:48.934Z"
   },
   {
    "duration": 20,
    "start_time": "2024-09-12T08:41:48.955Z"
   },
   {
    "duration": 17,
    "start_time": "2024-09-12T08:41:48.977Z"
   },
   {
    "duration": 267,
    "start_time": "2024-09-12T08:41:48.997Z"
   },
   {
    "duration": 11,
    "start_time": "2024-09-12T08:41:49.269Z"
   },
   {
    "duration": 16,
    "start_time": "2024-09-12T08:41:49.282Z"
   },
   {
    "duration": 405,
    "start_time": "2024-09-12T08:41:49.299Z"
   },
   {
    "duration": 14,
    "start_time": "2024-09-12T08:41:49.706Z"
   },
   {
    "duration": 134,
    "start_time": "2024-09-12T08:41:49.722Z"
   },
   {
    "duration": 161,
    "start_time": "2024-09-12T08:41:49.858Z"
   },
   {
    "duration": 5,
    "start_time": "2024-09-12T08:41:50.022Z"
   },
   {
    "duration": 5,
    "start_time": "2024-09-12T08:41:50.029Z"
   },
   {
    "duration": 172,
    "start_time": "2024-09-12T08:41:50.036Z"
   },
   {
    "duration": 5,
    "start_time": "2024-09-12T08:41:50.210Z"
   },
   {
    "duration": 15,
    "start_time": "2024-09-12T08:41:50.217Z"
   },
   {
    "duration": 7,
    "start_time": "2024-09-12T08:41:50.235Z"
   },
   {
    "duration": 30,
    "start_time": "2024-09-12T08:41:50.244Z"
   },
   {
    "duration": 24,
    "start_time": "2024-09-12T08:41:50.276Z"
   },
   {
    "duration": 82,
    "start_time": "2024-09-12T08:41:50.301Z"
   },
   {
    "duration": 91,
    "start_time": "2024-09-12T08:41:50.385Z"
   },
   {
    "duration": 84,
    "start_time": "2024-09-12T08:41:50.478Z"
   },
   {
    "duration": 70,
    "start_time": "2024-09-12T08:41:50.564Z"
   },
   {
    "duration": 168,
    "start_time": "2024-09-12T08:41:50.635Z"
   },
   {
    "duration": 46,
    "start_time": "2024-09-12T08:41:50.804Z"
   },
   {
    "duration": 28,
    "start_time": "2024-09-12T08:41:50.852Z"
   },
   {
    "duration": 15,
    "start_time": "2024-09-12T08:41:50.882Z"
   },
   {
    "duration": 42,
    "start_time": "2024-09-12T08:41:50.899Z"
   },
   {
    "duration": 53,
    "start_time": "2024-09-12T08:41:50.943Z"
   },
   {
    "duration": 15,
    "start_time": "2024-09-12T08:41:50.998Z"
   },
   {
    "duration": 1399,
    "start_time": "2024-09-12T09:05:17.265Z"
   },
   {
    "duration": 79,
    "start_time": "2024-09-12T09:05:18.666Z"
   },
   {
    "duration": 13,
    "start_time": "2024-09-12T09:05:18.746Z"
   },
   {
    "duration": 13,
    "start_time": "2024-09-12T09:05:18.760Z"
   },
   {
    "duration": 19,
    "start_time": "2024-09-12T09:05:18.775Z"
   },
   {
    "duration": 5,
    "start_time": "2024-09-12T09:05:18.795Z"
   },
   {
    "duration": 9,
    "start_time": "2024-09-12T09:05:18.802Z"
   },
   {
    "duration": 4,
    "start_time": "2024-09-12T09:05:18.813Z"
   },
   {
    "duration": 32,
    "start_time": "2024-09-12T09:05:18.819Z"
   },
   {
    "duration": 86,
    "start_time": "2024-09-12T09:05:18.853Z"
   },
   {
    "duration": 5,
    "start_time": "2024-09-12T09:05:18.940Z"
   },
   {
    "duration": 17,
    "start_time": "2024-09-12T09:05:18.947Z"
   },
   {
    "duration": 64,
    "start_time": "2024-09-12T09:05:18.966Z"
   },
   {
    "duration": 10,
    "start_time": "2024-09-12T09:05:19.033Z"
   },
   {
    "duration": 21,
    "start_time": "2024-09-12T09:05:19.045Z"
   },
   {
    "duration": 171,
    "start_time": "2024-09-12T09:05:19.068Z"
   },
   {
    "duration": 126,
    "start_time": "2024-09-12T09:05:19.241Z"
   },
   {
    "duration": 6,
    "start_time": "2024-09-12T09:05:19.375Z"
   },
   {
    "duration": 18,
    "start_time": "2024-09-12T09:05:19.383Z"
   },
   {
    "duration": 4,
    "start_time": "2024-09-12T09:05:19.403Z"
   },
   {
    "duration": 6,
    "start_time": "2024-09-12T09:05:19.409Z"
   },
   {
    "duration": 317,
    "start_time": "2024-09-12T09:05:19.416Z"
   },
   {
    "duration": 226,
    "start_time": "2024-09-12T09:05:19.734Z"
   },
   {
    "duration": 7,
    "start_time": "2024-09-12T09:05:19.962Z"
   },
   {
    "duration": 8,
    "start_time": "2024-09-12T09:05:19.976Z"
   },
   {
    "duration": 374,
    "start_time": "2024-09-12T09:05:19.986Z"
   },
   {
    "duration": 8,
    "start_time": "2024-09-12T09:05:20.361Z"
   },
   {
    "duration": 10,
    "start_time": "2024-09-12T09:05:20.376Z"
   },
   {
    "duration": 21,
    "start_time": "2024-09-12T09:05:20.388Z"
   },
   {
    "duration": 237,
    "start_time": "2024-09-12T09:05:20.411Z"
   },
   {
    "duration": 10,
    "start_time": "2024-09-12T09:05:20.651Z"
   },
   {
    "duration": 66,
    "start_time": "2024-09-12T09:05:20.675Z"
   },
   {
    "duration": 386,
    "start_time": "2024-09-12T09:05:20.743Z"
   },
   {
    "duration": 9,
    "start_time": "2024-09-12T09:05:21.131Z"
   },
   {
    "duration": 28,
    "start_time": "2024-09-12T09:05:21.142Z"
   },
   {
    "duration": 150,
    "start_time": "2024-09-12T09:05:21.172Z"
   },
   {
    "duration": 5,
    "start_time": "2024-09-12T09:05:21.323Z"
   },
   {
    "duration": 4,
    "start_time": "2024-09-12T09:05:21.329Z"
   },
   {
    "duration": 173,
    "start_time": "2024-09-12T09:05:21.334Z"
   },
   {
    "duration": 4,
    "start_time": "2024-09-12T09:05:21.509Z"
   },
   {
    "duration": 5,
    "start_time": "2024-09-12T09:05:21.517Z"
   },
   {
    "duration": 5,
    "start_time": "2024-09-12T09:05:21.523Z"
   },
   {
    "duration": 14,
    "start_time": "2024-09-12T09:05:21.530Z"
   },
   {
    "duration": 41,
    "start_time": "2024-09-12T09:05:21.546Z"
   },
   {
    "duration": 66,
    "start_time": "2024-09-12T09:05:21.588Z"
   },
   {
    "duration": 97,
    "start_time": "2024-09-12T09:05:21.656Z"
   },
   {
    "duration": 89,
    "start_time": "2024-09-12T09:05:21.755Z"
   },
   {
    "duration": 40,
    "start_time": "2024-09-12T09:05:21.846Z"
   },
   {
    "duration": 10,
    "start_time": "2024-09-12T09:05:21.888Z"
   },
   {
    "duration": 7,
    "start_time": "2024-09-12T09:05:21.900Z"
   },
   {
    "duration": 8,
    "start_time": "2024-09-12T09:05:21.909Z"
   },
   {
    "duration": 9,
    "start_time": "2024-09-12T09:05:21.919Z"
   },
   {
    "duration": 15,
    "start_time": "2024-09-12T09:05:21.930Z"
   },
   {
    "duration": 46,
    "start_time": "2024-09-12T09:05:21.947Z"
   },
   {
    "duration": 14,
    "start_time": "2024-09-12T09:05:21.994Z"
   },
   {
    "duration": 4,
    "start_time": "2024-09-12T09:09:28.148Z"
   },
   {
    "duration": 164,
    "start_time": "2024-09-12T09:10:34.083Z"
   },
   {
    "duration": 1365,
    "start_time": "2024-09-12T12:11:18.592Z"
   },
   {
    "duration": 84,
    "start_time": "2024-09-12T12:11:19.959Z"
   },
   {
    "duration": 11,
    "start_time": "2024-09-12T12:11:20.045Z"
   },
   {
    "duration": 13,
    "start_time": "2024-09-12T12:11:20.057Z"
   },
   {
    "duration": 24,
    "start_time": "2024-09-12T12:11:20.072Z"
   },
   {
    "duration": 7,
    "start_time": "2024-09-12T12:11:20.098Z"
   },
   {
    "duration": 28,
    "start_time": "2024-09-12T12:11:20.106Z"
   },
   {
    "duration": 10,
    "start_time": "2024-09-12T12:11:20.136Z"
   },
   {
    "duration": 16,
    "start_time": "2024-09-12T12:11:20.147Z"
   },
   {
    "duration": 96,
    "start_time": "2024-09-12T12:11:20.165Z"
   },
   {
    "duration": 5,
    "start_time": "2024-09-12T12:11:20.262Z"
   },
   {
    "duration": 21,
    "start_time": "2024-09-12T12:11:20.269Z"
   },
   {
    "duration": 66,
    "start_time": "2024-09-12T12:11:20.292Z"
   },
   {
    "duration": 10,
    "start_time": "2024-09-12T12:11:20.361Z"
   },
   {
    "duration": 11,
    "start_time": "2024-09-12T12:11:20.373Z"
   },
   {
    "duration": 190,
    "start_time": "2024-09-12T12:11:20.385Z"
   },
   {
    "duration": 139,
    "start_time": "2024-09-12T12:11:20.576Z"
   },
   {
    "duration": 10,
    "start_time": "2024-09-12T12:11:20.717Z"
   },
   {
    "duration": 20,
    "start_time": "2024-09-12T12:11:20.729Z"
   },
   {
    "duration": 8,
    "start_time": "2024-09-12T12:11:20.750Z"
   },
   {
    "duration": 12,
    "start_time": "2024-09-12T12:11:20.760Z"
   },
   {
    "duration": 343,
    "start_time": "2024-09-12T12:11:20.774Z"
   },
   {
    "duration": 230,
    "start_time": "2024-09-12T12:11:21.119Z"
   },
   {
    "duration": 6,
    "start_time": "2024-09-12T12:11:21.351Z"
   },
   {
    "duration": 30,
    "start_time": "2024-09-12T12:11:21.359Z"
   },
   {
    "duration": 385,
    "start_time": "2024-09-12T12:11:21.391Z"
   },
   {
    "duration": 7,
    "start_time": "2024-09-12T12:11:21.778Z"
   },
   {
    "duration": 28,
    "start_time": "2024-09-12T12:11:21.786Z"
   },
   {
    "duration": 22,
    "start_time": "2024-09-12T12:11:21.816Z"
   },
   {
    "duration": 216,
    "start_time": "2024-09-12T12:11:21.840Z"
   },
   {
    "duration": 8,
    "start_time": "2024-09-12T12:11:22.057Z"
   },
   {
    "duration": 17,
    "start_time": "2024-09-12T12:11:22.067Z"
   },
   {
    "duration": 417,
    "start_time": "2024-09-12T12:11:22.085Z"
   },
   {
    "duration": 9,
    "start_time": "2024-09-12T12:11:22.506Z"
   },
   {
    "duration": 62,
    "start_time": "2024-09-12T12:11:22.518Z"
   },
   {
    "duration": 149,
    "start_time": "2024-09-12T12:11:22.581Z"
   },
   {
    "duration": 5,
    "start_time": "2024-09-12T12:11:22.733Z"
   },
   {
    "duration": 14,
    "start_time": "2024-09-12T12:11:22.740Z"
   },
   {
    "duration": 204,
    "start_time": "2024-09-12T12:11:22.755Z"
   },
   {
    "duration": 4,
    "start_time": "2024-09-12T12:11:22.961Z"
   },
   {
    "duration": 5,
    "start_time": "2024-09-12T12:11:22.969Z"
   },
   {
    "duration": 7,
    "start_time": "2024-09-12T12:11:22.975Z"
   },
   {
    "duration": 38,
    "start_time": "2024-09-12T12:11:22.983Z"
   },
   {
    "duration": 19,
    "start_time": "2024-09-12T12:11:23.023Z"
   },
   {
    "duration": 109,
    "start_time": "2024-09-12T12:11:23.044Z"
   },
   {
    "duration": 103,
    "start_time": "2024-09-12T12:11:23.155Z"
   },
   {
    "duration": 92,
    "start_time": "2024-09-12T12:11:23.259Z"
   },
   {
    "duration": 25,
    "start_time": "2024-09-12T12:11:23.353Z"
   },
   {
    "duration": 32,
    "start_time": "2024-09-12T12:11:23.379Z"
   },
   {
    "duration": 6,
    "start_time": "2024-09-12T12:11:23.413Z"
   },
   {
    "duration": 5,
    "start_time": "2024-09-12T12:11:23.422Z"
   },
   {
    "duration": 6,
    "start_time": "2024-09-12T12:11:23.429Z"
   },
   {
    "duration": 9,
    "start_time": "2024-09-12T12:11:23.437Z"
   },
   {
    "duration": 31,
    "start_time": "2024-09-12T12:11:23.448Z"
   },
   {
    "duration": 20,
    "start_time": "2024-09-12T12:11:23.509Z"
   },
   {
    "duration": 8,
    "start_time": "2024-09-12T12:11:52.887Z"
   },
   {
    "duration": 6,
    "start_time": "2024-09-12T12:12:03.432Z"
   },
   {
    "duration": 5,
    "start_time": "2024-09-12T12:12:24.769Z"
   },
   {
    "duration": 109,
    "start_time": "2024-09-12T12:12:48.540Z"
   },
   {
    "duration": 9,
    "start_time": "2024-09-12T12:12:53.034Z"
   },
   {
    "duration": 41,
    "start_time": "2024-09-12T12:13:42.980Z"
   },
   {
    "duration": 8,
    "start_time": "2024-09-12T12:15:49.422Z"
   },
   {
    "duration": 1254,
    "start_time": "2024-09-13T05:32:34.843Z"
   },
   {
    "duration": 110,
    "start_time": "2024-09-13T05:32:36.099Z"
   },
   {
    "duration": 10,
    "start_time": "2024-09-13T05:32:36.210Z"
   },
   {
    "duration": 16,
    "start_time": "2024-09-13T05:32:36.222Z"
   },
   {
    "duration": 6,
    "start_time": "2024-09-13T05:32:36.240Z"
   },
   {
    "duration": 4,
    "start_time": "2024-09-13T05:32:36.247Z"
   },
   {
    "duration": 9,
    "start_time": "2024-09-13T05:32:36.252Z"
   },
   {
    "duration": 15,
    "start_time": "2024-09-13T05:32:36.263Z"
   },
   {
    "duration": 12,
    "start_time": "2024-09-13T05:32:36.279Z"
   },
   {
    "duration": 24,
    "start_time": "2024-09-13T05:32:36.293Z"
   },
   {
    "duration": 114,
    "start_time": "2024-09-13T05:32:36.318Z"
   },
   {
    "duration": 4,
    "start_time": "2024-09-13T05:32:36.434Z"
   },
   {
    "duration": 17,
    "start_time": "2024-09-13T05:32:36.439Z"
   },
   {
    "duration": 4,
    "start_time": "2024-09-13T05:32:36.457Z"
   },
   {
    "duration": 73,
    "start_time": "2024-09-13T05:32:36.463Z"
   },
   {
    "duration": 9,
    "start_time": "2024-09-13T05:32:36.538Z"
   },
   {
    "duration": 9,
    "start_time": "2024-09-13T05:32:36.548Z"
   },
   {
    "duration": 9,
    "start_time": "2024-09-13T05:32:36.559Z"
   },
   {
    "duration": 154,
    "start_time": "2024-09-13T05:32:36.570Z"
   },
   {
    "duration": 125,
    "start_time": "2024-09-13T05:32:36.725Z"
   },
   {
    "duration": 8,
    "start_time": "2024-09-13T05:32:36.851Z"
   },
   {
    "duration": 11,
    "start_time": "2024-09-13T05:32:36.860Z"
   },
   {
    "duration": 22,
    "start_time": "2024-09-13T05:32:36.872Z"
   },
   {
    "duration": 29,
    "start_time": "2024-09-13T05:32:36.895Z"
   },
   {
    "duration": 279,
    "start_time": "2024-09-13T05:32:36.925Z"
   },
   {
    "duration": 214,
    "start_time": "2024-09-13T05:32:37.205Z"
   },
   {
    "duration": 5,
    "start_time": "2024-09-13T05:32:37.420Z"
   },
   {
    "duration": 58,
    "start_time": "2024-09-13T05:32:37.429Z"
   },
   {
    "duration": 358,
    "start_time": "2024-09-13T05:32:37.488Z"
   },
   {
    "duration": 7,
    "start_time": "2024-09-13T05:32:37.847Z"
   },
   {
    "duration": 18,
    "start_time": "2024-09-13T05:32:37.855Z"
   },
   {
    "duration": 25,
    "start_time": "2024-09-13T05:32:37.874Z"
   },
   {
    "duration": 203,
    "start_time": "2024-09-13T05:32:37.900Z"
   },
   {
    "duration": 7,
    "start_time": "2024-09-13T05:32:38.105Z"
   },
   {
    "duration": 19,
    "start_time": "2024-09-13T05:32:38.113Z"
   },
   {
    "duration": 311,
    "start_time": "2024-09-13T05:32:38.133Z"
   },
   {
    "duration": 8,
    "start_time": "2024-09-13T05:32:38.445Z"
   },
   {
    "duration": 35,
    "start_time": "2024-09-13T05:32:38.454Z"
   },
   {
    "duration": 125,
    "start_time": "2024-09-13T05:32:38.491Z"
   },
   {
    "duration": 4,
    "start_time": "2024-09-13T05:32:38.618Z"
   },
   {
    "duration": 3,
    "start_time": "2024-09-13T05:32:38.624Z"
   },
   {
    "duration": 156,
    "start_time": "2024-09-13T05:32:38.628Z"
   },
   {
    "duration": 6,
    "start_time": "2024-09-13T05:32:38.785Z"
   },
   {
    "duration": 39,
    "start_time": "2024-09-13T05:32:38.792Z"
   },
   {
    "duration": 13,
    "start_time": "2024-09-13T05:32:38.833Z"
   },
   {
    "duration": 24,
    "start_time": "2024-09-13T05:32:38.847Z"
   },
   {
    "duration": 16,
    "start_time": "2024-09-13T05:32:38.873Z"
   },
   {
    "duration": 59,
    "start_time": "2024-09-13T05:32:38.891Z"
   },
   {
    "duration": 80,
    "start_time": "2024-09-13T05:32:38.952Z"
   },
   {
    "duration": 78,
    "start_time": "2024-09-13T05:32:39.033Z"
   },
   {
    "duration": 34,
    "start_time": "2024-09-13T05:32:39.112Z"
   },
   {
    "duration": 9,
    "start_time": "2024-09-13T05:32:39.147Z"
   },
   {
    "duration": 5,
    "start_time": "2024-09-13T05:32:39.158Z"
   },
   {
    "duration": 12,
    "start_time": "2024-09-13T05:32:39.164Z"
   },
   {
    "duration": 29,
    "start_time": "2024-09-13T05:32:39.178Z"
   },
   {
    "duration": 9,
    "start_time": "2024-09-13T05:32:39.208Z"
   },
   {
    "duration": 24,
    "start_time": "2024-09-13T05:32:39.218Z"
   },
   {
    "duration": 13,
    "start_time": "2024-09-13T05:32:39.244Z"
   },
   {
    "duration": 41,
    "start_time": "2024-09-13T05:33:49.791Z"
   },
   {
    "duration": 102,
    "start_time": "2024-09-13T05:34:04.153Z"
   },
   {
    "duration": 13,
    "start_time": "2024-09-13T05:35:06.628Z"
   },
   {
    "duration": 6,
    "start_time": "2024-09-13T05:37:42.739Z"
   },
   {
    "duration": 8,
    "start_time": "2024-09-13T05:37:54.223Z"
   },
   {
    "duration": 7,
    "start_time": "2024-09-13T05:39:35.779Z"
   },
   {
    "duration": 41,
    "start_time": "2024-09-13T05:40:11.978Z"
   },
   {
    "duration": 11,
    "start_time": "2024-09-13T06:32:41.444Z"
   },
   {
    "duration": 25,
    "start_time": "2024-09-13T06:33:12.444Z"
   },
   {
    "duration": 24,
    "start_time": "2024-09-13T06:34:25.162Z"
   },
   {
    "duration": 5,
    "start_time": "2024-09-13T06:37:51.728Z"
   },
   {
    "duration": 43,
    "start_time": "2024-09-13T06:49:58.295Z"
   },
   {
    "duration": 49,
    "start_time": "2024-09-13T06:50:18.713Z"
   },
   {
    "duration": 13,
    "start_time": "2024-09-13T06:50:42.122Z"
   },
   {
    "duration": 9,
    "start_time": "2024-09-13T06:51:31.182Z"
   },
   {
    "duration": 6,
    "start_time": "2024-09-13T06:52:19.005Z"
   },
   {
    "duration": 9,
    "start_time": "2024-09-13T06:53:02.863Z"
   },
   {
    "duration": 29,
    "start_time": "2024-09-13T06:57:37.621Z"
   },
   {
    "duration": 24,
    "start_time": "2024-09-13T06:58:13.873Z"
   },
   {
    "duration": 24,
    "start_time": "2024-09-13T06:58:28.362Z"
   },
   {
    "duration": 4,
    "start_time": "2024-09-13T06:59:00.512Z"
   },
   {
    "duration": 24,
    "start_time": "2024-09-13T07:00:03.169Z"
   },
   {
    "duration": 9,
    "start_time": "2024-09-13T07:03:41.457Z"
   },
   {
    "duration": 10,
    "start_time": "2024-09-13T07:04:04.883Z"
   },
   {
    "duration": 8,
    "start_time": "2024-09-13T07:04:21.959Z"
   },
   {
    "duration": 10,
    "start_time": "2024-09-13T07:04:29.362Z"
   },
   {
    "duration": 10,
    "start_time": "2024-09-13T07:04:47.805Z"
   },
   {
    "duration": 11,
    "start_time": "2024-09-13T07:05:09.822Z"
   },
   {
    "duration": 10,
    "start_time": "2024-09-13T07:05:15.603Z"
   },
   {
    "duration": 54,
    "start_time": "2024-09-13T07:06:41.987Z"
   },
   {
    "duration": 54,
    "start_time": "2024-09-13T07:07:05.303Z"
   },
   {
    "duration": 1117,
    "start_time": "2024-09-13T07:07:28.486Z"
   },
   {
    "duration": 34,
    "start_time": "2024-09-13T07:07:29.605Z"
   },
   {
    "duration": 15,
    "start_time": "2024-09-13T07:07:29.641Z"
   },
   {
    "duration": 11,
    "start_time": "2024-09-13T07:07:29.658Z"
   },
   {
    "duration": 46,
    "start_time": "2024-09-13T07:07:29.671Z"
   },
   {
    "duration": 4,
    "start_time": "2024-09-13T07:07:29.719Z"
   },
   {
    "duration": 27,
    "start_time": "2024-09-13T07:07:29.725Z"
   },
   {
    "duration": 12,
    "start_time": "2024-09-13T07:07:29.754Z"
   },
   {
    "duration": 5,
    "start_time": "2024-09-13T07:07:29.768Z"
   },
   {
    "duration": 10,
    "start_time": "2024-09-13T07:07:29.776Z"
   },
   {
    "duration": 51,
    "start_time": "2024-09-13T07:07:29.788Z"
   },
   {
    "duration": 5,
    "start_time": "2024-09-13T07:07:29.840Z"
   },
   {
    "duration": 25,
    "start_time": "2024-09-13T07:07:29.847Z"
   },
   {
    "duration": 7,
    "start_time": "2024-09-13T07:07:29.873Z"
   },
   {
    "duration": 21,
    "start_time": "2024-09-13T07:07:29.881Z"
   },
   {
    "duration": 9,
    "start_time": "2024-09-13T07:07:29.904Z"
   },
   {
    "duration": 7,
    "start_time": "2024-09-13T07:07:29.915Z"
   },
   {
    "duration": 7,
    "start_time": "2024-09-13T07:07:29.923Z"
   },
   {
    "duration": 158,
    "start_time": "2024-09-13T07:07:29.931Z"
   },
   {
    "duration": 132,
    "start_time": "2024-09-13T07:07:30.091Z"
   },
   {
    "duration": 9,
    "start_time": "2024-09-13T07:07:30.225Z"
   },
   {
    "duration": 44,
    "start_time": "2024-09-13T07:07:30.237Z"
   },
   {
    "duration": 46,
    "start_time": "2024-09-13T07:07:30.282Z"
   },
   {
    "duration": 39,
    "start_time": "2024-09-13T07:07:30.329Z"
   },
   {
    "duration": 301,
    "start_time": "2024-09-13T07:07:30.370Z"
   },
   {
    "duration": 216,
    "start_time": "2024-09-13T07:07:30.673Z"
   },
   {
    "duration": 6,
    "start_time": "2024-09-13T07:07:30.891Z"
   },
   {
    "duration": 12,
    "start_time": "2024-09-13T07:07:30.902Z"
   },
   {
    "duration": 299,
    "start_time": "2024-09-13T07:07:30.916Z"
   },
   {
    "duration": 7,
    "start_time": "2024-09-13T07:07:31.217Z"
   },
   {
    "duration": 18,
    "start_time": "2024-09-13T07:07:31.226Z"
   },
   {
    "duration": 20,
    "start_time": "2024-09-13T07:07:31.245Z"
   },
   {
    "duration": 191,
    "start_time": "2024-09-13T07:07:31.267Z"
   },
   {
    "duration": 8,
    "start_time": "2024-09-13T07:07:31.459Z"
   },
   {
    "duration": 59,
    "start_time": "2024-09-13T07:07:31.469Z"
   },
   {
    "duration": 302,
    "start_time": "2024-09-13T07:07:31.530Z"
   },
   {
    "duration": 9,
    "start_time": "2024-09-13T07:07:31.834Z"
   },
   {
    "duration": 18,
    "start_time": "2024-09-13T07:07:31.845Z"
   },
   {
    "duration": 149,
    "start_time": "2024-09-13T07:07:31.865Z"
   },
   {
    "duration": 4,
    "start_time": "2024-09-13T07:07:32.016Z"
   },
   {
    "duration": 18,
    "start_time": "2024-09-13T07:07:32.021Z"
   },
   {
    "duration": 148,
    "start_time": "2024-09-13T07:07:32.040Z"
   },
   {
    "duration": 4,
    "start_time": "2024-09-13T07:07:32.189Z"
   },
   {
    "duration": 18,
    "start_time": "2024-09-13T07:07:32.194Z"
   },
   {
    "duration": 12,
    "start_time": "2024-09-13T07:07:32.213Z"
   },
   {
    "duration": 21,
    "start_time": "2024-09-13T07:07:32.227Z"
   },
   {
    "duration": 15,
    "start_time": "2024-09-13T07:07:32.250Z"
   },
   {
    "duration": 101,
    "start_time": "2024-09-13T07:07:32.266Z"
   },
   {
    "duration": 67,
    "start_time": "2024-09-13T07:07:32.369Z"
   },
   {
    "duration": 87,
    "start_time": "2024-09-13T07:07:32.438Z"
   },
   {
    "duration": 29,
    "start_time": "2024-09-13T07:07:32.527Z"
   },
   {
    "duration": 3,
    "start_time": "2024-09-13T07:07:32.557Z"
   },
   {
    "duration": 45,
    "start_time": "2024-09-13T07:07:32.562Z"
   },
   {
    "duration": 19,
    "start_time": "2024-09-13T07:07:32.608Z"
   },
   {
    "duration": 27,
    "start_time": "2024-09-13T07:07:32.629Z"
   },
   {
    "duration": 114,
    "start_time": "2024-09-13T07:07:32.657Z"
   },
   {
    "duration": 0,
    "start_time": "2024-09-13T07:07:32.772Z"
   },
   {
    "duration": 0,
    "start_time": "2024-09-13T07:07:32.773Z"
   },
   {
    "duration": 0,
    "start_time": "2024-09-13T07:07:32.774Z"
   },
   {
    "duration": 0,
    "start_time": "2024-09-13T07:07:32.776Z"
   },
   {
    "duration": 0,
    "start_time": "2024-09-13T07:07:32.777Z"
   },
   {
    "duration": 0,
    "start_time": "2024-09-13T07:07:32.778Z"
   },
   {
    "duration": 10,
    "start_time": "2024-09-13T07:08:35.492Z"
   },
   {
    "duration": 10,
    "start_time": "2024-09-13T07:09:07.586Z"
   },
   {
    "duration": 11,
    "start_time": "2024-09-13T07:11:34.683Z"
   },
   {
    "duration": 4,
    "start_time": "2024-09-13T07:11:48.665Z"
   },
   {
    "duration": 10,
    "start_time": "2024-09-13T07:12:16.806Z"
   },
   {
    "duration": 7,
    "start_time": "2024-09-13T07:15:32.324Z"
   },
   {
    "duration": 4,
    "start_time": "2024-09-13T07:17:48.524Z"
   },
   {
    "duration": 7,
    "start_time": "2024-09-13T07:17:55.977Z"
   },
   {
    "duration": 7,
    "start_time": "2024-09-13T07:18:46.326Z"
   },
   {
    "duration": 4,
    "start_time": "2024-09-13T07:18:49.623Z"
   },
   {
    "duration": 4,
    "start_time": "2024-09-13T07:18:54.903Z"
   },
   {
    "duration": 3,
    "start_time": "2024-09-13T07:18:56.244Z"
   },
   {
    "duration": 10,
    "start_time": "2024-09-13T07:18:57.262Z"
   },
   {
    "duration": 1141,
    "start_time": "2024-09-13T07:19:09.848Z"
   },
   {
    "duration": 33,
    "start_time": "2024-09-13T07:19:10.991Z"
   },
   {
    "duration": 10,
    "start_time": "2024-09-13T07:19:11.025Z"
   },
   {
    "duration": 9,
    "start_time": "2024-09-13T07:19:11.037Z"
   },
   {
    "duration": 21,
    "start_time": "2024-09-13T07:19:11.048Z"
   },
   {
    "duration": 6,
    "start_time": "2024-09-13T07:19:11.070Z"
   },
   {
    "duration": 17,
    "start_time": "2024-09-13T07:19:11.078Z"
   },
   {
    "duration": 29,
    "start_time": "2024-09-13T07:19:11.097Z"
   },
   {
    "duration": 9,
    "start_time": "2024-09-13T07:19:11.128Z"
   },
   {
    "duration": 19,
    "start_time": "2024-09-13T07:19:11.139Z"
   },
   {
    "duration": 53,
    "start_time": "2024-09-13T07:19:11.159Z"
   },
   {
    "duration": 4,
    "start_time": "2024-09-13T07:19:11.213Z"
   },
   {
    "duration": 14,
    "start_time": "2024-09-13T07:19:11.219Z"
   },
   {
    "duration": 5,
    "start_time": "2024-09-13T07:19:11.234Z"
   },
   {
    "duration": 19,
    "start_time": "2024-09-13T07:19:11.241Z"
   },
   {
    "duration": 10,
    "start_time": "2024-09-13T07:19:11.261Z"
   },
   {
    "duration": 26,
    "start_time": "2024-09-13T07:19:11.272Z"
   },
   {
    "duration": 36,
    "start_time": "2024-09-13T07:19:11.300Z"
   },
   {
    "duration": 154,
    "start_time": "2024-09-13T07:19:11.338Z"
   },
   {
    "duration": 112,
    "start_time": "2024-09-13T07:19:11.494Z"
   },
   {
    "duration": 6,
    "start_time": "2024-09-13T07:19:11.607Z"
   },
   {
    "duration": 17,
    "start_time": "2024-09-13T07:19:11.615Z"
   },
   {
    "duration": 5,
    "start_time": "2024-09-13T07:19:11.633Z"
   },
   {
    "duration": 8,
    "start_time": "2024-09-13T07:19:11.640Z"
   },
   {
    "duration": 287,
    "start_time": "2024-09-13T07:19:11.649Z"
   },
   {
    "duration": 208,
    "start_time": "2024-09-13T07:19:11.938Z"
   },
   {
    "duration": 6,
    "start_time": "2024-09-13T07:19:12.147Z"
   },
   {
    "duration": 9,
    "start_time": "2024-09-13T07:19:12.156Z"
   },
   {
    "duration": 350,
    "start_time": "2024-09-13T07:19:12.166Z"
   },
   {
    "duration": 6,
    "start_time": "2024-09-13T07:19:12.518Z"
   },
   {
    "duration": 17,
    "start_time": "2024-09-13T07:19:12.525Z"
   },
   {
    "duration": 22,
    "start_time": "2024-09-13T07:19:12.543Z"
   },
   {
    "duration": 197,
    "start_time": "2024-09-13T07:19:12.566Z"
   },
   {
    "duration": 7,
    "start_time": "2024-09-13T07:19:12.764Z"
   },
   {
    "duration": 20,
    "start_time": "2024-09-13T07:19:12.772Z"
   },
   {
    "duration": 340,
    "start_time": "2024-09-13T07:19:12.793Z"
   },
   {
    "duration": 8,
    "start_time": "2024-09-13T07:19:13.134Z"
   },
   {
    "duration": 35,
    "start_time": "2024-09-13T07:19:13.143Z"
   },
   {
    "duration": 142,
    "start_time": "2024-09-13T07:19:13.180Z"
   },
   {
    "duration": 4,
    "start_time": "2024-09-13T07:19:13.323Z"
   },
   {
    "duration": 5,
    "start_time": "2024-09-13T07:19:13.328Z"
   },
   {
    "duration": 153,
    "start_time": "2024-09-13T07:19:13.334Z"
   },
   {
    "duration": 4,
    "start_time": "2024-09-13T07:19:13.489Z"
   },
   {
    "duration": 15,
    "start_time": "2024-09-13T07:19:13.494Z"
   },
   {
    "duration": 13,
    "start_time": "2024-09-13T07:19:13.510Z"
   },
   {
    "duration": 24,
    "start_time": "2024-09-13T07:19:13.525Z"
   },
   {
    "duration": 16,
    "start_time": "2024-09-13T07:19:13.550Z"
   },
   {
    "duration": 77,
    "start_time": "2024-09-13T07:19:13.567Z"
   },
   {
    "duration": 81,
    "start_time": "2024-09-13T07:19:13.646Z"
   },
   {
    "duration": 84,
    "start_time": "2024-09-13T07:19:13.728Z"
   },
   {
    "duration": 33,
    "start_time": "2024-09-13T07:19:13.814Z"
   },
   {
    "duration": 3,
    "start_time": "2024-09-13T07:19:13.849Z"
   },
   {
    "duration": 11,
    "start_time": "2024-09-13T07:19:13.854Z"
   },
   {
    "duration": 5,
    "start_time": "2024-09-13T07:19:13.866Z"
   },
   {
    "duration": 21,
    "start_time": "2024-09-13T07:19:13.873Z"
   },
   {
    "duration": 28,
    "start_time": "2024-09-13T07:19:13.895Z"
   },
   {
    "duration": 10,
    "start_time": "2024-09-13T07:19:13.925Z"
   },
   {
    "duration": 8,
    "start_time": "2024-09-13T07:19:13.936Z"
   },
   {
    "duration": 28,
    "start_time": "2024-09-13T07:19:13.946Z"
   },
   {
    "duration": 3,
    "start_time": "2024-09-13T07:19:13.976Z"
   },
   {
    "duration": 26,
    "start_time": "2024-09-13T07:19:13.981Z"
   },
   {
    "duration": 19,
    "start_time": "2024-09-13T07:19:14.008Z"
   },
   {
    "duration": 1352,
    "start_time": "2024-09-13T09:20:35.859Z"
   },
   {
    "duration": 87,
    "start_time": "2024-09-13T09:20:37.213Z"
   },
   {
    "duration": 11,
    "start_time": "2024-09-13T09:20:37.302Z"
   },
   {
    "duration": 13,
    "start_time": "2024-09-13T09:20:37.315Z"
   },
   {
    "duration": 10,
    "start_time": "2024-09-13T09:20:37.336Z"
   },
   {
    "duration": 6,
    "start_time": "2024-09-13T09:20:37.357Z"
   },
   {
    "duration": 18,
    "start_time": "2024-09-13T09:20:37.365Z"
   },
   {
    "duration": 55,
    "start_time": "2024-09-13T09:20:37.384Z"
   },
   {
    "duration": 5,
    "start_time": "2024-09-13T09:20:37.441Z"
   },
   {
    "duration": 12,
    "start_time": "2024-09-13T09:20:37.448Z"
   },
   {
    "duration": 96,
    "start_time": "2024-09-13T09:20:37.461Z"
   },
   {
    "duration": 4,
    "start_time": "2024-09-13T09:20:37.559Z"
   },
   {
    "duration": 33,
    "start_time": "2024-09-13T09:20:37.565Z"
   },
   {
    "duration": 47,
    "start_time": "2024-09-13T09:20:37.600Z"
   },
   {
    "duration": 79,
    "start_time": "2024-09-13T09:20:37.651Z"
   },
   {
    "duration": 16,
    "start_time": "2024-09-13T09:20:37.736Z"
   },
   {
    "duration": 4,
    "start_time": "2024-09-13T09:20:37.755Z"
   },
   {
    "duration": 7,
    "start_time": "2024-09-13T09:20:37.760Z"
   },
   {
    "duration": 168,
    "start_time": "2024-09-13T09:20:37.768Z"
   },
   {
    "duration": 122,
    "start_time": "2024-09-13T09:20:37.941Z"
   },
   {
    "duration": 6,
    "start_time": "2024-09-13T09:20:38.064Z"
   },
   {
    "duration": 12,
    "start_time": "2024-09-13T09:20:38.072Z"
   },
   {
    "duration": 23,
    "start_time": "2024-09-13T09:20:38.085Z"
   },
   {
    "duration": 13,
    "start_time": "2024-09-13T09:20:38.110Z"
   },
   {
    "duration": 319,
    "start_time": "2024-09-13T09:20:38.131Z"
   },
   {
    "duration": 229,
    "start_time": "2024-09-13T09:20:38.452Z"
   },
   {
    "duration": 6,
    "start_time": "2024-09-13T09:20:38.683Z"
   },
   {
    "duration": 23,
    "start_time": "2024-09-13T09:20:38.690Z"
   },
   {
    "duration": 382,
    "start_time": "2024-09-13T09:20:38.715Z"
   },
   {
    "duration": 6,
    "start_time": "2024-09-13T09:20:39.099Z"
   },
   {
    "duration": 32,
    "start_time": "2024-09-13T09:20:39.107Z"
   },
   {
    "duration": 13,
    "start_time": "2024-09-13T09:20:39.142Z"
   },
   {
    "duration": 206,
    "start_time": "2024-09-13T09:20:39.157Z"
   },
   {
    "duration": 8,
    "start_time": "2024-09-13T09:20:39.365Z"
   },
   {
    "duration": 62,
    "start_time": "2024-09-13T09:20:39.374Z"
   },
   {
    "duration": 374,
    "start_time": "2024-09-13T09:20:39.441Z"
   },
   {
    "duration": 17,
    "start_time": "2024-09-13T09:20:39.817Z"
   },
   {
    "duration": 87,
    "start_time": "2024-09-13T09:20:39.835Z"
   },
   {
    "duration": 146,
    "start_time": "2024-09-13T09:20:39.923Z"
   },
   {
    "duration": 4,
    "start_time": "2024-09-13T09:20:40.070Z"
   },
   {
    "duration": 2,
    "start_time": "2024-09-13T09:20:40.078Z"
   },
   {
    "duration": 193,
    "start_time": "2024-09-13T09:20:40.081Z"
   },
   {
    "duration": 4,
    "start_time": "2024-09-13T09:20:40.276Z"
   },
   {
    "duration": 32,
    "start_time": "2024-09-13T09:20:40.282Z"
   },
   {
    "duration": 8,
    "start_time": "2024-09-13T09:20:40.316Z"
   },
   {
    "duration": 29,
    "start_time": "2024-09-13T09:20:40.325Z"
   },
   {
    "duration": 14,
    "start_time": "2024-09-13T09:20:40.356Z"
   },
   {
    "duration": 76,
    "start_time": "2024-09-13T09:20:40.372Z"
   },
   {
    "duration": 93,
    "start_time": "2024-09-13T09:20:40.450Z"
   },
   {
    "duration": 80,
    "start_time": "2024-09-13T09:20:40.548Z"
   },
   {
    "duration": 33,
    "start_time": "2024-09-13T09:20:40.634Z"
   },
   {
    "duration": 7,
    "start_time": "2024-09-13T09:20:40.668Z"
   },
   {
    "duration": 12,
    "start_time": "2024-09-13T09:20:40.677Z"
   },
   {
    "duration": 21,
    "start_time": "2024-09-13T09:20:40.690Z"
   },
   {
    "duration": 20,
    "start_time": "2024-09-13T09:20:40.714Z"
   },
   {
    "duration": 15,
    "start_time": "2024-09-13T09:20:40.735Z"
   },
   {
    "duration": 7,
    "start_time": "2024-09-13T09:20:40.751Z"
   },
   {
    "duration": 11,
    "start_time": "2024-09-13T09:20:40.760Z"
   },
   {
    "duration": 33,
    "start_time": "2024-09-13T09:20:40.772Z"
   },
   {
    "duration": 5,
    "start_time": "2024-09-13T09:20:40.807Z"
   },
   {
    "duration": 34,
    "start_time": "2024-09-13T09:20:40.814Z"
   },
   {
    "duration": 83,
    "start_time": "2024-09-13T09:20:40.852Z"
   },
   {
    "duration": 1304,
    "start_time": "2024-11-20T11:07:26.693Z"
   },
   {
    "duration": 74,
    "start_time": "2024-11-20T11:07:27.999Z"
   },
   {
    "duration": 11,
    "start_time": "2024-11-20T11:07:28.075Z"
   },
   {
    "duration": 13,
    "start_time": "2024-11-20T11:07:28.088Z"
   },
   {
    "duration": 6,
    "start_time": "2024-11-20T11:07:28.102Z"
   },
   {
    "duration": 14,
    "start_time": "2024-11-20T11:07:28.109Z"
   },
   {
    "duration": 10,
    "start_time": "2024-11-20T11:07:28.124Z"
   },
   {
    "duration": 5,
    "start_time": "2024-11-20T11:07:28.135Z"
   },
   {
    "duration": 4,
    "start_time": "2024-11-20T11:07:28.141Z"
   },
   {
    "duration": 16,
    "start_time": "2024-11-20T11:07:28.158Z"
   },
   {
    "duration": 100,
    "start_time": "2024-11-20T11:07:28.176Z"
   },
   {
    "duration": 5,
    "start_time": "2024-11-20T11:07:28.278Z"
   },
   {
    "duration": 53,
    "start_time": "2024-11-20T11:07:28.285Z"
   },
   {
    "duration": 16,
    "start_time": "2024-11-20T11:07:28.340Z"
   },
   {
    "duration": 73,
    "start_time": "2024-11-20T11:07:28.358Z"
   },
   {
    "duration": 10,
    "start_time": "2024-11-20T11:07:28.433Z"
   },
   {
    "duration": 6,
    "start_time": "2024-11-20T11:07:28.445Z"
   },
   {
    "duration": 15,
    "start_time": "2024-11-20T11:07:28.453Z"
   },
   {
    "duration": 174,
    "start_time": "2024-11-20T11:07:28.470Z"
   },
   {
    "duration": 110,
    "start_time": "2024-11-20T11:07:28.645Z"
   },
   {
    "duration": 13,
    "start_time": "2024-11-20T11:07:28.757Z"
   },
   {
    "duration": 16,
    "start_time": "2024-11-20T11:07:28.771Z"
   },
   {
    "duration": 5,
    "start_time": "2024-11-20T11:07:28.789Z"
   },
   {
    "duration": 11,
    "start_time": "2024-11-20T11:07:28.796Z"
   },
   {
    "duration": 284,
    "start_time": "2024-11-20T11:07:28.808Z"
   },
   {
    "duration": 205,
    "start_time": "2024-11-20T11:07:29.093Z"
   },
   {
    "duration": 6,
    "start_time": "2024-11-20T11:07:29.299Z"
   },
   {
    "duration": 13,
    "start_time": "2024-11-20T11:07:29.308Z"
   },
   {
    "duration": 358,
    "start_time": "2024-11-20T11:07:29.322Z"
   },
   {
    "duration": 9,
    "start_time": "2024-11-20T11:07:29.682Z"
   },
   {
    "duration": 68,
    "start_time": "2024-11-20T11:07:29.693Z"
   },
   {
    "duration": 12,
    "start_time": "2024-11-20T11:07:29.763Z"
   },
   {
    "duration": 224,
    "start_time": "2024-11-20T11:07:29.776Z"
   },
   {
    "duration": 8,
    "start_time": "2024-11-20T11:07:30.001Z"
   },
   {
    "duration": 78,
    "start_time": "2024-11-20T11:07:30.010Z"
   },
   {
    "duration": 420,
    "start_time": "2024-11-20T11:07:30.089Z"
   },
   {
    "duration": 7,
    "start_time": "2024-11-20T11:07:30.510Z"
   },
   {
    "duration": 28,
    "start_time": "2024-11-20T11:07:30.518Z"
   },
   {
    "duration": 143,
    "start_time": "2024-11-20T11:07:30.547Z"
   },
   {
    "duration": 4,
    "start_time": "2024-11-20T11:07:30.692Z"
   },
   {
    "duration": 26,
    "start_time": "2024-11-20T11:07:30.698Z"
   },
   {
    "duration": 158,
    "start_time": "2024-11-20T11:07:30.726Z"
   },
   {
    "duration": 5,
    "start_time": "2024-11-20T11:07:30.885Z"
   },
   {
    "duration": 12,
    "start_time": "2024-11-20T11:07:30.892Z"
   },
   {
    "duration": 10,
    "start_time": "2024-11-20T11:07:30.906Z"
   },
   {
    "duration": 38,
    "start_time": "2024-11-20T11:07:30.918Z"
   },
   {
    "duration": 30,
    "start_time": "2024-11-20T11:07:30.957Z"
   },
   {
    "duration": 146,
    "start_time": "2024-11-20T11:07:30.988Z"
   },
   {
    "duration": 94,
    "start_time": "2024-11-20T11:07:31.135Z"
   },
   {
    "duration": 81,
    "start_time": "2024-11-20T11:07:31.231Z"
   },
   {
    "duration": 43,
    "start_time": "2024-11-20T11:07:31.313Z"
   },
   {
    "duration": 9,
    "start_time": "2024-11-20T11:07:31.358Z"
   },
   {
    "duration": 23,
    "start_time": "2024-11-20T11:07:31.368Z"
   },
   {
    "duration": 19,
    "start_time": "2024-11-20T11:07:31.393Z"
   },
   {
    "duration": 18,
    "start_time": "2024-11-20T11:07:31.413Z"
   },
   {
    "duration": 3,
    "start_time": "2024-11-20T11:07:31.433Z"
   },
   {
    "duration": 5,
    "start_time": "2024-11-20T11:07:31.437Z"
   },
   {
    "duration": 7,
    "start_time": "2024-11-20T11:07:31.443Z"
   },
   {
    "duration": 40,
    "start_time": "2024-11-20T11:07:31.451Z"
   },
   {
    "duration": 17,
    "start_time": "2024-11-20T11:07:31.492Z"
   },
   {
    "duration": 10,
    "start_time": "2024-11-20T11:07:31.510Z"
   },
   {
    "duration": 17,
    "start_time": "2024-11-20T11:07:31.521Z"
   }
  ],
  "kernelspec": {
   "display_name": "Python 3 (ipykernel)",
   "language": "python",
   "name": "python3"
  },
  "language_info": {
   "codemirror_mode": {
    "name": "ipython",
    "version": 3
   },
   "file_extension": ".py",
   "mimetype": "text/x-python",
   "name": "python",
   "nbconvert_exporter": "python",
   "pygments_lexer": "ipython3",
   "version": "3.9.5"
  },
  "toc": {
   "base_numbering": 1,
   "nav_menu": {},
   "number_sections": true,
   "sideBar": true,
   "skip_h1_title": true,
   "title_cell": "Table of Contents",
   "title_sidebar": "Contents",
   "toc_cell": false,
   "toc_position": {},
   "toc_section_display": true,
   "toc_window_display": false
  }
 },
 "nbformat": 4,
 "nbformat_minor": 2
}
